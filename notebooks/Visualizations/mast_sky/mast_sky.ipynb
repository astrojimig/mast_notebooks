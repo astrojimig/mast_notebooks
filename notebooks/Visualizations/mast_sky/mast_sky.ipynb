{
 "cells": [
  {
   "cell_type": "markdown",
   "metadata": {},
   "source": [
    "<a id=\"top\"></a>\n",
    "# MAST'S View of the Sky\n",
    "***\n",
    "## Learning Goals\n",
    "\n",
    "By the end of this tutorial, you will:\n",
    "\n",
    "- Create a visualization of the MAST archive and the data it contains\n",
    "- Learn about some of the different missions with data hosted at MAST and what their footprints look like\n",
    "- Understand how to convert between celestial coordinates (RA, Dec) and other coordinate systems using astropy\n",
    "- Create your own wallpaper image of MAST to use as a Desktop background!\n"
   ]
  },
  {
   "cell_type": "markdown",
   "metadata": {
    "slideshow": {
     "slide_type": "slide"
    }
   },
   "source": [
    "## Table of Contents\n",
    "* [Introduction](#Introduction)\n",
    "* [Imports](#Imports)\n",
    "* [MAST's View of the Sky](#MAST's-View-of-the-Sky)\n",
    "    * [Making a Map of MAST Data](#Making-a-Map-of-MAST-Data)\n",
    "    * [What am I looking at?](#What-am-I-looking-at?)\n",
    "* [Projecting to Different Coordinate Systems](#Projecting-to-Different-Coordinate-Systems)\n",
    "    * [Ecliptic Coordinates](#Ecliptic-Coordinates)\n",
    "    * [Galactic Coordinates](#Galactic-Coordinates)\n",
    "* [MAST Wallpaper Image](#MAST-Wallpaper-Image)\n",
    "* [Additional Resources](#Additional-Resources)\n",
    "  * [Citations](#Citations)\n",
    "  * [About this Notebook](#About-this-Notebook)\n",
    "\n",
    "# Introduction\n",
    "As of July 2025, the [Mikulski Archive for Space Telescope (MAST)](https://archive.stsci.edu) contains nearly *300 million* astronomical observations from over 20 different telescope missions including the Hubble Space Telescope (HST), the James Webb Space Telescope (JWST), and the Transiting Exoplanet Survey Satellite (TESS).\n",
    "\n",
    "That's a lot of data - but what does it look like? In this notebook, we will create a visualization of MAST data on the sky, and learn about the variety of different missions hosted at MAST!"
   ]
  },
  {
   "cell_type": "markdown",
   "metadata": {
    "slideshow": {
     "slide_type": "slide"
    }
   },
   "source": [
    "## Imports\n",
    "These are the packages we will need for this notebook:\n",
    "\n",
    "- *numpy* to handle array functions\n",
    "- *astropy.coordinates* for handling astronomical coordinates\n",
    "- *astropy.units* for handling astronomical units\n",
    "- *astroquery.mast* for resolving coordinates of different targets\n",
    "\n",
    "- *matplotlib.pyplot* for plotting data\n",
    "- *matplotlib.colors* for creating custom color maps\n",
    "- *matplotlib.image* for plotting png image files\n",
    "\n"
   ]
  },
  {
   "cell_type": "code",
   "execution_count": null,
   "metadata": {
    "slideshow": {
     "slide_type": "fragment"
    }
   },
   "outputs": [],
   "source": [
    "%matplotlib inline\n",
    "\n",
    "# Imports for working with data\n",
    "import numpy as np\n",
    "from astropy.coordinates import SkyCoord, ICRS\n",
    "from astropy import units\n",
    "from astroquery.mast import Observations\n",
    "\n",
    "# Imports for plotting images\n",
    "import matplotlib.pyplot as plt\n",
    "from matplotlib.colors import LogNorm, LinearSegmentedColormap\n",
    "from matplotlib.image import imread\n",
    "from matplotlib import patheffects\n"
   ]
  },
  {
   "cell_type": "markdown",
   "metadata": {},
   "source": [
    "This cell updates some of the settings in `matplotlib` to use larger font sizes in the figures:"
   ]
  },
  {
   "cell_type": "code",
   "execution_count": null,
   "metadata": {},
   "outputs": [],
   "source": [
    "#Update Plotting Parameters\n",
    "params = {'axes.labelsize': 12, 'xtick.labelsize': 12, 'ytick.labelsize': 12, \n",
    "          'text.usetex': False, 'lines.linewidth': 1,\n",
    "          'axes.titlesize': 18, 'font.family': 'serif', 'font.size': 12}\n",
    "plt.rcParams.update(params)"
   ]
  },
  {
   "cell_type": "markdown",
   "metadata": {},
   "source": [
    "***"
   ]
  },
  {
   "cell_type": "markdown",
   "metadata": {},
   "source": [
    "# MAST's View of the Sky\n",
    "\n",
    "MAST is like a library - our collections are open to the public and free of cost. For both libraries and MAST, maintaining a detailed catalog that lists everything in the collection is extremely important to help people find what they are looking for. A library might catalog the book title, author's name, publishing year, and the location on the shelf for every book in its collection. At MAST, we maintain a list of the filenames, the astronomical coordinates, the exposure date, which telescope was used, and so much more, for every single file in the archive. This information is referred to as 'metadata' - important information which describes the contents of every file!\n",
    "\n",
    "At MAST, this metadata catalog is accessible from your web browser using the [MAST Portal](https://mast.stsci.edu/portal/Mashup/Clients/Mast/Portal.html), in Python using [astroquery.MAST](https://astroquery.readthedocs.io/en/latest/mast/mast.html), or using the [Table Access Protocal (VO-TAP)](https://mast.stsci.edu/vo-tap/) service. With this MAST metadata catalog, we can retrieve a huge list of astronomical coordinates for every observation in MAST.\n",
    "\n",
    "For this notebook, we did the hard work for you and have created a file named `mast_obscounts.npz` which contains the observation counts in MAST for every coordinate in the sky. This file was last updated in July 2025. \n",
    "\n",
    "*A Note of Caution:* We do not recommend trying to re-create this file yourself, because MAST contains A LOT of data and the large query will fill up your computer's RAM memory quickly. If you need to perform large queries or want a higher-resolution version of this file, please contact the [MAST Helpdesk](https://outerspace.stsci.edu/display/MASTDOCS/Archive+Support).\n",
    "\n",
    "## Making a Map of MAST Data"
   ]
  },
  {
   "cell_type": "markdown",
   "metadata": {
    "slideshow": {
     "slide_type": "slide"
    }
   },
   "source": [
    "The file provided with this notebook, `mast_obscounts.npz`, contains the observation counts in MAST for every coordinate in the sky. Let's open the file and view it's contents:"
   ]
  },
  {
   "cell_type": "code",
   "execution_count": null,
   "metadata": {
    "slideshow": {
     "slide_type": "fragment"
    }
   },
   "outputs": [],
   "source": [
    "# Load in the file\n",
    "mast_data = np.load(\"mast_obscounts.npz\")\n",
    "\n",
    "# Print file information\n",
    "mast_data"
   ]
  },
  {
   "cell_type": "markdown",
   "metadata": {},
   "source": [
    "This file has three keys: `data`, `ra`, and `dec`.\n",
    "\n",
    "- The `data` array contains the *number of observations* in MAST for each coordinate\n",
    "- The right Ascension (`ra`) and Declination (`dec`) arrays are the astronomical coordinates (in degrees) defining the grid over which the data was counted.\n",
    "\n",
    "We we save each of these as it's own variable:"
   ]
  },
  {
   "cell_type": "code",
   "execution_count": null,
   "metadata": {},
   "outputs": [],
   "source": [
    "ra_coords = mast_data['ra']\n",
    "dec_coords = mast_data['dec']\n",
    "observation_counts = mast_data['data']"
   ]
  },
  {
   "cell_type": "markdown",
   "metadata": {},
   "source": [
    "And print some basic information about each aarray:"
   ]
  },
  {
   "cell_type": "code",
   "execution_count": null,
   "metadata": {},
   "outputs": [],
   "source": [
    "print(f\"Shape of observation_counts: {observation_counts.shape}\")\n",
    "print(f\"ra_coords: {np.min(ra_coords)} to {np.max(ra_coords)} deg in {len(ra_coords)} steps\")\n",
    "print(f\"dec_coords: {np.min(dec_coords)} to {np.max(dec_coords)} deg in {len(dec_coords)} steps\")\n",
    "\n",
    "print(f\"Total number of Observations: {np.sum(observation_counts)}\")"
   ]
  },
  {
   "cell_type": "markdown",
   "metadata": {},
   "source": [
    "This shows us that `observation_counts` is a 2D array, with a size of `(2100, 1050)`, covering the sky from 0 to 360 degrees in RA and -90 to 90 degrees in Declination!\n",
    "\n",
    "Let's plot this data using `plt.imshow()` to see what it looks like! We will create a plot of the sky, with Right Ascension on the x-axis and Declination on the y-axis. Each pixel in the image will be colored according to the number of observations in MAST at that location."
   ]
  },
  {
   "cell_type": "code",
   "execution_count": null,
   "metadata": {},
   "outputs": [],
   "source": [
    "# Initiate plot\n",
    "plt.figure(figsize=(12,5))\n",
    "\n",
    "# Make the background of the plot black\n",
    "plt.axvspan(0, 360, color='k', zorder=-1)\n",
    "\n",
    "# Define a custom color map\n",
    "# This will create a gradient from black to blue to white!\n",
    "colormap = LinearSegmentedColormap.from_list(\"\", \n",
    "               [\"black\",\"midnightblue\",\"#1a619f\",\n",
    "                \"deepskyblue\",\"white\"])\n",
    "\n",
    "# Plot the data\n",
    "im = plt.imshow(observation_counts.T,\n",
    "                cmap=colormap, # Set colormap\n",
    "                norm = LogNorm(10, 1e3), # Define limits of colormap\n",
    "                extent = [0, 360, -90, 90], # Set the limits of the data\n",
    "                origin='lower',)\n",
    "\n",
    "plt.colorbar(im, label=\"Observation Counts\", \n",
    "             extend='both')\n",
    "\n",
    "# Set axes limits\n",
    "plt.xlim(0, 360)\n",
    "plt.ylim(-90,90)\n",
    "\n",
    "# Add labels to plot\n",
    "plt.title(\"MAST's View of the Sky\")\n",
    "plt.xlabel(\"Right Ascension\")\n",
    "plt.ylabel(\"Declination\")\n",
    "\n",
    "plt.show()"
   ]
  },
  {
   "cell_type": "markdown",
   "metadata": {},
   "source": [
    "### What am I looking at?\n",
    "\n",
    "This image is pretty, but what is it? It doesn't look like your standard picture of the sky. There are some recognizable features, like the U-shaped Milky Way spanning across the image, but what are all of those rectangles?\n",
    "\n",
    "Let's annotate this plot to get a better idea of what's going on! "
   ]
  },
  {
   "cell_type": "markdown",
   "metadata": {},
   "source": [
    "First, let's find the maximum of the image - the coordinates in our grid that have been observed the highest number of times in MAST"
   ]
  },
  {
   "cell_type": "code",
   "execution_count": null,
   "metadata": {},
   "outputs": [],
   "source": [
    "print(f\"Maxmimum Observations at a Single Location\")\n",
    "\n",
    "print(f\"Number of Observations: {np.max(observation_counts)}\")\n",
    "\n",
    "max_i = np.unravel_index(np.argmax(observation_counts),\n",
    "                         observation_counts.shape)\n",
    "\n",
    "print(f\"RA = {ra_coords[max_i[0]]} deg\")\n",
    "print(f\"DEC = {dec_coords[max_i[1]]} deg\")"
   ]
  },
  {
   "cell_type": "markdown",
   "metadata": {},
   "source": [
    "We have the coordinates, but we don't really know what this is yet! Luckily, can get the coordinates for almost any named astronomical object using the `Observations.resolve_object()` function. For example, if you want to know the coordinates of the [Andromeda galaxy (also knowns as 'M31')](https://science.nasa.gov/mission/hubble/science/explore-the-night-sky/hubble-messier-catalog/messier-31/), the closest big spiral galaxy to the Milky Way, you can search:"
   ]
  },
  {
   "cell_type": "code",
   "execution_count": null,
   "metadata": {},
   "outputs": [],
   "source": [
    "# Retrieve coordinates of the Andromeda Galaxy\n",
    "Observations.resolve_object('Andromeda Galaxy')\n",
    "\n",
    "# Andromeda is also known as M31: This also works, and gives the same results!\n",
    "Observations.resolve_object('M31')"
   ]
  },
  {
   "cell_type": "markdown",
   "metadata": {},
   "source": [
    "...or if you want to know the coordinates for the center of the Milky Way galaxy, you can search for the black hole named [Sagittarius A* (\"Sgr A*\" for short)](https://www.nasa.gov/image-article/supermassive-black-hole-sagittarius/)."
   ]
  },
  {
   "cell_type": "code",
   "execution_count": null,
   "metadata": {},
   "outputs": [],
   "source": [
    "# Retrieve coordinates of the center of the MW\n",
    "Observations.resolve_object('Sgr A*')"
   ]
  },
  {
   "cell_type": "markdown",
   "metadata": {},
   "source": [
    "What is your favorite astronomical target? Search for it's coordinates in the cell below!"
   ]
  },
  {
   "cell_type": "code",
   "execution_count": null,
   "metadata": {},
   "outputs": [],
   "source": [
    "# Retrieve coordinates of your favorite object!\n",
    "my_favorite_object = 'Crab Nebula'\n",
    "Observations.resolve_object(my_favorite_object)"
   ]
  },
  {
   "cell_type": "markdown",
   "metadata": {},
   "source": [
    "In the next cell, we are going to write a function that plots several astronomical objects to highlight on our plot. We will use the `Observations.resolve_object()` to get the coordinates, and then add each object to our plot!"
   ]
  },
  {
   "cell_type": "code",
   "execution_count": null,
   "metadata": {},
   "outputs": [],
   "source": [
    "def add_annotations():\n",
    "    \"\"\"\n",
    "    Adds annotations to a plot axes. These annotations highlight several areas\n",
    "    of interest on the MAST Data visualization plot!\n",
    "    \"\"\"\n",
    "    # Give the text a black outline for better visibility\n",
    "    path_effect = [patheffects.withStroke(linewidth=2, foreground=\"k\")]\n",
    "\n",
    "\n",
    "    # Define a list of targets we want to add to the plot\n",
    "    object_list = ['Andromeda Galaxy', 'Sgr A*', 'Crab Nebula',\n",
    "                   'Ring Nebula', 'Sombrero Galaxy', 'Messier 81',\n",
    "                   'Messier 33', \"Orion Nebula\",\n",
    "                   'Messier 67', 'Messier 83', 'Messier 2',\n",
    "                   'LMC', 'SMC', 'Omega Centauri', \n",
    "                   'GOODS-N Field', 'GOODS-S Field',\n",
    "                   'COSMOS Field', 'Virgo Cluster', 'Coma Cluster',\n",
    "\n",
    "                   ]\n",
    "        \n",
    "    # Annotate each object\n",
    "    for object in object_list:\n",
    "        # Resolve coordinates\n",
    "        coords = Observations.resolve_object(object)\n",
    "        # Plot the coordinates\n",
    "        plt.scatter(coords.ra.deg, coords.dec.deg,\n",
    "                   marker ='o', s=100, # plot as open circle\n",
    "                   color='white', facecolor='none',\n",
    "                   zorder=10, # top layer\n",
    "                   path_effects = path_effect\n",
    "                   )\n",
    "        # Add a label\n",
    "        plt.text(coords.ra.deg, coords.dec.deg, f\"  {object}\",\n",
    "                 ha='left', va='center', # text alignment\n",
    "                 color='white', fontsize=9,\n",
    "                # Give the text a black outline for better visibility\n",
    "                 path_effects = path_effect\n",
    ")\n",
    "    # Add a few more custom field examples\n",
    "    # Plot the plane of the Milky Way!\n",
    "    coord = SkyCoord(l = np.linspace(-100, 360+100, 500), \n",
    "                        b = np.zeros(500), unit='deg', frame = 'galactic')\n",
    "    coord = coord.transform_to(ICRS())\n",
    "    ra = np.array([r.value for r in coord.ra])\n",
    "    dec = np.array([d.value for d in coord.dec])\n",
    "    dec = dec[np.argsort(ra)]\n",
    "    ra = ra[np.argsort(ra)]\n",
    "    plt.plot(ra, dec, c='w', lw=2, linestyle=\":\", label = 'Milky Way')\n",
    "\n",
    "    # Kepler Field\n",
    "    ra = np.array([280.35706 , 289.601315, 291.859202, 293.46134 , 295.909203,\n",
    "       301.717391, 299.256026, 298.367126, 299.88208 , 291.270003,\n",
    "       289.664231, 288.372243, 286.216013, 280.010491, 281.945872,\n",
    "       282.421332, 280.35706])\n",
    "    dec = np.array([47.451248, 52.264435, 50.779018, 50.302547, 51.347939, 44.921898,\n",
    "       43.41193 , 42.448555, 40.933086, 36.728466, 38.252754, 39.03775 ,\n",
    "       37.425247, 43.764854, 44.933575, 45.964638, 47.451248])\n",
    "    plt.plot(ra, dec, c='yellow', path_effects=path_effect)\n",
    "    plt.text(np.median(ra)+30, np.median(dec)+14, 'Kepler field',\n",
    "            ha='center', va='center', \n",
    "            color='yellow', rotation=30,\n",
    "            zorder=10,\n",
    "            # Give the text a black outline for better visibility\n",
    "            path_effects = path_effect)\n",
    "    \n",
    "    # TESS Sectors example\n",
    "    cam1 = [[133.551896, 141.773709, 153.943518, 145.780484, 133.551896],\n",
    "            [-37.75945, -28.551867, -35.09302, -45.250728, -37.75945]]\n",
    "    cam2 = [[145.97794, 154.129099, 168.199924, 161.690434, 145.97794],\n",
    "            [-45.354798, -35.188894, -40.300275, -50.856598, -45.354798]]\n",
    "    cam3 = [[172.658597, 168.319248, 154.290886, 160.552346, 172.658597],\n",
    "            [-29.124892, -40.044401, -34.941887, -24.347663, -29.124892]]\n",
    "    cam4 = [[160.388788, 154.107103, 141.953841, 149.081756, 160.388788],\n",
    "            [-24.272883, -34.856823, -28.334722, -18.881219, -24.272883]]\n",
    "    for cam in [cam1,cam2,cam3,cam4]:\n",
    "        ra, dec = cam\n",
    "        ra = np.array(ra)\n",
    "        dec = np.array(dec)\n",
    "        plt.plot(ra, dec, 'yellow', zorder=10, path_effects=path_effect)\n",
    "    \n",
    "    plt.text(ra[np.argmin(dec)], dec[np.argmin(dec)], 'TESS Sectors',\n",
    "        ha='center', va='center', \n",
    "        color='yellow', rotation=-15,\n",
    "        zorder=100,\n",
    "        # Give the text a black outline for better visibility\n",
    "        path_effects = path_effect\n",
    "        )\n",
    "\n",
    "    # CANDELS Field\n",
    "    coords = SkyCoord(ra ='14h20m34.89s', dec = '53d0m15.4s')\n",
    "    plt.scatter(coords.ra.deg, coords.dec.deg,\n",
    "                   marker ='o', s=100, # plot as open circle\n",
    "                   color='white', facecolor='none',\n",
    "                   zorder=10, # top layer\n",
    "                   path_effects = path_effect\n",
    "                   )\n",
    "    plt.text(coords.ra.deg, coords.dec.deg, f\"  CANDELS\",\n",
    "                 ha='left', va='center', # text alignment\n",
    "                 color='white', fontsize=9,\n",
    "                path_effects = path_effect)        \n",
    "\n",
    "    # Add a legend\n",
    "    plt.legend(loc='lower right')\n",
    "\n",
    "    # Point out the pixel with the maximum number of observations\n",
    "    max_i = np.unravel_index(np.argmax(observation_counts),\n",
    "                            observation_counts.shape)\n",
    "    \n",
    "    plt.scatter(ra_coords[max_i[0]], dec_coords[max_i[1]],\n",
    "                   marker ='o', s=100, # plot as open circle\n",
    "                   color='red', facecolor='none',\n",
    "                   zorder=10, # top layer\n",
    "                   path_effects = [patheffects.withStroke(linewidth=2, foreground=\"w\")]\n",
    "                   )\n",
    "    # Add a label\n",
    "    plt.text(ra_coords[max_i[0]], dec_coords[max_i[1]],\n",
    "                f\"Most \\nObservations  \",\n",
    "                 ha='right', va='center', # text alignment\n",
    "                 color='w',fontsize=10,\n",
    "                 # Give the text a black outline for better visibility\n",
    "                 path_effects = [patheffects.withStroke(linewidth=2, foreground=\"r\")]\n",
    "    )\n",
    "\n",
    "    return\n"
   ]
  },
  {
   "cell_type": "code",
   "execution_count": null,
   "metadata": {},
   "outputs": [],
   "source": [
    "# Initiate plot\n",
    "plt.figure(figsize=(12,5))\n",
    "\n",
    "# Make the background of the plot black\n",
    "plt.axvspan(0, 360, color='k', zorder=-1)\n",
    "\n",
    "# Define a custom color map\n",
    "# This will create a gradient from black to blue to white!\n",
    "colormap = LinearSegmentedColormap.from_list(\"\", \n",
    "               [\"black\",\"midnightblue\",\"#1a619f\",\n",
    "                \"deepskyblue\",\"white\"])\n",
    "\n",
    "# Plot the data\n",
    "im = plt.imshow(observation_counts.T,\n",
    "                cmap=colormap, # Set colormap\n",
    "                norm = LogNorm(10, 1e3), # Define limits of colormap\n",
    "                extent = [0, 360, -90, 90], # Set the limits of the data\n",
    "                origin='lower',)\n",
    "\n",
    "plt.colorbar(im, label=\"Observation Counts\", \n",
    "             extend='both')\n",
    "\n",
    "# Add annotations using our function above\n",
    "add_annotations()\n",
    "\n",
    "# Set axes limits\n",
    "plt.xlim(0, 360)\n",
    "plt.ylim(-90,90)\n",
    "\n",
    "# Add labels to plot\n",
    "plt.title(\"MAST's View of the Sky\")\n",
    "plt.xlabel(\"Right Ascension (degrees)\")\n",
    "plt.ylabel(\"Declination (degrees)\")\n",
    "\n",
    "plt.show()"
   ]
  },
  {
   "cell_type": "markdown",
   "metadata": {},
   "source": [
    "With these annotations, we can more clearly understand different parts of this plot!!\n",
    "\n",
    "- Some aspects of this plot reflect what we can see in the sky - the disk of the Milky Way is the \"U\"-shaped stripe across the image. Some of our closest neighbor galaxies, like the Large Magellanic Cloud (LMC) and Small Magellanic Cloud (SMC) are visible near the bottom-left of the image!\n",
    "- The large rectangles that are most obvious along the lower half of the image are [TESS Sectors](https://tess.mit.edu/observations/)! The TESS telescope has a huge field of view, and observes giant rectangles that are 24° x 96° in size at a time.\n",
    "- The \"+\" shaped footprint in the upper-right that that is highlighted in yellow is the [footprint of the Kepler telescope](https://archive.stsci.edu/missions-and-data/kepler), [explain here]. You can also see fainter footprints near the equator, which are all from [the second Kepler Mission (K2)](https://archive.stsci.edu/missions-and-data/k2)\n",
    "- Some big programs from HST and JWST show up as really bright spots in this image too. The most obvious ones here are the [CANDELS](https://archive.stsci.edu/hlsp/candels) and [COSMOS](https://archive.stsci.edu/prepds/cosmos/) fields, which were two of the largest observing programs done by HST.\n",
    "\n",
    "But in general, the bright spots peppered around all throughout the image are the locations of many interesting astronomical targets, from nebulaes like the Orion Nebula to galaxies like Andromeda or M81. The brightest points in this image are locations that scientists observe again and again and again, with different telescopes and instruments and at different times - the most interesting parts of the sky!"
   ]
  },
  {
   "cell_type": "markdown",
   "metadata": {},
   "source": [
    "## Projecting to Different Coordinate Systems\n",
    "\n",
    "So far, we have made plots using the standard Celestial Coordinate system, using right ascension (RA) and declination (Dec). This is not the only coordinate system used in astronomy however! Different applications might require different coordinate systems: while the standard celestial coordinate system is centered on the Earth, Ecliptic Coordinates are centered on the ecliptic plane, Earth's orbit around the Sun.\n",
    "\n",
    "Using [astropy.coordinates](https://docs.astropy.org/en/stable/coordinates/index.html), it is pretty easy to reproject all of our MAST data into another frame. All of the [available coordinate systems are listed here](https://docs.astropy.org/en/stable/coordinates/index.html#module-astropy.coordinates.builtin_frames), but we will explore two in particular: `geocentricmeanecliptic` and `galactic`!"
   ]
  },
  {
   "cell_type": "markdown",
   "metadata": {},
   "source": [
    "### Ecliptic Coordinates\n",
    "\n",
    "As a quick refresher, MAST uses coordinates aligned to the celestial pole, which is aligned to our rotating Earth. A declination of +90 is directly overhead the north pole, while -90 is directly overhead the south pole. Our first transformation is to the ecliptic plane, aligned instead to Earth's orbit around the sun:\n",
    "\n",
    "<center>\n",
    "<img src=\"https://upload.wikimedia.org/wikipedia/commons/thumb/e/e9/Earths_orbit_and_ecliptic.svg/1024px-Earths_orbit_and_ecliptic.svg.png?20241205045923\" alt=\"A diagram showing how the ecliptic plane is defined\" width=\"300px\"><br>\n",
    "<small>By <a href=\"//commons.wikimedia.org/wiki/User:CielProfond\" title=\"User:CielProfond\">CielProfond</a> - <span class=\"int-own-work\" lang=\"en\">Own work</span>, <a href=\"https://creativecommons.org/licenses/by-sa/4.0\" title=\"Creative Commons Attribution-Share Alike 4.0\">CC BY-SA 4.0</a>, <a href=\"https://commons.wikimedia.org/w/index.php?curid=156276169\">Source</a></small>\n",
    "</center>\n",
    "\n",
    "\n",
    "Ecliptic coordinates are useful for space-based telescopes, since the sun is — by definition —always at a declination of 0º. In fact, the [survey design of the TESS spacecraft](https://youtu.be/Q4KjvPIbgMI&t=115) takes advantage of this by always keeping one camera on the ecliptic pole, with the others facing opposite the sun.\n"
   ]
  },
  {
   "cell_type": "code",
   "execution_count": null,
   "metadata": {},
   "outputs": [],
   "source": [
    "# Convert from the grid edges into a meshgrid\n",
    "x, y = np.meshgrid(ra_coords, dec_coords)\n",
    "\n",
    "# Iniate a SkyCoord object with these coordinates\n",
    "orig_coords = SkyCoord(x, y, frame=\"icrs\", unit=\"deg\")\n",
    "\n",
    "# Transform coordinates to Ecliptic Coordinate\n",
    "coords_ecl = orig_coords.transform_to('geocentricmeanecliptic')\n",
    "x_ecl = coords_ecl.lon.degree\n",
    "y_ecl = coords_ecl.lat.degree"
   ]
  },
  {
   "cell_type": "markdown",
   "metadata": {},
   "source": [
    "Now we can remake our plot in ecliptic coordinates!"
   ]
  },
  {
   "cell_type": "code",
   "execution_count": null,
   "metadata": {},
   "outputs": [],
   "source": [
    "# Initiate plot\n",
    "plt.figure(figsize=(12,5))\n",
    "\n",
    "# Make the background of the plot black\n",
    "plt.axvspan(0, 360, color='k', zorder=-1)\n",
    "\n",
    "# Define a custom color map\n",
    "# This will create a gradient from black to blue to white!\n",
    "colormap = LinearSegmentedColormap.from_list(\"\", \n",
    "               [\"black\",\"midnightblue\",\"#1a619f\",\n",
    "                \"deepskyblue\",\"white\"])\n",
    "\n",
    "\n",
    "im = plt.scatter(x_ecl.flatten(), y_ecl.flatten(), \n",
    "                 c=observation_counts.T.flatten(),\n",
    "                    cmap=colormap, # Set colormap\n",
    "                    norm = LogNorm(10, 1e3), # Define limits of colormap\n",
    "                    marker='.',s=1)\n",
    "\n",
    "plt.colorbar(im, label=\"Observation Counts\", \n",
    "             extend='both')\n",
    "\n",
    "\n",
    "# Set axes limits\n",
    "plt.xlim(0, 360)\n",
    "plt.ylim(-90,90)\n",
    "\n",
    "# Add labels to plot\n",
    "plt.title(\"MAST's View of the Sky (Ecliptic Coordinates)\")\n",
    "plt.xlabel(\"Longitude\")\n",
    "plt.ylabel(\"Latitude\")\n",
    "\n",
    "plt.show()"
   ]
  },
  {
   "cell_type": "markdown",
   "metadata": {},
   "source": [
    "### Galactic Coordinates\n",
    "\n",
    "Galactic coordinates are defined so that the Milky Way Galaxy is...\n",
    "\n",
    "Somewhat counter-intuitively, galactic coordinates are still centered on our Sun. In this case, 0º longitude is defined to be the line between the sun and the center of the galaxy. Latitude measures the angle of an object relative to the flat disk of the galaxy, as seen from Earth.\n",
    "\n",
    "<center>\n",
    "<img src=\"https://upload.wikimedia.org/wikipedia/commons/thumb/1/12/Artist%27s_impression_of_the_Milky_Way_%28updated_-_annotated%29.jpg/1200px-Artist%27s_impression_of_the_Milky_Way_%28updated_-_annotated%29.jpg?20130920225409\" alt=\"alt text\" width=\"300px\"><br>\n",
    "<small>By NASA/JPL-Caltech/ESO/R. Hurt - <a rel=\"nofollow\" class=\"external free\" href=\"http://www.eso.org/public/images/eso1339e/\">http://www.eso.org/public/images/eso1339e/</a>, Public Domain, <a href=\"https://commons.wikimedia.org/w/index.php?curid=28274906\">Source</a></small>\n",
    "</center>\n",
    "\n",
    "\n",
    "The nice thing about using the galactic coordinate system is that most stars are near the plane of the galaxy, so it shows up quite nicely on our plot!"
   ]
  },
  {
   "cell_type": "code",
   "execution_count": null,
   "metadata": {},
   "outputs": [],
   "source": [
    "# Convert from the grid edges into a meshgrid\n",
    "x, y = np.meshgrid(ra_coords, dec_coords)\n",
    "\n",
    "# Iniate a SkyCoord object with these coordinates\n",
    "orig_coords = SkyCoord(x, y, frame=\"icrs\", unit=\"deg\")\n",
    "\n",
    "# Transform coordinates to Galactocentric Coordinates\n",
    "coords_gal = orig_coords.transform_to('galactic')\n",
    "x_gal = coords_gal.l.wrap_at(180*units.degree).degree+180\n",
    "y_gal = coords_gal.b.degree"
   ]
  },
  {
   "cell_type": "code",
   "execution_count": null,
   "metadata": {},
   "outputs": [],
   "source": [
    "# Initiate plot\n",
    "plt.figure(figsize=(12,5))\n",
    "\n",
    "# Make the background of the plot black\n",
    "plt.axvspan(0, 360, color='k', zorder=-1)\n",
    "\n",
    "# Define a custom color map\n",
    "# This will create a gradient from black to blue to white!\n",
    "colormap = LinearSegmentedColormap.from_list(\"\", \n",
    "               [\"black\",\"midnightblue\",\"#1a619f\",\n",
    "                \"deepskyblue\",\"white\"])\n",
    "\n",
    "\n",
    "im = plt.scatter(x_gal.flatten(), y_gal.flatten(), \n",
    "                 c=observation_counts.T.flatten(),\n",
    "                    cmap=colormap, # Set colormap\n",
    "                    norm = LogNorm(10, 1e3), # Define limits of colormap\n",
    "                    marker='.',s=1)\n",
    "\n",
    "plt.colorbar(im, label=\"Observation Counts\", \n",
    "             extend='both')\n",
    "\n",
    "\n",
    "# Set axes limits\n",
    "plt.xlim(0, 360)\n",
    "plt.ylim(-90,90)\n",
    "\n",
    "# Add labels to plot\n",
    "plt.title(\"MAST's View of the Sky (Galactic Coordinates)\")\n",
    "plt.xlabel(\"Galactic Longitude (l)\")\n",
    "plt.ylabel(\"Galactic Longitude (b)\")\n",
    "\n",
    "plt.show()"
   ]
  },
  {
   "cell_type": "markdown",
   "metadata": {},
   "source": [
    "## Wallpaper Image\n",
    "\n",
    "Just for fun, let's make a pretty version of this plot to use as a Desktop Wallpaper, removing the axes and labels and focusing on the image."
   ]
  },
  {
   "cell_type": "code",
   "execution_count": null,
   "metadata": {},
   "outputs": [],
   "source": [
    "# Initiate plot - 16:9 aspect ratio for wallpaper\n",
    "plt.figure(figsize=(16,9))\n",
    "\n",
    "ax = plt.subplot()\n",
    "\n",
    "# Make the background of the plot black\n",
    "plt.style.use(\"dark_background\")\n",
    "plt.axvspan(0, 360, color='k', zorder=-1)\n",
    "\n",
    "# Define a custom color map\n",
    "# This will create a gradient from black to blue to white!\n",
    "colormap = LinearSegmentedColormap.from_list(\"\", \n",
    "               [\"black\",\"midnightblue\",\"#1a619f\",\n",
    "                \"deepskyblue\",\"white\"])\n",
    "\n",
    "# Plot the data\n",
    "im = ax.imshow(observation_counts.T,\n",
    "                cmap=colormap, # Set colormap\n",
    "                norm = LogNorm(10, 1e3), # Define limits of colormap\n",
    "                extent = [0, 360, -90, 90], # Set the limits of the data\n",
    "                origin='lower',)\n",
    "\n",
    "# Add MAST logo to corner\n",
    "mast_logo = imread('imgs/MAST-Logo-Horizontal.png')\n",
    "# preserve aspect ratio so the logo isn't skewed\n",
    "mast_logo_ratio = mast_logo.shape[0] / mast_logo.shape[1] * (8/9)\n",
    "# Need extra 8/9 because the figure size is 16:9 but the pixel size is 16:8\n",
    "mast_logo_size=120 #degrees\n",
    "ax.imshow(mast_logo,\n",
    "           zorder=100,# bring to front of plot\n",
    "           extent=[359-mast_logo_size, 359,\n",
    "                   -89, -89+mast_logo_size*mast_logo_ratio],\n",
    "                  )\n",
    "                  \n",
    "# Set axes limits\n",
    "plt.xlim(0, 360)\n",
    "plt.ylim(-90,90)\n",
    "\n",
    " # turn off axes\n",
    "plt.axis('off') \n",
    "# Force aspect ratio 16:9\n",
    "ax.set_aspect('auto')\n",
    "\n",
    "# Save file\n",
    "plt.savefig(f\"mast_wallpaper.png\",\n",
    "            bbox_inches='tight', \n",
    "            dpi=300)\n",
    "\n",
    "plt.savefig(\"mast_visualization.png\", bbox_inches=\"tight\")\n",
    "plt.show()"
   ]
  },
  {
   "cell_type": "markdown",
   "metadata": {},
   "source": [
    "Nice! Just for fun, we can make this image again in different colors. Try out any colormap you want - [all of the colormaps available in Python are listed here](https://matplotlib.org/stable/users/explain/colors/colormaps.html)!"
   ]
  },
  {
   "cell_type": "code",
   "execution_count": null,
   "metadata": {},
   "outputs": [],
   "source": [
    "colormap = 'magma'"
   ]
  },
  {
   "cell_type": "code",
   "execution_count": null,
   "metadata": {},
   "outputs": [],
   "source": [
    "# Initiate plot - 16:9 aspect ratio for wallpaper\n",
    "plt.figure(figsize=(16,9))\n",
    "\n",
    "ax = plt.subplot()\n",
    "\n",
    "# Make the background of the plot black\n",
    "plt.style.use(\"dark_background\")\n",
    "plt.axvspan(0, 360, color='k', zorder=-1)\n",
    "\n",
    "# Plot the data\n",
    "im = ax.imshow(observation_counts.T,\n",
    "                cmap=colormap, # Set colormap\n",
    "                norm = LogNorm(10, 1e3), # Define limits of colormap\n",
    "                extent = [0, 360, -90, 90], # Set the limits of the data\n",
    "                origin='lower',)\n",
    "\n",
    "\n",
    "# Add MAST logo to corner\n",
    "mast_logo = imread('imgs/MAST-Logo-Horizontal.png')\n",
    "# preserve aspect ratio so the logo isn't skewed\n",
    "mast_logo_ratio = mast_logo.shape[0] / mast_logo.shape[1] * (8/9)\n",
    "# Need extra 8/9 because the figure size is 16:9 but the pixel size is 16:8\n",
    "mast_logo_size=120 #degrees\n",
    "ax.imshow(mast_logo,\n",
    "           zorder=100,# bring to front of plot\n",
    "           extent=[359-mast_logo_size, 359,\n",
    "                   -89, -89+mast_logo_size*mast_logo_ratio],\n",
    "                  )\n",
    "                  \n",
    "# Set axes limits\n",
    "plt.xlim(0, 360)\n",
    "plt.ylim(-90,90)\n",
    "\n",
    " # turn off axes\n",
    "plt.axis('off') \n",
    "# Force aspect ratio 16:9\n",
    "ax.set_aspect('auto')\n",
    "\n",
    "# Save file\n",
    "plt.savefig(f\"mast_wallpaper.png\",\n",
    "            bbox_inches='tight', \n",
    "            dpi=300)\n",
    "\n",
    "plt.show()"
   ]
  },
  {
   "cell_type": "markdown",
   "metadata": {},
   "source": [
    "## Additional Resources\n",
    "\n",
    "Additional resources are linked below:\n",
    "\n",
    "- [MAST Home Page](https://archive.stsci.edu)\n",
    "- [About MAST](https://archive.stsci.edu/about-mast)\n",
    "- [MAST Helpdesk](https://outerspace.stsci.edu/display/MASTDOCS/Archive+Support)"
   ]
  },
  {
   "cell_type": "markdown",
   "metadata": {},
   "source": [
    "### Citations\n",
    "\n",
    "If you use this visualization for published work, see the following links for information on which citations to include:\n",
    "\n",
    "* [Citing MAST](https://archive.stsci.edu/publishing/mission-acknowledgements)\n",
    "* [Citing astropy](https://www.astropy.org/acknowledging.html)\n"
   ]
  },
  {
   "cell_type": "markdown",
   "metadata": {
    "slideshow": {
     "slide_type": "slide"
    }
   },
   "source": [
    "### About this Notebook\n",
    "\n",
    "**Author(s):** Julie Imig (jimig@stsci.edu), Thomas Dutkiewicz (tdutkiewicz@stsci.edu)<br>\n",
    "**Keyword(s):** Tutorial, MAST, data visualization <br>\n",
    "**First published:** July 2025 <br>\n",
    "**Last updated:** July 2025 <br>\n",
    "\n",
    "***\n",
    "[Top of Page](#top)\n",
    "<img style=\"float: right;\" src=\"https://raw.githubusercontent.com/spacetelescope/style-guides/master/guides/images/stsci-logo.png\" alt=\"Space Telescope Logo\" width=\"200px\"/> "
   ]
  }
 ],
 "metadata": {
  "kernelspec": {
   "display_name": "sdss",
   "language": "python",
   "name": "python3"
  },
  "language_info": {
   "codemirror_mode": {
    "name": "ipython",
    "version": 3
   },
   "file_extension": ".py",
   "mimetype": "text/x-python",
   "name": "python",
   "nbconvert_exporter": "python",
   "pygments_lexer": "ipython3",
   "version": "3.11.10"
  }
 },
 "nbformat": 4,
 "nbformat_minor": 4
}
