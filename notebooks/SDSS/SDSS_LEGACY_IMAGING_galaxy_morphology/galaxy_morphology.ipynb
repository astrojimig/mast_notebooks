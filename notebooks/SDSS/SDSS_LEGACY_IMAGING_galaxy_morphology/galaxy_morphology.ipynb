{
 "cells": [
  {
   "cell_type": "markdown",
   "id": "4b888cd3",
   "metadata": {},
   "source": [
    "# Galaxy Morphology with SDSS and Astrocut\n",
    "***\n",
    "\n",
    "## Learning Goals \n",
    "By the end of this tutorial, you will:\n",
    "\n",
    "- Understand how to use `astroquery.mast` to download the SDSS Legacy Imaging Survey Data from the MAST archive.\n",
    "- Utilize `astrocut` to create colorized cropped images from 12 different galaxies.\n",
    "- Construct a Hubble Tuning Fork Diagram from the cropped images to learn about galaxy morphology."
   ]
  },
  {
   "cell_type": "markdown",
   "id": "cc98235c",
   "metadata": {},
   "source": [
    "## Table of Contents\n",
    "* [Introduction](#introduction)\n",
    "* [Imports](#imports)\n",
    "* [Accessing SDSS Legacy Imaging Survey Data from MAST](#accessing-sdss-legacy-imaging-survey-data-from-mast)\n",
    "  * [Querying SDSS Legacy Imaging Survey](#querying-sdss-legacy-imaging-survey)\n",
    "  * [Gathering Galaxies from the SDSS Legacy Imaging Survey](#gathering-galaxies-from-the-sdss-legacy-imaging-survey)\n",
    "    * [Elliptical Galaxies](#elliptical-galaxies)\n",
    "    * [Lenticular Galaxies](#lenticular-galaxies)\n",
    "    * [Spiral Galaxies](#spiral-galaxies)\n",
    "    * [Barred Spiral Galaxies](#barred-spiral-galaxies)\n",
    "    * [Irregular Galaxies](#irregular-galaxies)\n",
    "  * [Downloading Data Products](#downloading-sdss-legacy-imaging-survey-data-products)\n",
    "* [Creating the Cutout Images Using Astrocut](#creating-the-cutout-images-using-astrocut)\n",
    "* [Making the Hubble Tuning Fork Diagram](#making-the-hubble-tuning-fork-diagram)\n",
    "* [End of Tutorial](#end-of-tutorial)\n",
    "* [Exercise](#exercise)\n",
    "* [Exercise Solution](#exercise-solution)\n",
    "* [Additional Resources](#additional-resources)\n",
    "* [Citations](#citations)\n",
    "* [About this Notebook](#about-this-notebook)"
   ]
  },
  {
   "cell_type": "markdown",
   "id": "a7a8fb8b",
   "metadata": {},
   "source": [
    "## Introduction\n",
    "\n",
    "<figure style=\"text-align: center;\">\n",
    "  <img src=\"https://skyserver.sdss.org/dr1/en/proj/advanced/galaxies/images/TuningFork.jpg\" alt=\"Hubble Tuning Fork Diagram\" width=\"520px\" height=\"475px\"/>\n",
    "  <figcaption>\n",
    "  Hubble Tuning Fork Diagram\n",
    "  <a href=\"https://skyserver.sdss.org/dr1/en/proj/advanced/galaxies/tuningfork.asp\" target=\"_blank\">[1].</a>\n",
    "  </figcaption>\n",
    "</figure>\n",
    "\n",
    "In the early 1900s, most astronomers believed objects such as the Andromeda galaxy were nebulous clouds within our galaxy. In 1923, Edwin Hubble proved Andromeda was outside the Milky Way using the period-luminosity relationship with Cepheid variables [[2]](https://lco.global/spacebook/galaxies/history-discovery/). Once Hubble discovered most \"nebulae\" visible in the sky were actually galaxies, he created a classification scheme known as the *Hubble Tuning Fork*, or the *Hubble Sequence*. Hubble initially separated galaxies into two main groups: elliptical galaxies and spiral galaxies. Elliptical galaxies lack spiral arms, but are ellipses in shape. Hubble classified them by their ellipticity; the more elongated the galaxy, the higher its classification number (i.e. E0 to E7).\n",
    "\n",
    "Spiral galaxies, which have prominent spiral arms, were further divided into two types based on the presence of a central bar: barred spirals (with a bar) and normal spirals (without). Both types were then categorized as early, intermediate, or late, depending on how tightly wound their arms were. Galaxies that lacked both a central nucleus and spiral structure were classified as \"irregular\" [[3]](https://adsabs.harvard.edu/pdf/1934ApJ....79....8H).\n",
    "\n",
    "Hubble initially proposed that galaxies evolved from left to right on his tuning fork diagram, starting at E0 ellipticals and ending at late-type spiral/barred spiral galaxies. However, we now know this to be incorrect! Despite this, the Hubble Sequence remains a widely used tool for galaxy morphological classification [[1]](https://skyserver.sdss.org/dr1/en/proj/advanced/galaxies/tuningfork.asp).\n",
    "\n",
    "In this notebook, we'll construct our own Hubble Tuning Fork Diagram based on this classification scheme using imaging data from the SDSS Legacy Imaging Survey. We can utilize the `Astrocut` package to crop selected fields and generate color cutouts of various galaxies for our diagram. \n"
   ]
  },
  {
   "cell_type": "markdown",
   "id": "9e799656",
   "metadata": {},
   "source": [
    "## Imports\n",
    "The main packages and their use-cases in this tutorial are as follows:\n",
    "- *numpy* to handle array functions\n",
    "- *matplotlib.pyplot* for plotting data\n",
    "- *matplotlib.image* to handle .png images\n",
    "- *astroquery.mast.Observations* to access SDSS data from MAST\n",
    "- *astrocut.FITSCutout* to mosaic images\n",
    "- *astropy* for handling FITS files\n",
    "- *astropy.table.vstack* for combining Astropy tables\n",
    "- *warnings* to suppress FITS warnings"
   ]
  },
  {
   "cell_type": "code",
   "execution_count": null,
   "id": "aa89065e",
   "metadata": {},
   "outputs": [],
   "source": [
    "import numpy as np\n",
    "import matplotlib.pyplot as plt\n",
    "import matplotlib.image as mpimg\n",
    "from astroquery.mast import Observations\n",
    "from astrocut import FITSCutout\n",
    "import astropy\n",
    "from astropy.table import vstack\n",
    "import warnings"
   ]
  },
  {
   "cell_type": "markdown",
   "id": "f4310535",
   "metadata": {},
   "source": [
    "If you're not sure if you have the required versions of packages installed on your device, you can run the following cell:"
   ]
  },
  {
   "cell_type": "code",
   "execution_count": null,
   "id": "713f28a5",
   "metadata": {},
   "outputs": [],
   "source": [
    "with open(\"requirements.txt\") as f:\n",
    "    print(f\"Required packages for this notebook:\\n{f.read()}\")"
   ]
  },
  {
   "cell_type": "markdown",
   "id": "17dda4ca",
   "metadata": {},
   "source": [
    "To ensure these requirements are installed, you can run the following command in the terminal:\n",
    "```bash\n",
    "pip install -r requirements.txt\n",
    "```"
   ]
  },
  {
   "cell_type": "markdown",
   "id": "d6239378",
   "metadata": {},
   "source": [
    "***\n",
    "## Accessing SDSS Legacy Imaging Survey Data from MAST \n",
    "\n",
    "The [Mikulski Archive for Space Telescopes (MAST)](https://archive.stsci.edu/) hosts a large array of data from several telescope missions. In this tutorial, we will be specifically focusing on data from the Sloan Digital Sky Survey's (SDSS) Imaging Survey. \n",
    "\n",
    "The [SDSS Legacy Imaging Survey](https://www.sdss.org/dr18/imaging/) was the first SDSS survey completed! Beginning in 1998, the SDSS Legacy Imaging Survey captured around 35,000 square degrees of images until 2009, which covers about one-third of the whole sky. To do this, the survey took millions of 10 by 13 arcminute pictures (called \"fields\"). Not only does the SDSS Legacy Imaging Survey data at MAST provide users with preview images in .jpg format, but it also has photometric data in all five broad band SDSS filters (u, g, r, i, and z). For more information about the data and products from the SDSS Legacy Imaging Survey, you can check out the [SDSS Imaging Archive Manual](https://outerspace.stsci.edu/display/SDSS/Legacy+Imaging). "
   ]
  },
  {
   "cell_type": "markdown",
   "id": "6f238fe2",
   "metadata": {},
   "source": [
    "### Querying SDSS Legacy Imaging Survey\n",
    "\n",
    "You can query data from MAST using the [website portal](https://mast.stsci.edu/portal/Mashup/Clients/Mast/Portal.html). You can also query MAST data in Python using the module `astroquery.mast`! \n",
    "\n",
    "We can query all of the SDSS Legacy Imaging data using the `Observations.query_criteria()` function with the parameter `provenance_name = \"SDSS Legacy Imaging\"`. Since there is a large amount of data in the SDSS Legacy Imaging archive, we can display the first 10 results using the `pagesize` parameter as well as the `page` parameter."
   ]
  },
  {
   "cell_type": "code",
   "execution_count": null,
   "id": "74ec3834",
   "metadata": {},
   "outputs": [],
   "source": [
    "# Querying SDSS Legacy Imaging\n",
    "imaging_data = Observations.query_criteria(\n",
    "    provenance_name=\"SDSS Legacy Imaging\", pagesize=10, page=1\n",
    ")\n",
    "\n",
    "# Display first 10 entries\n",
    "imaging_data"
   ]
  },
  {
   "cell_type": "markdown",
   "id": "f48e91df",
   "metadata": {},
   "source": [
    "The table above provides some basic information for each object:\n",
    "\n",
    "- `instrument_name`: `SDSS Camera` indicates that the imaging data were collected using the SDSS camera. \n",
    "- `filters`: Indicates the SDSS filters used in the survey (u, g, r, i, and z).\n",
    "- `wavelength_region`: Indicates the region of the electromagnetic spectrum observed. This should be `OPTICAL`, since the SDSS Legacy Imaging Survey observed in the optical wavelength range.\n",
    "- `target_classification`: `FIELD` indicates the survey captured images of the sky.\n",
    "- `obs_id`: Observation ID associated with the image. \n",
    "- `s_ra` and `s_dec`: Right ascension and declination.\n",
    "- `dataproduct_type`: This should be `image` since we're focusing on an imaging survey.\n",
    "- `t_min` and `t_max`: The modified Julian dates indicating the start and end times of the exposures.\n",
    "- `em_min` and `em_max`: The minimum and maximum wavelengths observed by the survey. For the SDSS Legacy Imaging survey, this range is approximately 304.8 - 1083.3 nanometers (optical)."
   ]
  },
  {
   "cell_type": "markdown",
   "id": "3850172c",
   "metadata": {},
   "source": [
    "### Gathering Galaxies from the SDSS Legacy Imaging Survey\n",
    "\n",
    "In this tutorial, we'll be gathering a variety of galaxies to make a Hubble Tuning Fork Diagram. We'll select the following galaxies:\n",
    "- Elliptical:\n",
    "  - M89 (E0)\n",
    "  - NGC 5982 (E3)\n",
    "  - NGC 4697 (E6)\n",
    "- Lenticular:\n",
    "  - NGC 3384 (S0)\n",
    "- Spiral:\n",
    "  - NGC 488 (Sa)\n",
    "  - M88 (Sb)\n",
    "  - M99 (Sc)\n",
    "- Barred Spiral:\n",
    "  - NGC 109 (SBa)\n",
    "  - M91 (SBb)\n",
    "  - NGC 5068 (SBc)\n",
    "- Irregular:\n",
    "  - IC 3583\n",
    "  - NGC 7292\n",
    "\n",
    "These galaxies were selected based on their [NED](https://ned.ipac.caltech.edu/) classification as well as how they fit in an SDSS field using the [MAST Portal Astroview](https://mast.stsci.edu/portal/Mashup/Clients/Mast/Portal.html). "
   ]
  },
  {
   "cell_type": "markdown",
   "id": "b8267da6",
   "metadata": {},
   "source": [
    "We can query MAST using the target name directly! We'll use M89 as an example:"
   ]
  },
  {
   "cell_type": "code",
   "execution_count": null,
   "id": "2d5f2700",
   "metadata": {},
   "outputs": [],
   "source": [
    "# Querying MAST for M89 using search radius of 0\n",
    "m89 = Observations.query_criteria(\n",
    "    objectname=\"M89\", radius=0, provenance_name=\"SDSS Legacy Imaging\"\n",
    ")\n",
    "# Displaying the results\n",
    "m89"
   ]
  },
  {
   "cell_type": "markdown",
   "id": "3c89a1aa",
   "metadata": {},
   "source": [
    "There are three fields available for M89, but we'll be using the field with `target_name=003804-4-0207` since it completely captures the galaxy. For the rest of the tutorial, we'll be querying by target name (field) as we preselected these from the MAST Portal depending on how the galaxy fit into each field. "
   ]
  },
  {
   "cell_type": "markdown",
   "id": "41ae613a",
   "metadata": {},
   "source": [
    "#### Elliptical Galaxies\n",
    "\n",
    "Elliptical galaxies have a distinct nucleus, but do not have a disk or spiral arms. Due to the minimal dust and gas present, these galaxies are mostly made up of [population II stars](https://astronomy.swin.edu.au/cosmos/*/Population+II). Elliptical galaxies are categorized by number, with E0 being the most round in shape, and E7 being the most elliptical in shape. The elliptical galaxy classification numbers are derived from the equation:\n",
    "\n",
    "$$\n",
    "n = 10(\\frac{b}{a})\n",
    "$$\n",
    "\n",
    "where $n$ is the classification number, $b$ is the projected length of the semi-minor axis on the sky, and $a$ is the projected length of the semi-major axis on the sky [[4]](https://astronomy.swin.edu.au/cosmos/*/Elliptical+Galaxy). However, this system is sensitive to the angle at which we observe the galaxy. A galaxy that appears highly elliptical when viewed edge-on may be more circular when viewed face-on. Although this classification scheme remains in use, it's important to remember the limitations imposed by our viewing perspective.\n",
    "\n",
    "We'll use the following fields for each galaxy: \n",
    "- M89 field: `003804-4-0207`\n",
    "- NGC 5982 field: `004679-1-0034`\n",
    "- NGC 4697 field: `006121-1-0124`"
   ]
  },
  {
   "cell_type": "code",
   "execution_count": null,
   "id": "409df6c4",
   "metadata": {},
   "outputs": [],
   "source": [
    "# Elliptical Galaxies\n",
    "ellipticals = Observations.query_criteria(\n",
    "    provenance_name=\"SDSS Legacy Imaging\",\n",
    "    target_name=[\n",
    "        \"003804-4-0207\",  # M89\n",
    "        \"004679-1-0034\",  # NGC 5982\n",
    "        \"006121-1-0124\",  # NGC 4697\n",
    "    ],\n",
    ")\n",
    "ellipticals"
   ]
  },
  {
   "cell_type": "markdown",
   "id": "9d0132ef",
   "metadata": {},
   "source": [
    "#### Lenticular Galaxies\n",
    "\n",
    "Lenticular galaxies are in-between elliptical and spiral galaxies. They have a central bulge and a disk similar to a spiral galaxy, but lack the spiral arm structure. These galaxies are thought to be former spiral galaxies that lost their interstellar material, likely due to interactions with other galaxies or their environments [[5]](https://astronomy.swin.edu.au/cosmos/L/Lenticular+Galaxy) [[6]](https://science.nasa.gov/universe/galaxies/types/).\n",
    "\n",
    "We'll use the field `003631-1-0302` for NGC 3384. "
   ]
  },
  {
   "cell_type": "code",
   "execution_count": null,
   "id": "6cef41a4",
   "metadata": {},
   "outputs": [],
   "source": [
    "# Lenticular Galaxy\n",
    "lenticular = Observations.query_criteria(\n",
    "    provenance_name=\"SDSS Legacy Imaging\",\n",
    "    target_name=\"003631-1-0302\",  # NGC 3384\n",
    ")\n",
    "lenticular"
   ]
  },
  {
   "cell_type": "markdown",
   "id": "c30fb067",
   "metadata": {},
   "source": [
    "#### Spiral Galaxies\n",
    "\n",
    "Spiral galaxies have distinct spiral arms that protrude from a central bulge of older stars. Within the spiral arms lie stellar \"nurseries\" of gas and dust that fuel young star formation. Spiral galaxies are classified into *Sa, Sb,* or *Sc* groups based on how tightly wound their spirals are, the thickness of the spiral arms, and the size of the central bulge. *Sa* spirals have large bulges and faint, small spiral arms whereas *Sc* spirals have smaller bulges, but larger, loose spiral arms [[7]](https://astronomy.swin.edu.au/cosmos/S/Spiral+Galaxy).\n",
    "\n",
    "We'll use the following fields for each galaxy: \n",
    "- NGC 488 field: `007727-5-0202`\n",
    "- M88 field: `004381-2-0114`\n",
    "- M99 field: `004381-2-0093`"
   ]
  },
  {
   "cell_type": "code",
   "execution_count": null,
   "id": "a6360373",
   "metadata": {},
   "outputs": [],
   "source": [
    "# Spiral Galaxies\n",
    "spirals = Observations.query_criteria(\n",
    "    provenance_name=\"SDSS Legacy Imaging\",\n",
    "    target_name=[\n",
    "        \"007727-5-0202\",  # NGC 488\n",
    "        \"004381-2-0114\",  # M88\n",
    "        \"004381-2-0093\",  # M99\n",
    "    ],\n",
    ")\n",
    "spirals"
   ]
  },
  {
   "cell_type": "markdown",
   "id": "a23f28e9",
   "metadata": {},
   "source": [
    "#### Barred Spiral Galaxies\n",
    "\n",
    "Barred spiral galaxies have a distinct, luminous bar/stripe across their center. This bar is thought to form either from internal dynamical instabilities or from gravitational interactions with neighboring galaxies. Like regular spiral galaxies, they are classified into *SBa, SBb,* and *SBc* types: *SBa* galaxies have tightly wound spiral arms and a larger central bulge, while *SBc* galaxies have loosely wound arms and a smaller bulge. [[8]](https://astronomy.swin.edu.au/cosmos/B/Bars). \n",
    "\n",
    "We'll use the following fields for each galaxy: \n",
    "- NGC 109 field: `007932-2-0051`\n",
    "- M91 field: `004381-2-0120`\n",
    "- NGC 5068 field: `001449-5-0093`"
   ]
  },
  {
   "cell_type": "code",
   "execution_count": null,
   "id": "486369b0",
   "metadata": {},
   "outputs": [],
   "source": [
    "# Barred Spirals\n",
    "barred_spirals = Observations.query_criteria(\n",
    "    provenance_name=\"SDSS Legacy Imaging\",\n",
    "    target_name=[\n",
    "        \"007932-2-0051\",  # NGC 109\n",
    "        \"004381-2-0120\",  # M91\n",
    "        \"001449-5-0093\",  # NGC 5068\n",
    "    ],\n",
    ")\n",
    "barred_spirals"
   ]
  },
  {
   "cell_type": "markdown",
   "id": "36495a5f",
   "metadata": {},
   "source": [
    "#### Irregular Galaxies \n",
    "\n",
    "Irregular galaxies are galaxies that do not fit into the elliptical or spiral/barred spiral categories. They typically have chaotic or asymmetric structures, often resulting from violent interactions with other galaxies, collisions, or internal processes. Well-known examples include the Large and Small Magellanic Clouds [[9]](https://astronomy.swin.edu.au/cosmos/I/Irregular+Galaxy). \n",
    "\n",
    "We'll use the following fields for each galaxy: \n",
    "- IC 3583 field: `003836-5-0268`\n",
    "- NGC 7292 field: `008115-6-0118`"
   ]
  },
  {
   "cell_type": "code",
   "execution_count": null,
   "id": "4b67796a",
   "metadata": {},
   "outputs": [],
   "source": [
    "# Irregular galaxies\n",
    "irregulars = Observations.query_criteria(\n",
    "    provenance_name=\"SDSS Legacy Imaging\",\n",
    "    target_name=[\n",
    "        \"003836-5-0268\",  # IC 3583\n",
    "        \"008115-6-0118\",  # NGC 7292\n",
    "    ],\n",
    ")\n",
    "irregulars"
   ]
  },
  {
   "cell_type": "markdown",
   "id": "0d66343d",
   "metadata": {},
   "source": [
    "### Downloading SDSS Legacy Imaging Survey Data Products\n",
    "\n",
    "For each image, there are 7 available products: The preview .jpg image, the FITS files in each respective SDSS filter (u, g, r, i, and z), and a catalog file containing photometric measurements from all five filters combined. The catalog file is listed as `SDSS Imaging Catalogs` for the `productSubGroupDescription` parameter.\n",
    "\n",
    "For more information about products available at MAST, you can check out the [SDSS Legacy Imaging Survey Documentation](https://outerspace.stsci.edu/display/SDSS/Legacy+Imaging+Data+Products). "
   ]
  },
  {
   "cell_type": "code",
   "execution_count": null,
   "id": "f6ee73e5",
   "metadata": {},
   "outputs": [],
   "source": [
    "# Combining the Astropy tables for all galaxies\n",
    "all_galaxies = vstack(\n",
    "    [ellipticals, lenticular, spirals, barred_spirals, irregulars]\n",
    ")\n",
    "\n",
    "# Viewing available products (first 7)\n",
    "galaxy_products = Observations.get_product_list(all_galaxies)\n",
    "galaxy_products[:7]"
   ]
  },
  {
   "cell_type": "markdown",
   "id": "501259e9",
   "metadata": {},
   "source": [
    "We'll now download all FITS files, specifically focusing on the files in specific ugriz filters. For this tutorial, we'll be using the g, r, and i filters only, so we can filter those out using the `filters` parameter. "
   ]
  },
  {
   "cell_type": "code",
   "execution_count": null,
   "id": "3e4095dd",
   "metadata": {},
   "outputs": [],
   "source": [
    "# Downloading products\n",
    "manifest = Observations.download_products(\n",
    "    galaxy_products, mrp_only=True, verbose=False, filters=[\"g\", \"r\", \"i\"]\n",
    ")"
   ]
  },
  {
   "cell_type": "markdown",
   "id": "ed616809",
   "metadata": {},
   "source": [
    "Each FITS file follows the following naming scheme: `frame-{filter}-{RUN}-{CAMCOL}-{FIELD}` where `RUN` is the zero-padded, six-digit identification number for that photometric run, `CAMCOL` is the camera column identifying the scanline within the run, and `FIELD` is field number for that observation. \n",
    "\n",
    "While we won't be using the photoObj files in this tutorial, these contain the fully calibrated outputs from the [SDSS Imaging Pipeline](https://www.sdss4.org/dr17/imaging/pipeline/) and other respective measurements such as photometry in all five SDSS filters (u, g, r, i, and z), source classification, and quality flags. There is one photoObj file for each run-camcol-field combination. "
   ]
  },
  {
   "cell_type": "markdown",
   "id": "ec461377",
   "metadata": {},
   "source": [
    "## Creating the Cutout Images Using Astrocut\n",
    "\n",
    "Now that we downloaded the FITS files for each galaxy, we can use `Astrocut` to trim the images and create cutouts! \n",
    "\n",
    "Astrocut uses FITS files and specified center coordinates to create a trimmed image. We'll create a dictionary of galaxy names, their target names, and center coordinates. For more information about `Astrocut`, you can view the [documentation](https://astrocut.readthedocs.io/en/latest/astrocut/index.html).\n",
    "\n",
    "We'll use `warnings.filterwarnings` to suppress FITS warnings due to the change in keyword names since SDSS data was created.\n",
    "\n",
    "Each Astrocut image cell takes around 3-8 minutes to run."
   ]
  },
  {
   "cell_type": "code",
   "execution_count": null,
   "id": "9309ca24",
   "metadata": {},
   "outputs": [],
   "source": [
    "# Suppressing FITS warnings\n",
    "warnings.filterwarnings(\"ignore\", category=astropy.wcs.FITSFixedWarning)"
   ]
  },
  {
   "cell_type": "markdown",
   "id": "3ab51a8c",
   "metadata": {},
   "source": [
    "In order to center the galaxy in our cutout, we need to know the center coordinates! We can use `astroquery` to resolve the coordinates for each galaxy using `Observations.resolve_object`. We'll now make a dictionary to code in the field ID and coordinates per galaxy. "
   ]
  },
  {
   "cell_type": "code",
   "execution_count": null,
   "id": "3867d530",
   "metadata": {},
   "outputs": [],
   "source": [
    "# Making a dictionary for galaxy names with MAST target names and coordinates\n",
    "galaxies = {\n",
    "    \"m89\": {\n",
    "        \"id\": \"003804-4-0207\",\n",
    "        \"coord\": Observations.resolve_object(\"m89\"),\n",
    "    },\n",
    "    \"ngc5982\": {\n",
    "        \"id\": \"004679-1-0034\",\n",
    "        \"coord\": Observations.resolve_object(\"ngc5982\"),\n",
    "    },\n",
    "    \"ngc4697\": {\n",
    "        \"id\": \"006121-1-0124\",\n",
    "        \"coord\": Observations.resolve_object(\"ngc4697\"),\n",
    "    },\n",
    "    \"ngc3384\": {\n",
    "        \"id\": \"003631-1-0302\",\n",
    "        \"coord\": Observations.resolve_object(\"ngc3384\"),\n",
    "    },\n",
    "    \"ngc488\": {\n",
    "        \"id\": \"007727-5-0202\",\n",
    "        \"coord\": Observations.resolve_object(\"ngc488\"),\n",
    "    },\n",
    "    \"m88\": {\n",
    "        \"id\": \"004381-2-0114\",\n",
    "        \"coord\": Observations.resolve_object(\"m88\"),\n",
    "    },\n",
    "    \"m99\": {\n",
    "        \"id\": \"004381-2-0093\",\n",
    "        \"coord\": Observations.resolve_object(\"m99\"),\n",
    "    },\n",
    "    \"ngc109\": {\n",
    "        \"id\": \"007932-2-0051\",\n",
    "        \"coord\": Observations.resolve_object(\"ngc109\"),\n",
    "    },\n",
    "    \"m91\": {\n",
    "        \"id\": \"004381-2-0120\",\n",
    "        \"coord\": Observations.resolve_object(\"m91\"),\n",
    "    },\n",
    "    \"ngc5068\": {\n",
    "        \"id\": \"001449-5-0093\",\n",
    "        \"coord\": Observations.resolve_object(\"ngc5068\"),\n",
    "    },\n",
    "    \"ic3583\": {\n",
    "        \"id\": \"003836-5-0268\",\n",
    "        \"coord\": Observations.resolve_object(\"ic3583\"),\n",
    "    },\n",
    "    \"ngc7292\": {\n",
    "        \"id\": \"008115-6-0118\",\n",
    "        \"coord\": Observations.resolve_object(\"ngc7292\"),\n",
    "    },\n",
    "}"
   ]
  },
  {
   "cell_type": "code",
   "execution_count": null,
   "id": "e7bba698",
   "metadata": {},
   "outputs": [],
   "source": [
    "# Creating a function to locate files from download, find the r, g, and i files\n",
    "def get_files_for_galaxy(galaxy_name):\n",
    "    \"\"\"\n",
    "    Finds the files based on galaxy name and returns their r, g, and i FITS files\n",
    "    \"\"\"\n",
    "\n",
    "    # Finding the file by galaxy name\n",
    "    galaxy_mask = (\n",
    "        np.char.find(\n",
    "            manifest[\"Local Path\"].astype(str), galaxies[galaxy_name][\"id\"]\n",
    "        )\n",
    "        >= 0\n",
    "    )\n",
    "    files = np.array(manifest[\"Local Path\"][galaxy_mask], dtype=str)\n",
    "\n",
    "    # Finding the r, g, and i files\n",
    "    rmask = np.char.find(files.astype(str), \"frame-r\") >= 0\n",
    "    gmask = np.char.find(files.astype(str), \"frame-g\") >= 0\n",
    "    imask = np.char.find(files.astype(str), \"frame-i\") >= 0\n",
    "\n",
    "    r_file = files[rmask]\n",
    "    g_file = files[gmask]\n",
    "    i_file = files[imask]\n",
    "\n",
    "    return i_file[0], r_file[0], g_file[0]"
   ]
  },
  {
   "cell_type": "code",
   "execution_count": null,
   "id": "a57ae932",
   "metadata": {},
   "outputs": [],
   "source": [
    "# Helper function for creating cutout images\n",
    "def create_cutouts(galaxy_name, cutout_size):\n",
    "    \"\"\"\n",
    "    This function takes the name of the galaxy and size of the cutout,\n",
    "    creates cutout using Astrocut, then plots the image using matplotlib\n",
    "    \"\"\"\n",
    "\n",
    "    # Using previous function to get the r, g, and i files\n",
    "    galaxy_input = get_files_for_galaxy(galaxy_name)\n",
    "\n",
    "    # Creating the cutouts\n",
    "    galaxy_colorimage = FITSCutout(\n",
    "        galaxy_input, galaxies[galaxy_name][\"coord\"], cutout_size\n",
    "    ).get_image_cutouts(colorize=True)[0]\n",
    "    galaxy_colorimage.save(f\"{galaxy_name}_cutout.png\")\n",
    "\n",
    "    # Capitalizing the title\n",
    "    title_name = np.char.upper(galaxy_name)\n",
    "\n",
    "    # Displaying the cutouts\n",
    "    plt.figure(figsize=(5, 5))\n",
    "    plt.imshow(galaxy_colorimage)\n",
    "    plt.title(f\"Cutout of {title_name}\")\n",
    "    plt.show()"
   ]
  },
  {
   "cell_type": "code",
   "execution_count": null,
   "id": "d11edf3d",
   "metadata": {},
   "outputs": [],
   "source": [
    "# M89\n",
    "# Creating and displaying the cutout image of M89!\n",
    "m89_img = create_cutouts(\"m89\", [200, 200])"
   ]
  },
  {
   "cell_type": "code",
   "execution_count": null,
   "id": "a173dc97",
   "metadata": {},
   "outputs": [],
   "source": [
    "# NGC 5982\n",
    "# Creating and displaying the cutout image of NGC 5982!\n",
    "ngc5982_img = create_cutouts(\"ngc5982\", [200, 200])"
   ]
  },
  {
   "cell_type": "code",
   "execution_count": null,
   "id": "db0bd723",
   "metadata": {},
   "outputs": [],
   "source": [
    "# NGC 4697\n",
    "# Creating and displaying the cutout image of NGC 4697!\n",
    "ngc4697_img = create_cutouts(\"ngc4697\", [300, 200])"
   ]
  },
  {
   "cell_type": "code",
   "execution_count": null,
   "id": "816171a3",
   "metadata": {},
   "outputs": [],
   "source": [
    "# NGC 3384\n",
    "# Creating and displaying the cutout image of NGC 3384!\n",
    "ngc3384_img = create_cutouts(\"ngc3384\", [175, 175])"
   ]
  },
  {
   "cell_type": "code",
   "execution_count": null,
   "id": "5fd70bda",
   "metadata": {},
   "outputs": [],
   "source": [
    "# NGC 488\n",
    "# Creating and displaying the cutout image of NGC 488!\n",
    "ngc488_img = create_cutouts(\"ngc488\", [440, 500])"
   ]
  },
  {
   "cell_type": "code",
   "execution_count": null,
   "id": "58dc5445",
   "metadata": {},
   "outputs": [],
   "source": [
    "# M88\n",
    "# Creating and displaying the cutout image of M88!\n",
    "m88_img = create_cutouts(\"m88\", [700, 600])"
   ]
  },
  {
   "cell_type": "code",
   "execution_count": null,
   "id": "65c187fc",
   "metadata": {},
   "outputs": [],
   "source": [
    "# M99\n",
    "# Creating and displaying the cutout image of M99!\n",
    "m99_img = create_cutouts(\"m99\", [600, 600])"
   ]
  },
  {
   "cell_type": "code",
   "execution_count": null,
   "id": "ddab318a",
   "metadata": {},
   "outputs": [],
   "source": [
    "# NGC 109\n",
    "# Creating and displaying the cutout image of NGC 109!\n",
    "ngc109_img = create_cutouts(\"ngc109\", [200, 200])"
   ]
  },
  {
   "cell_type": "code",
   "execution_count": null,
   "id": "27864d78",
   "metadata": {},
   "outputs": [],
   "source": [
    "# M91\n",
    "# Creating and displaying the cutout image of M91!\n",
    "m91_img = create_cutouts(\"m91\", [275, 425])"
   ]
  },
  {
   "cell_type": "code",
   "execution_count": null,
   "id": "414f007d",
   "metadata": {},
   "outputs": [],
   "source": [
    "# NGC 5068\n",
    "# Creating and displaying the cutout image of NGC 5068!\n",
    "ngc5068_img = create_cutouts(\"ngc5068\", [800, 800])"
   ]
  },
  {
   "cell_type": "code",
   "execution_count": null,
   "id": "91f033f5",
   "metadata": {},
   "outputs": [],
   "source": [
    "# IC 3583\n",
    "# Creating and displaying the cutout image of IC 3583!\n",
    "ic3583_img = create_cutouts(\"ic3583\", [300, 150])"
   ]
  },
  {
   "cell_type": "code",
   "execution_count": null,
   "id": "788dcf46",
   "metadata": {},
   "outputs": [],
   "source": [
    "# NGC 7292\n",
    "# Creating and displaying the cutout image of NGC 7292!\n",
    "ngc7292_img = create_cutouts(\"ngc7292\", [250, 300])"
   ]
  },
  {
   "cell_type": "markdown",
   "id": "ea2166b3",
   "metadata": {},
   "source": [
    "## Making the Hubble Tuning Fork Diagram\n",
    "\n",
    "Now that we have our cutouts saved as .png files, we can create our Hubble Tuning Fork Diagram using `matplotlib.image` and a series of subplots!"
   ]
  },
  {
   "cell_type": "code",
   "execution_count": null,
   "id": "ed46b643",
   "metadata": {},
   "outputs": [],
   "source": [
    "# Creating subplots\n",
    "fig, ax = plt.subplots(nrows=5, ncols=9, figsize=(15, 10), facecolor=\"black\")\n",
    "for row in ax:\n",
    "    for a in row:\n",
    "        a.axis(\"off\")\n",
    "\n",
    "# Reading the cutout images\n",
    "images = {}\n",
    "for galaxy in galaxies.keys():\n",
    "    images[galaxy] = mpimg.imread(f\"{galaxy}_cutout.png\")\n",
    "\n",
    "# Ading connecting lines\n",
    "# Straight line\n",
    "x = np.linspace(0, 10, 11)\n",
    "y1 = 5 * np.ones(11)\n",
    "\n",
    "\n",
    "# Plotting the images and lines\n",
    "# Plotting the elliptical galaxies in the center left\n",
    "ax[2, 0].imshow(images[\"m89\"])\n",
    "ax[2, 0].set_title(\"M89\\nE0\", y=-0.5, color=\"white\", fontsize=14)\n",
    "ax[2, 1].imshow(images[\"ngc5982\"])\n",
    "ax[2, 1].set_title(\"NGC 5982\\nE3\", y=-0.5, color=\"white\", fontsize=14)\n",
    "ax[2, 2].imshow(images[\"ngc4697\"])\n",
    "ax[2, 2].set_title(\"NGC 4697\\nE6\", y=-0.98, color=\"white\", fontsize=14)\n",
    "\n",
    "# Plotting the connecting straight line\n",
    "ax[2, 3].plot(x, y1, color=\"white\", lw=4)\n",
    "\n",
    "# Plotting the lenticular galaxy between the ellipticals and spirals\n",
    "ax[2, 4].imshow(images[\"ngc3384\"])\n",
    "ax[2, 4].set_title(\"NGC 3384\\nS0\", y=-0.5, color=\"white\", fontsize=14)\n",
    "\n",
    "# Plotting the connecting v line\n",
    "ax[2, 5].plot((lambda x: np.abs(x - 5))(x), x, color=\"white\", lw=4)\n",
    "ax[2, 5].set_xlim(0, 5)\n",
    "\n",
    "# Plotting the spiral galaxies in the top right\n",
    "ax[1, 6].imshow(images[\"ngc488\"])\n",
    "ax[1, 6].set_title(\"NGC 488\\nSa\", y=-0.5, color=\"white\", fontsize=14)\n",
    "ax[1, 7].imshow(images[\"m88\"])\n",
    "ax[1, 7].set_title(\"M88\\nSb\", y=-0.82, color=\"white\", fontsize=14)\n",
    "ax[1, 8].imshow(images[\"m99\"])\n",
    "ax[1, 8].set_title(\"M99\\nSc\", y=-0.63, color=\"white\", fontsize=14)\n",
    "\n",
    "# Plotting the barred spirals in the bottom right\n",
    "ax[3, 6].imshow(images[\"ngc109\"])\n",
    "ax[3, 6].set_title(\"NGC 109\\nSBa\", y=-0.68, color=\"white\", fontsize=14)\n",
    "ax[3, 7].imshow(images[\"m91\"])\n",
    "ax[3, 7].set_title(\"M91\\nSBb\", y=-0.45, color=\"white\", fontsize=14)\n",
    "ax[3, 8].imshow(images[\"ngc5068\"])\n",
    "ax[3, 8].set_title(\"NGC5068\\nSBc\", y=-0.68, color=\"white\", fontsize=14)\n",
    "\n",
    "# Plotting the irregular galaxies in the bottom left\n",
    "ax[4, 0].imshow(images[\"ic3583\"])\n",
    "ax[4, 0].set_title(\"IC 3583\", y=-1.43, color=\"white\", fontsize=14)\n",
    "ax[4, 1].imshow(images[\"ngc7292\"])\n",
    "ax[4, 1].set_title(\"NGC 7292\", y=-0.3, color=\"white\", fontsize=14)\n",
    "\n",
    "# Adding labels\n",
    "fig.text(\n",
    "    0.3,\n",
    "    0.815,\n",
    "    \"Hubble Tuning Fork Diagram\",\n",
    "    fontsize=30,\n",
    "    fontstyle=\"oblique\",\n",
    "    fontweight=\"bold\",\n",
    "    color=\"white\",\n",
    ")\n",
    "fig.text(\n",
    "    0.35,\n",
    "    0.78,\n",
    "    \"Made using SDSS Legacy Imaging Data at MAST\",\n",
    "    fontsize=15,\n",
    "    fontstyle=\"oblique\",\n",
    "    # fontweight=\"bold\",\n",
    "    color=\"white\",\n",
    ")\n",
    "fig.text(\n",
    "    0.22, 0.57, \"Elliptical\", color=\"white\", fontsize=16, fontweight=\"bold\"\n",
    ")\n",
    "fig.text(\n",
    "    0.475, 0.57, \"Lenticular\", color=\"white\", fontsize=16, fontweight=\"bold\"\n",
    ")\n",
    "fig.text(0.75, 0.74, \"Spiral\", color=\"white\", fontsize=16, fontweight=\"bold\")\n",
    "fig.text(\n",
    "    0.725,\n",
    "    0.425,\n",
    "    \"Barred Spiral\",\n",
    "    color=\"white\",\n",
    "    fontsize=16,\n",
    "    fontweight=\"bold\",\n",
    ")\n",
    "fig.text(\n",
    "    0.172, 0.27, \"Irregular\", color=\"white\", fontsize=16, fontweight=\"bold\"\n",
    ")\n",
    "\n",
    "plt.show()"
   ]
  },
  {
   "cell_type": "markdown",
   "id": "30a90aa2",
   "metadata": {},
   "source": [
    "***\n",
    "## End of Tutorial\n",
    "\n",
    "Congratulations, you've reached the end of this notebook! You've learned how to use `astroquery.mast` and `astrocut` to create a Hubble Tuning Fork Diagram!"
   ]
  },
  {
   "cell_type": "markdown",
   "id": "9ca3f9bb",
   "metadata": {},
   "source": [
    "*** \n",
    "## Exercise\n",
    "\n",
    "Can you classify these three galaxies referencing the Hubble Tuning Fork Diagram you constructed above?:\n",
    "- M95\n",
    "- NGC 4125 \n",
    "- M74\n",
    "\n",
    "To choose the right field, you can look at the AstroView on the [MAST Portal](https://mast.stsci.edu/portal/Mashup/Clients/Mast/Portal.html).\n",
    "\n",
    "*(Hint: You can download just the preview image by using `Observations.filter_products` and adding the argument `productType=\"PREVIEW\"`)*"
   ]
  },
  {
   "cell_type": "code",
   "execution_count": null,
   "id": "d20a6c0d",
   "metadata": {},
   "outputs": [],
   "source": [
    "# Query and download data from MAST"
   ]
  },
  {
   "cell_type": "code",
   "execution_count": null,
   "id": "62a3c49a",
   "metadata": {},
   "outputs": [],
   "source": [
    "# View preview images"
   ]
  },
  {
   "cell_type": "markdown",
   "id": "81bb38c9",
   "metadata": {},
   "source": [
    "***\n",
    "## Exercise Solution"
   ]
  },
  {
   "cell_type": "code",
   "execution_count": null,
   "id": "916436ce",
   "metadata": {},
   "outputs": [],
   "source": [
    "# Query and download data from MAST\n",
    "# Querying MAST\n",
    "exercise_galaxies = Observations.query_criteria(\n",
    "    provenance_name=\"SDSS Legacy Imaging\",\n",
    "    target_name=[\"003836-4-0084\", \"006118-3-0168\", \"007845-2-0104\"],\n",
    ")\n",
    "# Get product list for query\n",
    "exercise_products = Observations.get_product_list(exercise_galaxies)\n",
    "# Filter products to get preview jpgs only\n",
    "filtered_products = Observations.filter_products(\n",
    "    exercise_products,\n",
    "    # Selecting preview jpgs\n",
    "    productType=\"PREVIEW\",\n",
    ")\n",
    "# Download products\n",
    "Observations.download_products(filtered_products, flat=True, verbose=False)"
   ]
  },
  {
   "cell_type": "code",
   "execution_count": null,
   "id": "0ec19b77",
   "metadata": {},
   "outputs": [],
   "source": [
    "# Viewing the previews side-by-side\n",
    "fig2, ax2 = plt.subplots(nrows=1, ncols=3, figsize=(15, 10), facecolor=\"black\")\n",
    "for a in ax2:\n",
    "    a.axis(\"off\")\n",
    "\n",
    "# Reading images\n",
    "img1 = mpimg.imread(\"frame-irg-003836-4-0084.jpg\")\n",
    "img2 = mpimg.imread(\"frame-irg-006118-3-0168.jpg\")\n",
    "img3 = mpimg.imread(\"frame-irg-007845-2-0104.jpg\")\n",
    "\n",
    "# Plotting images\n",
    "ax2[0].imshow(img1)\n",
    "ax2[0].set_title(\"M95\", color=\"white\", y=-0.2, fontsize=14, fontweight=\"bold\")\n",
    "ax2[1].imshow(img2)\n",
    "ax2[1].set_title(\n",
    "    \"NGC 4125\", color=\"white\", y=-0.2, fontsize=14, fontweight=\"bold\"\n",
    ")\n",
    "ax2[2].imshow(img3)\n",
    "ax2[2].set_title(\"M74\", color=\"white\", y=-0.2, fontsize=14, fontweight=\"bold\")\n",
    "\n",
    "plt.show()"
   ]
  },
  {
   "cell_type": "markdown",
   "id": "f45e45d1",
   "metadata": {},
   "source": [
    "*Assumptions:*\n",
    "- It appears that M95 is fairly similar to NGC 109 and M91; this must be a barred spiral galaxy! While the spiral arms are somewhat tight, M95 is most likely between an SBa and an SBb.\n",
    "- NGC 4125 does not have spiral arms or dust lanes, so it must be elliptical. Since elliptical galaxies are classified by their ellipticity, NGC 4125 is likely between an E3 and an E6.\n",
    "- M74 has distinct spiral arms, but no visible bar. The spiral arms are fairly loose, but not as loose as M99. M74 is likely between an Sb and an Sc galaxy. \n",
    "\n",
    "*Results from [NED](https://ned.ipac.caltech.edu/byname):*\n",
    "- M95: SBb\n",
    "- NGC 4125: E6\n",
    "- M74: Sc"
   ]
  },
  {
   "cell_type": "markdown",
   "id": "7300d66e",
   "metadata": {},
   "source": [
    "***\n",
    "## Additional Resources\n",
    "\n",
    "Additional resources are linked below:\n",
    "- [SDSS Legacy Archive at MAST](https://archive.stsci.edu/missions-and-data/sdss)\n",
    "- [SDSS Legacy Archive at MAST User Manual](https://outerspace.stsci.edu/display/SDSS/The+SDSS+Legacy+Archive+at+MAST)\n",
    "- [SDSS Legacy Imaging Archive User Manual](https://outerspace.stsci.edu/display/SDSS/Legacy+Imaging)\n",
    "- [SDSS Imaging Documentation](https://www.sdss.org/dr18/imaging/)\n",
    "- [SDSS Hubble Tuning Fork Tutorial](https://skyserver.sdss.org/dr1/en/proj/advanced/galaxies/tuningfork.asp)\n",
    "- [astroquery.mast User Manual](https://astroquery.readthedocs.io/en/latest/mast/mast.html)\n",
    "- [MAST API](https://mast.stsci.edu/api/v0/index.html)\n",
    "- [Astrocut Documentation](https://astrocut.readthedocs.io/en/latest/astrocut/index.html)"
   ]
  },
  {
   "cell_type": "markdown",
   "id": "fbad2644",
   "metadata": {},
   "source": [
    "## Citations\n",
    "\n",
    "If you use data from MAST for published research, please see the following links for information on which citations to include in your paper:\n",
    "\n",
    "* [Citing SDSS](https://sdss.org/collaboration/citing-sdss/)\n",
    "* [Citing MAST](https://archive.stsci.edu/publishing/mission-acknowledgements)\n",
    "* [Citing astropy](https://www.astropy.org/acknowledging.html)"
   ]
  },
  {
   "cell_type": "markdown",
   "id": "3f6e7b81",
   "metadata": {},
   "source": [
    "## About this Notebook\n",
    "\n",
    "**Author(s):** Natalie Haugen (nhaugen@terpmail.umd.edu) and Julie Imig (jimig@stsci.edu) <br>\n",
    "**Keyword(s):** Tutorial, SDSS, SDSS Legacy Imaging Survey, galaxies, galaxy morphology <br>\n",
    "**First published:** July 2025 <br>\n",
    "**Last updated:** July 2025 <br>\n",
    "\n",
    "***\n",
    "[Top of Page](#top)\n",
    "<img style=\"float: right;\" src=\"https://raw.githubusercontent.com/spacetelescope/style-guides/master/guides/images/stsci-logo.png\" alt=\"Space Telescope Logo\" width=\"200px\"/>"
   ]
  }
 ],
 "metadata": {
  "kernelspec": {
   "display_name": "base",
   "language": "python",
   "name": "python3"
  },
  "language_info": {
   "codemirror_mode": {
    "name": "ipython",
    "version": 3
   },
   "file_extension": ".py",
   "mimetype": "text/x-python",
   "name": "python",
   "nbconvert_exporter": "python",
   "pygments_lexer": "ipython3",
   "version": "3.13.2"
  }
 },
 "nbformat": 4,
 "nbformat_minor": 5
}
