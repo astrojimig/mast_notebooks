{
 "cells": [
  {
   "cell_type": "markdown",
   "id": "2f4e02d2",
   "metadata": {},
   "source": [
    "<a id=\"top\"></a>\n",
    "\n",
    "# Creating a Color-Magnitude Diagram for Messier 13\n",
    "***\n",
    "\n",
    "## Learning Goals \n",
    "By the end of this tutorial, you will:\n",
    "\n",
    "- Understand how to use `astroquery.mast` to download the SDSS Legacy Imaging Survey Data from the MAST archive.\n",
    "- Plot a Color-Magnitude Diagram of Messier 13\n",
    "- Calculate the distance to Messier 13 using the Gaia catalog\n",
    "- Approximate the age of Messier 13 using stellar isochrones"
   ]
  },
  {
   "cell_type": "markdown",
   "id": "2fdf28fd",
   "metadata": {},
   "source": [
    "## Table of Contents\n",
    "* [Introduction](#introduction)\n",
    "* [Imports](#imports)\n",
    "* [Accessing SDSS Legacy Imaging Survey Data from MAST](#accessing-sdss-legacy-imaging-survey-data-from-mast)\n",
    "    * [Querying SDSS Legacy Imaging Survey](#querying-sdss-legacy-imaging-survey) \n",
    "    * [Sampling SDSS Legacy Imaging Survey for M13](#sampling-sdss-legacy-imaging-survey-for-m13)\n",
    "    * [Downloading Data Products](#downloading-sdss-legacy-imaging-survey-data-products)\n",
    "    * [Creating a Color-Magnitude Diagram](#creating-a-color-magnitude-diagram-of-m13)\n",
    "* [Finding the Distance to M13 Using Gaia](#finding-the-distance-to-m13-using-data-from-gaia)\n",
    "* [Determining the Age of M13 Using Stellar Isochrone Matching](#determining-the-age-of-m13-using-stellar-isochrone-matching)\n",
    "* [End of Tutorial](#end-of-tutorial)\n",
    "* [Exercises](#exercises)\n",
    "* [Exercise Solutions](#exercise-solutions)\n",
    "* [Additional Resources](#addtional-resources)\n",
    "* [Citations](#citations)\n",
    "* [About this Notebook](#about-this-notebook)"
   ]
  },
  {
   "cell_type": "markdown",
   "id": "9450de88",
   "metadata": {},
   "source": [
    "## Introduction \n",
    "The Hertzsprung-Russell (HR) Diagram was independently discovered by Ejnar Hertzsprung and Henry Norris Russell in the early 20th century. This diagram effectively plots a star's theoretical luminosity against its temperature.\n",
    "By examining the position of stars on the HR diagram, we can infer stellar properties such as age, metallicity, or mass. An HR Diagram is also useful for tracking the life cycle of stars. Stars in their hydrogen-core burning phases evolve leftwards on the HR diagram. Eventually, they leave the main sequence to start their red giant phases and move upwards as they begin burning helium in their cores [[1]](https://astronomy.swin.edu.au/cosmos/h/hertzsprung-russell+diagram).\n",
    "\n",
    "An observational variation of the HR Diagram is the *Color-Magnitude Diagram* (CMD), which uses color (a proxy for temperature) and magnitude (a proxy for luminosity). We can use photometric data from a star cluster to create a CMD, and then estimate the age by comparing the main sequence tracks and red giant branch to theoretical isochrones — curves that represent stars of the same age but with different masses, mapping their expected positions at various evolutionary stages. For example, an older cluster will have more stars on the red giant branch whereas a younger cluster will have more stars on the main sequence. The transition between the two evolutionary stages, called the *Main Sequence Turn-Off*, is the key to determining the age of a stellar cluster [[2]](https://astronomyonline.org/Astrophotography/CMDDiagram.asp)\n",
    "\n",
    "<figure style=\"text-align: center;\">\n",
    "  <img src=\"https://www.researchgate.net/profile/Lawrence-Krauss/publication/10964320/figure/fig2/AS:601699240644635@1520467686671/A-schematic-color-magnitude-diagram-for-a-typical-globular-cluster-33-showing-the.png\" alt=\"Color Magnitude Diagram for Globular Clusters\" width=\"400px\" height=\"450px\"/>\n",
    "  <figcaption>\n",
    "  Color Magnitude Diagram for Global Clusters from L. Krauss and B. Chaboyer\n",
    "  <a href=\"https://www.science.org/doi/10.1126/science.1075631\" target=\"_blank\">[3].</a>\n",
    "  </figcaption>\n",
    "</figure>\n",
    "\n",
    "Messier 13 (M13) is a globular cluster located in the constellation Hercules [[4]](https://science.nasa.gov/mission/hubble/science/explore-the-night-sky/hubble-messier-catalog/messier-13/). M13 is estimated to contain over 100,000 stars with a total metallicity ([Fe/H]) of approximately -1.33 dex [[5]](https://academic.oup.com/mnras/article/404/3/1203/1049211?login=true#92596831). This is consistent with the ancient stellar populations found in other globular clusters [[6]](https://science.nasa.gov/universe/star-clusters-inside-the-universes-stellar-collections/). \n",
    "\n",
    "In this notebook, we'll estimate the age of M13 using photometric data from the Sloan Digital Sky Survey's (SDSS) Legacy Imaging Survey and stellar isochrones from the PARSEC database [[7]](https://www.aanda.org/articles/aa/full_html/2022/09/aa44166-22/aa44166-22.html). By plotting isochrone tracks for a range of ages and comparing them to the observed stellar distribution of M13, we can identify the isochrone that best fits the cluster's data and thereby estimate its age.\n"
   ]
  },
  {
   "cell_type": "markdown",
   "id": "940a7854",
   "metadata": {},
   "source": [
    "## Imports \n",
    "The main packages and their use-cases in this tutorial are as follows:\n",
    "- *numpy* to handle array functions\n",
    "- *matplotlib.pyplot* for plotting data\n",
    "- *matplotlib.image* for displaying .jpg images\n",
    "- *astroquery.mast.Observations* to access SDSS data from MAST\n",
    "- *astroquery.mast.Catalogs* to access data Gaia data from MAST\n",
    "- *pandas* to handle large data tables\n",
    "- *astropy.io.fits* for accessing FITS files"
   ]
  },
  {
   "cell_type": "code",
   "execution_count": null,
   "id": "d173cd75",
   "metadata": {},
   "outputs": [],
   "source": [
    "%matplotlib inline\n",
    "\n",
    "import numpy as np\n",
    "import matplotlib.pyplot as plt\n",
    "import matplotlib.image as mpimg\n",
    "\n",
    "from astroquery.mast import Observations\n",
    "from astroquery.mast import Catalogs\n",
    "import pandas as pd\n",
    "import astropy.io.fits as fits"
   ]
  },
  {
   "cell_type": "markdown",
   "id": "4bddbc5b",
   "metadata": {},
   "source": [
    "If you're not sure if you have the required versions of packages installed on your device, you can run the following cell:"
   ]
  },
  {
   "cell_type": "code",
   "execution_count": null,
   "id": "ffee3900",
   "metadata": {},
   "outputs": [],
   "source": [
    "with open(\"requirements.txt\") as f:\n",
    "    print(f\"Required packages for this notebook:\\n{f.read()}\")"
   ]
  },
  {
   "cell_type": "markdown",
   "id": "9cd6bf6d",
   "metadata": {},
   "source": [
    "To ensure these requirements are installed, you can run the following command in the terminal:\n",
    "```bash\n",
    "pip install -r requirements.txt\n",
    "```"
   ]
  },
  {
   "cell_type": "markdown",
   "id": "5906e92e",
   "metadata": {},
   "source": [
    "*** \n",
    "## Accessing SDSS Legacy Imaging Survey Data from MAST \n",
    "\n",
    "The [Mikulski Archive for Space Telescopes (MAST)](https://archive.stsci.edu/) hosts a large array of data from several telescope missions. In this tutorial, we will be specifically focusing on data from the Sloan Digital Sky Survey's (SDSS) Imaging Survey. \n",
    "\n",
    "The [SDSS Legacy Imaging Survey](https://www.sdss.org/dr18/imaging/) was the first SDSS survey completed! Beginning in 1998, the SDSS Legacy Imaging Survey captured around 35,000 square degrees of images until 2009, which covers about one-third of the whole sky. To do this, the survey took millions of 10 by 13 arcminute pictures (called \"fields\"). Not only does the SDSS Legacy Imaging Survey data at MAST provide users with preview images in .jpg format, but it also has photometric data in all five broad band SDSS filters (u, g, r, i, and z). For more information about the data and products from the SDSS Legacy Imaging Survey, you can check out the [SDSS Imaging Archive Manual](https://outerspace.stsci.edu/display/SDSS/Legacy+Imaging). "
   ]
  },
  {
   "cell_type": "markdown",
   "id": "f9949b77",
   "metadata": {},
   "source": [
    "### Querying SDSS Legacy Imaging Survey\n",
    "\n",
    "You can query data from MAST using the [website portal](https://mast.stsci.edu/portal/Mashup/Clients/Mast/Portal.html). You can also query MAST data in Python using the package `astroquery.mast`! \n",
    "\n",
    "We can query all of the SDSS Legacy Imaging data using `Observations.query_criteria` with `provenance_name = \"SDSS Legacy Imaging\"`. Since there is a large amount of data in the SDSS Legacy Imaging archive, we can display the first 10 results using the `pagesize` parameter as well as the `page` parameter."
   ]
  },
  {
   "cell_type": "code",
   "execution_count": null,
   "id": "cb3ef2cb",
   "metadata": {},
   "outputs": [],
   "source": [
    "# Querying SDSS Legacy Imaging\n",
    "imaging_data = Observations.query_criteria(\n",
    "    provenance_name=\"SDSS Legacy Imaging\", pagesize=10, page=1\n",
    ")\n",
    "\n",
    "# Display first 10 entries\n",
    "imaging_data"
   ]
  },
  {
   "cell_type": "markdown",
   "id": "986643b0",
   "metadata": {},
   "source": [
    "The table above provides some basic information for each object:\n",
    "\n",
    "- `instrument_name`: `SDSS Camera` indicates that the imaging data were collected using the SDSS camera. \n",
    "- `filters`: Indicates the SDSS filters used in the survey (u, g, r, i, and z).\n",
    "- `wavelength_region`: Indicates the region of the electromagnetic spectrum observed. This should be `OPTICAL`, since the SDSS Legacy Imaging Survey observed in the optical wavelength range.\n",
    "- `target_classification`: `FIELD` indicates the survey captured images of the sky.\n",
    "- `obs_id`: Observation ID associated with the image. \n",
    "- `s_ra` and `s_dec`: Right ascension and declination.\n",
    "- `dataproduct_type`: This should be `image` since we're focusing on an imaging survey.\n",
    "- `t_min` and `t_max`: The modified Julian dates indicating the start and end times of the exposures.\n",
    "- `em_min` and `em_max`: The minimum and maximum wavelengths observed by the survey. For the SDSS Legacy Imaging survey, this range is approximately 304.8 - 1083.3 nanometers (optical)."
   ]
  },
  {
   "cell_type": "markdown",
   "id": "1b9363bf",
   "metadata": {},
   "source": [
    "### Sampling SDSS Legacy Imaging Survey for M13\n",
    "\n",
    "In this tutorial, we will be gathering g-band and r-band magnitudes of stars in M13 measured by the SDSS Legacy Imaging survey by querying and downloading data through MAST. We'll plot these on a CMD where the apparent r-band magnitude is on the y-axis, and color (g-band minus r-band) is on the x-axis. We'll later plot this CMD with a CMD of isochrones from the [PARSEC database](https://stev.oapd.inaf.it/cgi-bin/cmd).\n",
    "\n",
    "For the purpose of this tutorial, we will only focus on querying by object name. We can query the SDSS Legacy Imaging Survey for M13 data using `objectname=\"M13\"`."
   ]
  },
  {
   "cell_type": "code",
   "execution_count": null,
   "id": "8a871682",
   "metadata": {},
   "outputs": [],
   "source": [
    "# Querying SDSS Legacy Imaging for M13\n",
    "obs_table = Observations.query_criteria(\n",
    "    objectname=\"M13\", provenance_name=\"SDSS Legacy Imaging\"\n",
    ")\n",
    "\n",
    "# Displaying the table\n",
    "obs_table"
   ]
  },
  {
   "cell_type": "markdown",
   "id": "f45100ea",
   "metadata": {},
   "source": [
    "From the query results, we can see that there are 17 SDSS fields that cover M13! The distance column shows how far each field is from the center of the cluster in arcseconds. "
   ]
  },
  {
   "cell_type": "markdown",
   "id": "6c5b890a",
   "metadata": {},
   "source": [
    "### Downloading SDSS Legacy Imaging Survey Data Products\n",
    "\n",
    "For each image, there are 7 available products: The preview .jpg image, the FITS files in each respective SDSS filter (u, g, r, i, and z), and the full FITS file with all five filters combined. The full FITS file is listed as `SDSS Imaging Catalogs` for the `productSubGroupDescription` parameter. \n",
    "\n",
    "For more information about products available at MAST, you can check out the [SDSS Legacy Imaging Survey Documentation](https://outerspace.stsci.edu/display/SDSS/Legacy+Imaging+Data+Products). "
   ]
  },
  {
   "cell_type": "code",
   "execution_count": null,
   "id": "5f025432",
   "metadata": {},
   "outputs": [],
   "source": [
    "# Viewing available products\n",
    "products = Observations.get_product_list(obs_table)\n",
    "products"
   ]
  },
  {
   "cell_type": "markdown",
   "id": "63c4149b",
   "metadata": {},
   "source": [
    "We can examine the preview image of the field of stars we'll be creating a CMD with! We'll download the preview .jpg file to your directory using the parameter `flat=True`. "
   ]
  },
  {
   "cell_type": "code",
   "execution_count": null,
   "id": "ea398b96",
   "metadata": {},
   "outputs": [],
   "source": [
    "# Selecting .jpg image\n",
    "img_products = Observations.filter_products(\n",
    "    products,\n",
    "    # Select .jpg file for photoObj\n",
    "    productFilename=\"frame-irg-003226-5-0126.jpg\",\n",
    ")"
   ]
  },
  {
   "cell_type": "code",
   "execution_count": null,
   "id": "22c4f756",
   "metadata": {},
   "outputs": [],
   "source": [
    "# Downloading preview images\n",
    "Observations.download_products(img_products, flat=True, verbose=False)"
   ]
  },
  {
   "cell_type": "markdown",
   "id": "63c44669",
   "metadata": {},
   "source": [
    "Now we can preview the image! "
   ]
  },
  {
   "cell_type": "code",
   "execution_count": null,
   "id": "17746f68",
   "metadata": {},
   "outputs": [],
   "source": [
    "img = mpimg.imread(\"frame-irg-003226-5-0126.jpg\")\n",
    "plt.figure(figsize=(10, 8))\n",
    "imgplot = plt.imshow(img)\n",
    "plt.axis(\"off\")\n",
    "plt.title(\"Preview Image of M13\")\n",
    "plt.show()"
   ]
  },
  {
   "cell_type": "markdown",
   "id": "cc0187dd",
   "metadata": {},
   "source": [
    "While the field isn't directly capturing the center of cluster, it will contain enough cluster stars to create a CMD with! We'll now download the full FITS files and select `photoObj-003226-5-0126.fits` due to its CMD congruency. \n",
    "\n",
    "Each photoObj FITS file follows the following naming scheme: `photoObj-{RUN}-{CAMCOL}-{FIELD}` where `RUN` is the zero-padded, six-digit identification number for that photometric run, `CAMCOL` is the camera column identifying the scanline within the run, and `FIELD` is field number for that observation. The photoObj file contains the fully calibrated FITS files from the [SDSS Imaging Pipline](https://www.sdss4.org/dr17/imaging/pipeline/) and other respective measurements such as photometry in all five SDSS filters (u, g, r, i, and z), source classification, and quality flags. There is one photoObj file for each run-camcol-field combination. "
   ]
  },
  {
   "cell_type": "code",
   "execution_count": null,
   "id": "1f2291e5",
   "metadata": {},
   "outputs": [],
   "source": [
    "# Masking the data to extract only the full FITS file\n",
    "new_products = Observations.filter_products(\n",
    "    products,\n",
    "    # Specify FITS files only\n",
    "    productGroupDescription=\"Minimum Recommended Products\",\n",
    "    # Select photoObj files (ugriz)\n",
    "    productSubGroupDescription=\"SDSS Imaging Catalogs\",\n",
    "    # Select photoObj-003226-5-0126.fits\n",
    "    productFilename=\"photoObj-003226-5-0126.fits\",\n",
    ")\n",
    "\n",
    "# Downloading photoObj-003226-5-0126.fits\n",
    "manifest = Observations.download_products(new_products, verbose=False)"
   ]
  },
  {
   "cell_type": "markdown",
   "id": "48bb1f4c",
   "metadata": {},
   "source": [
    "We can now open the file and examine it. For this tutorial, we will focus on the g-band and r-band magnitudes provided in the first file extension. \n",
    "\n",
    "The various file extensions are broken down on the [SDSS website](https://data.sdss.org/datamodel/files/BOSS_PHOTOOBJ/RERUN/RUN/CAMCOL/photoObj.html):\n",
    "- HDU 0: The primary header information.\n",
    "- HDU 1: The photoObj table. This contains information such as magnitudes, coordinates, and flux."
   ]
  },
  {
   "cell_type": "code",
   "execution_count": null,
   "id": "95f98803",
   "metadata": {},
   "outputs": [],
   "source": [
    "# Opening file\n",
    "star_array = fits.open(manifest[\"Local Path\"][0])\n",
    "\n",
    "# Display header info\n",
    "star_array.info()"
   ]
  },
  {
   "cell_type": "markdown",
   "id": "61015dd7",
   "metadata": {},
   "source": [
    "### Creating a Color-Magnitude Diagram of M13\n",
    "\n",
    "To obtain magnitudes from the FITS file, we'll be using `PSFMAG` from the first file extension. Within `PSFMAG` there are 5 total columns, each one corresponding to the apparent magnitudes in the u, g, r, i, or z filters. We'll extract the g-band magnitudes from the second column and the r-band magnitudes from the third column."
   ]
  },
  {
   "cell_type": "code",
   "execution_count": null,
   "id": "45934ba0",
   "metadata": {},
   "outputs": [],
   "source": [
    "# Sending the PSFMAG data to a numpy array\n",
    "magnitudes = star_array[1].data[\"PSFMAG\"]\n",
    "magnitudes = np.array(magnitudes)\n",
    "\n",
    "# Creating arrays for g-band and r-band magnitudes\n",
    "g_band = magnitudes[:, 1]\n",
    "r_band = magnitudes[:, 2]\n",
    "\n",
    "# Calculating color (g - r)\n",
    "color_data1 = g_band - r_band"
   ]
  },
  {
   "cell_type": "markdown",
   "id": "cc1dbf8c",
   "metadata": {},
   "source": [
    "To create a CMD, we simply need to plot the r-band magnitudes against the color (g-r) for these stars!"
   ]
  },
  {
   "cell_type": "code",
   "execution_count": null,
   "id": "0530a0de",
   "metadata": {},
   "outputs": [],
   "source": [
    "# Plotting the CMD\n",
    "plt.figure(figsize=(8, 6))\n",
    "plt.scatter(color_data1, r_band, s=3, color=\"black\", label=\"M13 data\")\n",
    "plt.ylim(10, 30)\n",
    "plt.gca().invert_yaxis()\n",
    "plt.xlim(-2, 2)\n",
    "plt.title(\"CMD of M13\")\n",
    "plt.ylabel(\"Apparent Magnitude (r-band)\")\n",
    "plt.xlabel(\"Color (g - r)\")\n",
    "plt.legend()\n",
    "plt.grid(True)\n",
    "plt.tight_layout()\n",
    "plt.show()"
   ]
  },
  {
   "cell_type": "markdown",
   "id": "2c3193d8",
   "metadata": {},
   "source": [
    "*** \n",
    "## Finding the Distance to M13 Using Data from Gaia\n",
    "\n",
    "Gaia was launched by the European Space Agency (ESA) in December 2013. Orbiting at L2, its main purpose is to observe billions of stars to create a 3D map of our galaxy. Gaia provides data such as astrometry, photometry, and radial velocities For more information about Gaia, visit the [ESA website](https://www.esa.int/Science_Exploration/Space_Science/Gaia). \n",
    "\n",
    "We'll query Gaia for M13 data. This catalog search should take around a minute or so. "
   ]
  },
  {
   "cell_type": "code",
   "execution_count": null,
   "id": "9c6bdbdf",
   "metadata": {},
   "outputs": [],
   "source": [
    "# querying Gaia\n",
    "coordinates = \"16h41m41.24s 36d27m35.5s\"  # Coordinates of M13\n",
    "catalog_data = Catalogs.query_region(\n",
    "    coordinates, catalog=\"GaiaDR3\", radius=0.375\n",
    ")"
   ]
  },
  {
   "cell_type": "markdown",
   "id": "aafce61b",
   "metadata": {},
   "source": [
    "Gaia provides parallax measurements for a wide variety of astronomical objects. Stellar parallax is the apparent shift in position of a nearby star caused by Earth's motion around the Sun.\n",
    "\n",
    "<figure style=\"text-align: center;\">\n",
    "  <img src=\"https://www.astronomy.ohio-state.edu/pogge.1/Ast162/Unit1/Images/parallax_sm.png\" alt=\"Stellar Parallax\" width=\"450px\" height=\"320px\"/>\n",
    "  <figcaption>\n",
    "  Stellar Parallax Diagram by R. Pogge\n",
    "  <a href=\"https://www.astronomy.ohio-state.edu/pogge.1/Ast162/Unit1/distances.html\" target=\"_blank\">[8].</a>\n",
    "  </figcaption>\n",
    "</figure>\n",
    "\n",
    "We can determine the distance to these objects from the parallax angle using small-angle approximation:\n",
    "\n",
    "$$\n",
    "d = \\frac{1}{p}\n",
    "$$\n",
    "\n",
    "where $d$ is distance in parsecs and $p$ is parallax in arcseconds. "
   ]
  },
  {
   "cell_type": "code",
   "execution_count": null,
   "id": "b80ed958",
   "metadata": {},
   "outputs": [],
   "source": [
    "# Extracting parallax measurements from Gaia\n",
    "parallax = catalog_data[\"parallax\"]  # in milliarcseconds\n",
    "distance_array = 1 / parallax  # distance array from parallax (kiloparsecs)\n",
    "ra = catalog_data[\"ra\"]  # right ascension\n",
    "dec = catalog_data[\"dec\"]  # declination\n",
    "\n",
    "# Sorting data\n",
    "sorted_indices = np.argsort(distance_array)\n",
    "ra_sorted = ra[sorted_indices]\n",
    "dec_sorted = dec[sorted_indices]\n",
    "distance_sorted = distance_array[sorted_indices]\n",
    "\n",
    "# Creating a histogram of the parallax measurements and RA/DEC map\n",
    "fig, ax = plt.subplots(nrows=1, ncols=2, figsize=(15, 6))\n",
    "\n",
    "# Histogram\n",
    "ax[0].hist(parallax, bins=100, color=\"gray\")\n",
    "ax[0].axvline(\n",
    "    np.nanmedian(parallax),\n",
    "    color=\"red\",\n",
    "    label=f\"Median Parallax \\n {np.nanmedian(parallax):.3f} milliarcsec\",\n",
    ")\n",
    "ax[0].set_xlim(-5, 5)\n",
    "ax[0].set_xticks(np.arange(-5, 5, 1))\n",
    "ax[0].set_xlabel(\"Parallax (milliarcseconds)\")\n",
    "ax[0].set_ylabel(\"Frequency\")\n",
    "ax[0].set_title(\"Histogram of M13 Parallax Measurements from Gaia\")\n",
    "ax[0].legend()\n",
    "\n",
    "# RA/DEC map\n",
    "plot = ax[1].scatter(\n",
    "    ra_sorted,\n",
    "    dec_sorted,\n",
    "    s=2,\n",
    "    c=distance_sorted,\n",
    "    cmap=\"viridis\",\n",
    "    vmin=0,\n",
    "    vmax=8,\n",
    ")\n",
    "cbar = fig.colorbar(plot, ax=ax[1])\n",
    "cbar.set_label(\"Distance (kpc)\")\n",
    "ax[1].set_xlabel(\"RA (degrees)\")\n",
    "ax[1].set_ylabel(\"DEC (degrees)\")\n",
    "ax[1].set_title(\"Position of Parallax Measurements Colored by Distance\")\n",
    "\n",
    "plt.show()"
   ]
  },
  {
   "cell_type": "markdown",
   "id": "ca236670",
   "metadata": {},
   "source": [
    "The histogram above shows the distribution of the various parallax measurements Gaia made for M13. We'll take the median of these measurements to use as a general distance for the cluster. "
   ]
  },
  {
   "cell_type": "code",
   "execution_count": null,
   "id": "78310e7c",
   "metadata": {},
   "outputs": [],
   "source": [
    "# Finding the median parallax of the data\n",
    "cluster_median = np.nanmedian(parallax)\n",
    "\n",
    "# Calculating distance using stellar parallax formula\n",
    "distance = 1.0 / cluster_median\n",
    "\n",
    "print(f\"Median Parallax: {cluster_median} milliarcseconds\")\n",
    "print(f\"Distance to M13: {distance:.4f} kpc\")"
   ]
  },
  {
   "cell_type": "markdown",
   "id": "893dd563",
   "metadata": {},
   "source": [
    "Therefore, according to Gaia data, the distance to M13 is approximately 7.6951 kpc. We can now use this to convert the isochrones to apparent magnitudes in the next steps. "
   ]
  },
  {
   "cell_type": "markdown",
   "id": "5e071b08",
   "metadata": {},
   "source": [
    "***\n",
    "## Determining the Age of M13 Using Stellar Isochrone Matching\n",
    "\n",
    "We can determine the approximate age of M13 by plotting its CMD with isochrones of varying ages, and match the best fit isochrone track to the M13 data. \n",
    "\n",
    "The isochrones are located in the .txt file `isochrones.txt`. These were the result of generating isochrones from the [PARSEC database](https://stev.oapd.inaf.it/cgi-bin/cmd) with a metallicity of -1.33 dex and ages from 2 billion years old to 14 billion years old in step sizes of 1 billion years. The other settings were left as default. \n",
    "\n",
    "Since the SDSS Legacy Survey observed apparent magnitudes, we'll need to convert the absolute magnitudes from the isochrones to apparent magnitudes. We'll use the distance modulus formula since we know the approximate distance to M13 [[9]](https://astronomy.swin.edu.au/cosmos/d/Distance+Modulusx):\n",
    "$$\n",
    "m-M=5log_{10}(\\frac{d}{10})\n",
    "$$\n",
    "where $m$ is apparent magnitude, $M$ is absolute magnitude, and $d$ is the distance to the object in parsecs. "
   ]
  },
  {
   "cell_type": "code",
   "execution_count": null,
   "id": "7505149e",
   "metadata": {},
   "outputs": [],
   "source": [
    "# Distance to M13\n",
    "d = distance * 10**3  # parsecs\n",
    "\n",
    "\n",
    "# Converting absolute magnitudes from isochrones to apparent\n",
    "def app_mag(M):\n",
    "    return M + 5 * np.log10(d / 10)"
   ]
  },
  {
   "cell_type": "code",
   "execution_count": null,
   "id": "c4d88746",
   "metadata": {},
   "outputs": [],
   "source": [
    "# Importing isochrone .txt file\n",
    "parsec_data = pd.read_csv(\n",
    "    \"isochrones.txt\", sep=r\"\\s+\", comment=\"#\", header=None\n",
    ")\n",
    "\n",
    "# Converting the data file to an array\n",
    "parsec_data = np.array(parsec_data)"
   ]
  },
  {
   "cell_type": "code",
   "execution_count": null,
   "id": "911529c6",
   "metadata": {},
   "outputs": [],
   "source": [
    "# The isochrone data file is broken up into age bins\n",
    "log_age = [\n",
    "    9.30103,\n",
    "    9.47712,\n",
    "    9.60206,\n",
    "    9.69897,\n",
    "    9.77815,\n",
    "    9.84510,\n",
    "    9.90309,\n",
    "    9.95424,\n",
    "    10.00000,\n",
    "    10.04139,\n",
    "    10.07918,\n",
    "    10.11394,\n",
    "    10.14613,\n",
    "]\n",
    "\n",
    "# Setting up a dictionary\n",
    "age_data = {}\n",
    "\n",
    "# Looping through .txt file to separate by age\n",
    "for i, age in enumerate(log_age, start=1):\n",
    "    age_data[f\"age{i}\"] = parsec_data[parsec_data[:, 2] == age]\n",
    "\n",
    "# Extracting g and r magnitudes, applying distance modulus formula\n",
    "# Setting up arrays\n",
    "r_data = []\n",
    "g_data = []\n",
    "color_data2 = []\n",
    "\n",
    "# Sending g and r magnitudes and color to an array\n",
    "for i in range(1, len(log_age) + 1):\n",
    "    data = age_data[f\"age{i}\"]\n",
    "    g_mag = app_mag(data[:, 29])\n",
    "    r_mag = app_mag(data[:, 30])\n",
    "    color = g_mag - r_mag\n",
    "\n",
    "    r_data.append(r_mag)\n",
    "    g_data.append(g_mag)\n",
    "    color_data2.append(color)\n",
    "\n",
    "# Plotting the isochrones\n",
    "color = [\n",
    "    \"brown\",\n",
    "    \"pink\",\n",
    "    \"magenta\",\n",
    "    \"purple\",\n",
    "    \"navy\",\n",
    "    \"darkturquoise\",\n",
    "    \"teal\",\n",
    "    \"olive\",\n",
    "    \"green\",\n",
    "    \"gold\",\n",
    "    \"orange\",\n",
    "    \"lightcoral\",\n",
    "    \"red\",\n",
    "]\n",
    "fig, ax = plt.subplots(figsize=(10, 8))\n",
    "for i, j, k, r in zip(color_data2, r_data, log_age, color):\n",
    "    ax.plot(\n",
    "        i,\n",
    "        j,\n",
    "        alpha=0.5,\n",
    "        label=f\"{(10**k) / 1e9:.0f} billion years old\",\n",
    "        color=r,\n",
    "    )\n",
    "\n",
    "# Plotting the data\n",
    "ax.scatter(\n",
    "    color_data1,\n",
    "    r_band,\n",
    "    marker=\"x\",\n",
    "    linewidth=0.9,\n",
    "    s=20,\n",
    "    color=\"black\",\n",
    "    label=\"SDSS data of M13\",\n",
    ")\n",
    "ax.set_ylabel(\"Apparent Magnitude (r-band)\")\n",
    "ax.set_xlabel(\"Color (g - r)\")\n",
    "ax.set_title(\"Color - Magnitude Diagram of M13 with Isochrones\")\n",
    "ax.set_ylim(10, 30)\n",
    "ax.set_xlim(-2, 2)\n",
    "ax.invert_yaxis()\n",
    "ax.legend(fontsize=10)\n",
    "ax.grid(True)\n",
    "fig.tight_layout()"
   ]
  },
  {
   "cell_type": "markdown",
   "id": "e81b62ef",
   "metadata": {},
   "source": [
    "While the isochrones extend beyond 27.5 r-band magnitude, the M13 data doesn't quite reach this far due to the limiting magnitude of the SDSS camera. \n",
    "\n",
    "We'll create a zoomed-in plot to further study the terminal age main sequence (TAMS) and main sequence turnoff phases. "
   ]
  },
  {
   "cell_type": "code",
   "execution_count": null,
   "id": "fc4458ec",
   "metadata": {},
   "outputs": [],
   "source": [
    "# Replotting with different x and y limits\n",
    "ax.set_xlim(0, 0.9)\n",
    "ax.set_ylim(16, 20)\n",
    "ax.invert_yaxis()\n",
    "ax.legend(fontsize=8)\n",
    "\n",
    "# Adding annotation for main sequence turnoff\n",
    "circle = plt.Circle(\n",
    "    (0.35, 17.75),\n",
    "    0.25,\n",
    "    color=\"red\",\n",
    "    fill=False,\n",
    "    linewidth=2,\n",
    "    label=\"Main Sequence Turnoff\",\n",
    ")\n",
    "ax.add_patch(circle)\n",
    "ax.annotate(\n",
    "    \"Main Sequence Turnoff\",\n",
    "    xy=(0.6, 17.75),\n",
    "    xytext=(0.6 + 0.05, 17.75 - 0.2),\n",
    "    arrowprops=dict(arrowstyle=\"->\", color=\"red\"),\n",
    "    fontsize=12,\n",
    "    color=\"red\",\n",
    ")\n",
    "\n",
    "fig"
   ]
  },
  {
   "cell_type": "markdown",
   "id": "c8f521e3",
   "metadata": {},
   "source": [
    "From examining the data and isochrones within the main sequence turnoff circle, it appears the data follow the orange track, indicating the cluster is approximately **12 billion years old**. This isn't far from the 11.65 billion year old estimate made by D. Forbes and T. Bridges in *Accreted Versus in situ Milky Way Globular Clusters* [[5]](https://academic.oup.com/mnras/article/404/3/1203/1049211?login=true#92596831)."
   ]
  },
  {
   "cell_type": "markdown",
   "id": "de63d159",
   "metadata": {},
   "source": [
    "***\n",
    "## End of Tutorial\n",
    "\n",
    "Congratulations, you now know how to determine the age of a star cluster from isochrone matching using the SDSS Legacy Imaging Survey! "
   ]
  },
  {
   "cell_type": "markdown",
   "id": "fffbf5e0",
   "metadata": {},
   "source": [
    "***\n",
    "## Exercises\n",
    "Now it's your turn to determine the age of **Messier 3**! M3 has a metallicity of -1.34 dex, which is nearly identical to M13, so you can use the same isochrone file `isochrones.txt` [[5]](https://academic.oup.com/mnras/article/404/3/1203/1049211?login=true#92596831). \n",
    "\n",
    "There are six different fields available for M3, you can choose whichever one visually has the best looking CMD when plotted, so answers can vary slightly.  "
   ]
  },
  {
   "cell_type": "code",
   "execution_count": null,
   "id": "62dad713",
   "metadata": {},
   "outputs": [],
   "source": [
    "# Query SDSS Legacy Imaging Survey for M3 data"
   ]
  },
  {
   "cell_type": "code",
   "execution_count": null,
   "id": "630816e4",
   "metadata": {},
   "outputs": [],
   "source": [
    "# View available products"
   ]
  },
  {
   "cell_type": "code",
   "execution_count": null,
   "id": "6f3e474a",
   "metadata": {},
   "outputs": [],
   "source": [
    "# Download products"
   ]
  },
  {
   "cell_type": "code",
   "execution_count": null,
   "id": "a1586dda",
   "metadata": {},
   "outputs": [],
   "source": [
    "# Plot CMD of M3"
   ]
  },
  {
   "cell_type": "code",
   "execution_count": null,
   "id": "bd254730",
   "metadata": {},
   "outputs": [],
   "source": [
    "# Find distance to M3 using Gaia"
   ]
  },
  {
   "cell_type": "code",
   "execution_count": null,
   "id": "bd719a09",
   "metadata": {},
   "outputs": [],
   "source": [
    "# Plot CMD with isochrones"
   ]
  },
  {
   "cell_type": "markdown",
   "id": "c76e9ff6",
   "metadata": {},
   "source": [
    "***\n",
    "## Exercise Solutions"
   ]
  },
  {
   "cell_type": "code",
   "execution_count": null,
   "id": "a7850c28",
   "metadata": {},
   "outputs": [],
   "source": [
    "# Query SDSS Legacy Imaging Survey for M3 data\n",
    "\n",
    "obs_table2 = Observations.query_criteria(\n",
    "    objectname=\"M3\", provenance_name=\"SDSS Legacy Imaging\"\n",
    ")\n",
    "\n",
    "# Displaying the table\n",
    "obs_table2"
   ]
  },
  {
   "cell_type": "code",
   "execution_count": null,
   "id": "7998a3cb",
   "metadata": {},
   "outputs": [],
   "source": [
    "# Download products\n",
    "products2 = Observations.get_product_list(obs_table2)\n",
    "\n",
    "# Download products\n",
    "new_products2 = Observations.filter_products(\n",
    "    products2\n",
    "    # Specify FITS files only\n",
    "    productGroupDescription=\"Minimum Recommended Products\",\n",
    "    # Select photoObj files (ugriz)\n",
    "    productSubGroupDescription=\"SDSS Imaging Catalogs\",\n",
    "    # Select photoObj-003226-5-0126.fits\n",
    "    productFilename=\"photoObj-004649-4-0145.fits\",\n",
    ")\n",
    "\n",
    "# Downloading photoObj-003226-5-0126.fits\n",
    "manifest2 = Observations.download_products(new_products2)"
   ]
  },
  {
   "cell_type": "code",
   "execution_count": null,
   "id": "84adb92a",
   "metadata": {},
   "outputs": [],
   "source": [
    "# Plot CMD of M3\n",
    "\n",
    "# Opening file\n",
    "star_array2 = fits.open(manifest2[\"Local Path\"][0])\n",
    "\n",
    "# Sending the PSFMAG data to a numpy array\n",
    "magnitudes2 = star_array2[1].data[\"PSFMAG\"]\n",
    "magnitudes2 = np.array(magnitudes2)\n",
    "\n",
    "# Creating arrays for g-band and r-band magnitudes\n",
    "g_band2 = magnitudes2[:, 1]\n",
    "r_band2 = magnitudes2[:, 2]\n",
    "\n",
    "# Calculating color (g - r)\n",
    "color_data3 = g_band2 - r_band2\n",
    "\n",
    "# Plotting the CMD\n",
    "plt.figure(figsize=(8, 6))\n",
    "plt.scatter(color_data3, r_band2, s=3, color=\"black\", label=\"M3 Data\")\n",
    "plt.ylim(10, 30)\n",
    "plt.gca().invert_yaxis()\n",
    "plt.xlim(-2, 2)\n",
    "plt.title(\"CMD of M3\")\n",
    "plt.ylabel(\"Apparent Magnitude (r-band)\")\n",
    "plt.xlabel(\"Color (g - r)\")\n",
    "plt.legend()\n",
    "plt.grid(True)\n",
    "plt.tight_layout()\n",
    "plt.show()"
   ]
  },
  {
   "cell_type": "code",
   "execution_count": null,
   "id": "95eeecb6",
   "metadata": {},
   "outputs": [],
   "source": [
    "# Find distance to M3 using Gaia\n",
    "\n",
    "# querying Gaia\n",
    "coordinates2 = \"13h42m11.80s 28d22m31.69s\"  # Coordinates of M3\n",
    "\n",
    "catalog_data2 = Catalogs.query_region(\n",
    "    coordinates2, catalog=\"GaiaDR3\", radius=0.35\n",
    ")\n",
    "\n",
    "# Extracting parallax measurements from Gaia\n",
    "parallax2 = catalog_data2[\"parallax\"]  # in milliarcseconds\n",
    "distance_array2 = 1 / parallax2  # distance array from parallax (kiloparsecs)\n",
    "ra2 = catalog_data2[\"ra\"]  # right ascension\n",
    "dec2 = catalog_data2[\"dec\"]  # declination\n",
    "\n",
    "# Sorting data\n",
    "sorted_indices2 = np.argsort(distance_array2)\n",
    "ra_sorted2 = ra2[sorted_indices2]\n",
    "dec_sorted2 = dec2[sorted_indices2]\n",
    "distance_sorted2 = distance_array2[sorted_indices2]\n",
    "\n",
    "# Creating a histogram of the parallax measurements and RA/DEC map\n",
    "fig2, ax2 = plt.subplots(nrows=1, ncols=2, figsize=(15, 6))\n",
    "\n",
    "# Histogram\n",
    "ax2[0].hist(parallax2, bins=100, color=\"gray\")\n",
    "ax2[0].axvline(\n",
    "    np.nanmedian(parallax2),\n",
    "    color=\"red\",\n",
    "    label=f\"Median Parallax \\n {np.nanmedian(parallax2):.3f} milliarcsec\",\n",
    ")\n",
    "ax2[0].set_xlim(-5, 5)\n",
    "ax2[0].set_xticks(np.arange(-5, 5, 1))\n",
    "ax2[0].set_xlabel(\"Parallax (milliarcseconds)\")\n",
    "ax2[0].set_ylabel(\"Frequency\")\n",
    "ax2[0].set_title(\"Histogram of M3 Parallax Measurements from Gaia\")\n",
    "ax2[0].legend()\n",
    "\n",
    "# RA/DEC map\n",
    "plot2 = ax2[1].scatter(\n",
    "    ra_sorted2,\n",
    "    dec_sorted2,\n",
    "    s=2,\n",
    "    c=distance_sorted2,\n",
    "    cmap=\"viridis\",\n",
    "    vmin=0,\n",
    "    vmax=8,\n",
    ")\n",
    "cbar2 = fig.colorbar(plot2, ax=ax2[1])\n",
    "cbar2.set_label(\"Distance (kpc)\")\n",
    "ax2[1].set_xlabel(\"RA (degrees)\")\n",
    "ax2[1].set_ylabel(\"DEC (degrees)\")\n",
    "ax2[1].set_title(\"Position of Parallax Measurements Colored by Distance\")\n",
    "\n",
    "plt.show()\n",
    "\n",
    "# Finding the median parallax of the data\n",
    "cluster_median2 = np.nanmedian(parallax2)\n",
    "\n",
    "# Calculating distance using stellar parallax formula\n",
    "distance2 = 1.0 / cluster_median2\n",
    "\n",
    "print(f\"Median Parallax: {cluster_median2} milliarcseconds\")\n",
    "print(f\"Distance to M3: {distance2:.4f} kpc\")\n",
    "\n",
    "# Distance to M3\n",
    "d2 = distance2 * 10**3  # parsecs"
   ]
  },
  {
   "cell_type": "code",
   "execution_count": null,
   "id": "87dd1375",
   "metadata": {},
   "outputs": [],
   "source": [
    "# Plot CMD with isochrones\n",
    "\n",
    "\n",
    "def app_mag2(M):\n",
    "    return M + 5 * np.log10(d2 / 10)\n",
    "\n",
    "\n",
    "r_data2 = []\n",
    "g_data2 = []\n",
    "color_data4 = []\n",
    "\n",
    "for i in range(1, len(log_age) + 1):\n",
    "    data = age_data[f\"age{i}\"]\n",
    "    g_mag = app_mag2(data[:, 29])\n",
    "    r_mag = app_mag2(data[:, 30])\n",
    "    color2 = g_mag - r_mag\n",
    "\n",
    "    r_data2.append(r_mag)\n",
    "    g_data2.append(g_mag)\n",
    "    color_data4.append(color2)\n",
    "\n",
    "fig, ax = plt.subplots(figsize=(10, 8))\n",
    "for i, j, k, r in zip(color_data4, r_data2, log_age, color):\n",
    "    ax.plot(\n",
    "        i,\n",
    "        j,\n",
    "        alpha=0.5,\n",
    "        label=f\"{(10**k) / 1e9:.0f} billion years old\",\n",
    "        color=r,\n",
    "    )\n",
    "\n",
    "# Plotting the data\n",
    "ax.scatter(\n",
    "    color_data3,\n",
    "    r_band2,\n",
    "    marker=\"x\",\n",
    "    linewidth=0.9,\n",
    "    s=20,\n",
    "    color=\"black\",\n",
    "    label=\"SDSS data of M3\",\n",
    ")\n",
    "ax.set_ylabel(\"Apparent Magnitude (r-band)\")\n",
    "ax.set_xlabel(\"Color (g - r)\")\n",
    "ax.set_title(\"Color - Magnitude Diagram of M3 with Isochrones\")\n",
    "ax.set_ylim(10, 30)\n",
    "ax.set_xlim(-2, 2)\n",
    "ax.invert_yaxis()\n",
    "ax.legend(fontsize=10)\n",
    "ax.grid(True)\n",
    "fig.tight_layout()"
   ]
  },
  {
   "cell_type": "code",
   "execution_count": null,
   "id": "0af6f00d",
   "metadata": {},
   "outputs": [],
   "source": [
    "# Replotting with different x and y limits\n",
    "ax.set_xlim(0, 0.9)\n",
    "ax.set_ylim(16, 20)\n",
    "ax.invert_yaxis()\n",
    "ax.legend(fontsize=8)\n",
    "\n",
    "# Adding annotation for main sequence turnoff\n",
    "circle = plt.Circle(\n",
    "    (0.35, 18.25),\n",
    "    0.25,\n",
    "    color=\"red\",\n",
    "    fill=False,\n",
    "    linewidth=2,\n",
    "    label=\"Main Sequence Turnoff\",\n",
    ")\n",
    "ax.add_patch(circle)\n",
    "ax.annotate(\n",
    "    \"Main Sequence Turnoff\",\n",
    "    xy=(0.6, 18.25),\n",
    "    xytext=(0.6 + 0.05, 17.75 - 0.2),\n",
    "    arrowprops=dict(arrowstyle=\"->\", color=\"red\"),\n",
    "    fontsize=12,\n",
    "    color=\"red\",\n",
    ")\n",
    "\n",
    "fig"
   ]
  },
  {
   "cell_type": "markdown",
   "id": "d33e8fb6",
   "metadata": {},
   "source": [
    "**Results:**\n",
    "The data for M3 appear to fit between the yellow and orange lines. Therefore, M3 is between 11-12 billion years old! \n",
    "\n",
    "This matches the [age estimates](https://www.kopernik.org/images/archive/m3.htm) of approximately 8-11.4 billion years."
   ]
  },
  {
   "cell_type": "markdown",
   "id": "5b4329d3",
   "metadata": {},
   "source": [
    "***\n",
    "## Addtional Resources\n",
    "\n",
    "Additional resources are linked below:\n",
    "- [SDSS Legacy Archive at MAST](https://archive.stsci.edu/missions-and-data/sdss)\n",
    "- [SDSS Legacy Archive at MAST User Manual](https://outerspace.stsci.edu/display/SDSS/The+SDSS+Legacy+Archive+at+MAST)\n",
    "- [SDSS Legacy Imaging Archive User Manual](https://outerspace.stsci.edu/display/SDSS/Legacy+Imaging)\n",
    "- [SDSS Imaging Documentation](https://www.sdss.org/dr18/imaging/)\n",
    "- [SDSS Voyages HR Diagram Tutorial](https://voyages.sdss.org/expeditions/expedition-to-the-milky-way/star-clusters/hr-diagrams/)\n",
    "- [astroquery.mast User Manual](https://astroquery.readthedocs.io/en/latest/mast/mast.html)\n",
    "- [MAST API](https://mast.stsci.edu/api/v0/index.html)"
   ]
  },
  {
   "cell_type": "markdown",
   "id": "63c1a1aa",
   "metadata": {},
   "source": [
    "## Citations\n",
    "\n",
    "If you use data from MAST for published research, please see the following links for information on which citations to include in your paper:\n",
    "\n",
    "* [Citing SDSS](https://sdss.org/collaboration/citing-sdss/)\n",
    "* [Citing MAST](https://archive.stsci.edu/publishing/mission-acknowledgements)\n",
    "* [Citing astropy](https://www.astropy.org/acknowledging.html)"
   ]
  },
  {
   "cell_type": "markdown",
   "id": "f8b5f79d",
   "metadata": {},
   "source": [
    "## About this Notebook\n",
    "\n",
    "**Author(s):** Natalie Haugen (nhaugen@terpmail.umd.edu) and Julie Imig (jimig@stsci.edu) <br>\n",
    "**Keyword(s):** Tutorial, SDSS, SDSS Legacy Imaging Survey, stars, HR diagram, CMD, imaging <br>\n",
    "**First published:** July 2025 <br>\n",
    "**Last updated:** July 2025 <br>\n",
    "\n",
    "***\n",
    "[Top of Page](#top)\n",
    "<img style=\"float: right;\" src=\"https://raw.githubusercontent.com/spacetelescope/style-guides/master/guides/images/stsci-logo.png\" alt=\"Space Telescope Logo\" width=\"200px\"/>"
   ]
  }
 ],
 "metadata": {
  "kernelspec": {
   "display_name": "base",
   "language": "python",
   "name": "python3"
  },
  "language_info": {
   "codemirror_mode": {
    "name": "ipython",
    "version": 3
   },
   "file_extension": ".py",
   "mimetype": "text/x-python",
   "name": "python",
   "nbconvert_exporter": "python",
   "pygments_lexer": "ipython3",
   "version": "3.13.2"
  }
 },
 "nbformat": 4,
 "nbformat_minor": 5
}
