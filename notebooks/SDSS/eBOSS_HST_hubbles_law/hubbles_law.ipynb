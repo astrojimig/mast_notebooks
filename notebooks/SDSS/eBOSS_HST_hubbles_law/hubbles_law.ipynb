{
 "cells": [
  {
   "cell_type": "markdown",
   "metadata": {},
   "source": [
    "<a id=\"top\"></a>\n",
    "# Calculating the Hubble Constant with eBOSS \n",
    "***\n",
    "## Learning Goals\n",
    "\n",
    "\n",
    "By the end of this tutorial, you will:\n",
    "\n",
    "- Understand how to use `astroquery.mast` to download SDSS eBOSS and HST data from the MAST archive.\n",
    "- Plot a sample of galaxies from eBOSS with a line of best fit to determine Hubble's constant.\n",
    "- Create a color image of Abell 2199 from HST data."
   ]
  },
  {
   "cell_type": "markdown",
   "metadata": {
    "slideshow": {
     "slide_type": "slide"
    }
   },
   "source": [
    "## Table of Contents \n",
    "* [Introduction](#introduction)\n",
    "* [Imports](#imports)\n",
    "* [Accessing eBOSS Data from MAST](#accessing-eboss-data-from-mast)\n",
    "    * [Querying eBOSS Data](#querying-eboss-data)\n",
    "    * [Sampling eBOSS for Redshifted Galaxies](#sampling-eboss-for-redshifted-galaxies)\n",
    "    * [Downloading Products from eBOSS](#downloading-products-from-eboss)\n",
    "    * [Making the Hubble-Lemaître Diagram](#making-the-hubble-lemaître-diagram)\n",
    "    * [Plotting eBOSS Data](#plotting-eboss-data)\n",
    "      * [Importing Abell 2199 Data](#importing-abell-2199-data)\n",
    "    * [Comparing Calculated H<sub>0</sub> to Other Models](#comparing-calculated-h0-to-other-models)\n",
    "* [Utilizing HST Data from Mast](#utilizing-hst-data-from-mast)\n",
    "    * [Creating an Image of Abell 2199 Using HST](#creating-an-image-of-abell-2199-using-hst)\n",
    "    * [Plotting the HST Images](#plotting-the-hst-images)\n",
    "    * [Colorizing the HST Image](#colorizing-the-hst-image-of-abell-2199)\n",
    "* [End of Tutorial](#end-of-tutorial)\n",
    "* [Additional Resources](#additional-resources)\n",
    "* [Citations](#citations)\n",
    "* [About this Notebook](#about-this-notebook)\n",
    "\n",
    "\n",
    "\n",
    "\n",
    "## Introduction \n",
    "The Hubble-Lemaître law is one of the most prominent topics of debate in modern cosmology. In 1927, Georges Lemaître published a paper in a Belgian journal proposing that the Universe was expanding, using data from Vesto Slipher at Lowell Observatory. Around the same time, Edwin Hubble was independently studying the relationship between galaxy distances and their radial velocities at Mount Wilson Observatory. Although Hubble was originally credited with the discovery, in 2018 the International Astronomical Union officially renamed \"Hubble’s Law\" to the \"Hubble–Lemaître Law\" to acknowledge Lemaître’s earlier contribution  [[1]](https://pressbooks.bccampus.ca/astronomy1105/chapter/26-5-the-expanding-universe/).\n",
    "\n",
    "The Big Bang occurred approximately 14 billion years ago, leading to the expansion of the Universe. We can estimate the speed of this expansion by examining the redshifts of a sample of galaxies. These redshifts can be translated into radial velocities, and then using observed spectral flux, we can the determine the distances to these galaxies. By plotting radial velocities versus distances, we can apply a linear fit model to the data. This allows us to approximate the Hubble constant from the slope as described by Hubble's Law [[2]](https://www.teachastronomy.com/textbook/The-Expanding-Universe/Relating-Redshift-and-Distance/):\n",
    "\n",
    "$$\n",
    "v_{rad} = H_{0}d\n",
    "$$\n",
    "\n",
    "There are various models used to calculate H<sub>0</sub>, some based on observations of the Cosmic Microwave Background (CMB), and others on measurements of galaxies or supernovae. These models typically yield varying values of H<sub>0</sub> ranging from approximately 67 km/s/Mpc to 74 km/s/Mpc. This discrepancy is known as the *Hubble Tension* [[3]](https://doi.org/10.3390/universe9020094). \n",
    "\n",
    "In this notebook, we'll construct a Hubble-Lemaître Diagram using data from the Sloan Digital Sky Survey’s (SDSS) Extended Baryon Oscillation Spectroscopic Survey (eBOSS). eBOSS gathered over 4 million spectra from stars, quasars, and galaxies. We'll focus on a subset of galaxies, using their redshifts and spectral data to plot radial velocity against distance. By applying a linear fit to this relationship, we can estimate Hubble's constant from the slope of the resulting line."
   ]
  },
  {
   "cell_type": "markdown",
   "metadata": {
    "slideshow": {
     "slide_type": "slide"
    }
   },
   "source": [
    "## Imports \n",
    "The main packages and their use-cases in this tutorial are as follows:\n",
    "\n",
    "- *numpy* to handle array functions\n",
    "- *matplotlib.pyplot* for plotting data \n",
    "- *astroquery.mast.Observations* to access data from MAST\n",
    "- *astropy.io.fits* for accessing FITS files\n",
    "- *astropy.table.vstack* for vertically stacking tables\n",
    "- *scipy.optimize.curve_fit* for creating a linear fit \n",
    "- *astropy.visualization.make_luptopn_rgb* for creating an RGB image \n",
    "- *astropy.wcs.WCS* for world coordinate system transformations\n",
    "- *reproject* for stacking FITS images"
   ]
  },
  {
   "cell_type": "code",
   "execution_count": null,
   "metadata": {
    "slideshow": {
     "slide_type": "fragment"
    }
   },
   "outputs": [],
   "source": [
    "%matplotlib inline\n",
    "\n",
    "import numpy as np\n",
    "import matplotlib.pyplot as plt\n",
    "\n",
    "from astroquery.mast import Observations\n",
    "import astropy.io.fits as fits\n",
    "from astropy.table import vstack\n",
    "from scipy.optimize import curve_fit\n",
    "\n",
    "from astropy.visualization import make_lupton_rgb\n",
    "from astropy.wcs import WCS\n",
    "import reproject"
   ]
  },
  {
   "cell_type": "markdown",
   "metadata": {},
   "source": [
    "If you're not sure if you have the required versions of packages installed on your device, you can run the following cell:"
   ]
  },
  {
   "cell_type": "code",
   "execution_count": null,
   "metadata": {},
   "outputs": [],
   "source": [
    "with open(\"requirements.txt\") as f:\n",
    "    print(f\"Required packages for this notebook:\\n{f.read()}\")"
   ]
  },
  {
   "cell_type": "markdown",
   "metadata": {},
   "source": [
    "To ensure these requirements are installed, you can run the following command in the terminal:\n",
    "```bash\n",
    "pip install -r requirements.txt\n",
    "```"
   ]
  },
  {
   "cell_type": "markdown",
   "metadata": {},
   "source": [
    "***"
   ]
  },
  {
   "cell_type": "markdown",
   "metadata": {},
   "source": [
    "## Accessing eBOSS Data from MAST \n",
    "\n",
    "The [Mikulski Archive for Space Telescopes (MAST)](https://archive.stsci.edu/) hosts a large array of data from several telescope missions. In this tutorial, we will be specifically focusing on data from the Sloan Digital Sky Survey (SDSS) and the Hubble Space Telescope (HST). \n",
    "\n",
    "The [Extended Baryon Oscillation Spectroscopic Survey (eBOSS)](https://www.sdss4.org/surveys/eboss/) was completed using the SDSS-2.5m telescope and BOSS spectrograph at the Apache Point Observatory in New Mexico. Using plug plates and a 1000 fiber-fed spectrograph, eBOSS was able to collect spectra from over 4 million objects including quasars, galaxies, and stars in the northern hemisphere."
   ]
  },
  {
   "cell_type": "markdown",
   "metadata": {
    "slideshow": {
     "slide_type": "slide"
    }
   },
   "source": [
    "### Querying eBOSS Data \n",
    "\n",
    "You can query data from MAST using the [website portal](https://mast.stsci.edu/portal/Mashup/Clients/Mast/Portal.html). You can also query MAST data in Python using the package `astroquery.mast`! \n",
    "\n",
    "We can query all of the eBOSS data using `Observations.query_criteria` with `provenance_name = 'eBOSS'` and `obs_collection = 'SDSS'`. Since eBOSS has a large amount of data, we can display the first 10 results using the `pagesize` parameter as well as the `page` parameter. \n",
    "\n",
    "We can also limit the number of observations by date. Using the `t_min=[58118, 60675]` parameter (the modified Julian date of the exposure), we can filter data that has a modified Julian date from 58118 to 60676 (years 2018-2024). \n",
    "\n",
    "This might take a few minutes depending on your internet connection."
   ]
  },
  {
   "cell_type": "code",
   "execution_count": null,
   "metadata": {},
   "outputs": [],
   "source": [
    "eboss_data = Observations.query_criteria(\n",
    "    obs_collection=\"SDSS\",\n",
    "    provenance_name=\"eBOSS\",\n",
    "    t_min=[58118, 60675],\n",
    "    pagesize=5,\n",
    "    page=1,\n",
    ")\n",
    "\n",
    "# Show the astropy table\n",
    "eboss_data"
   ]
  },
  {
   "cell_type": "markdown",
   "metadata": {},
   "source": [
    "The table above provides some basic information for each object:\n",
    "- `s_ra` and `s_dec`: Right ascension and declination.\n",
    "- `instrument_name`: `BOSS` indicates that the data were collected using the BOSS spectrograph.\n",
    "- `obs_id`: Observation ID associated with the object. This is based on the plate number, the modified Julian date of observation, and the fiber ID, so the observation ID will look something like `sdss_eboss_{PLATE}-{MJD}-{FIBERID}`.\n",
    "- `target_classification`: Indicates the type of object (`QSO`, `STAR`, or `GALAXY`).\n",
    "- `t_min` and `t_max`: The modified Julian dates indicating the start and end times of the exposures.\n",
    "- `wavelength_region`: Indicates the region of the electromagnetic spectrum observed. This should be `OPTICAL`, since eBOSS observed in the optical wavelength range.\n",
    "- `em_min` and `em_max`: The minimum and maximum wavelengths observed by the survey. For eBOSS, this range is 360.0–1040.0 nanometers (optical).\n",
    "- `dataproduct_type`: Since eBOSS was a spectroscopic survey, this should be `spectrum`."
   ]
  },
  {
   "cell_type": "markdown",
   "metadata": {},
   "source": [
    "### Sampling eBOSS for Redshifted Galaxies \n",
    "\n",
    "In this tutorial, we will be examining a sample of 311 galaxies, with 32 of those being from the galaxy cluster Abell 2199. This sample was curated for this exercise by randomly selecting 500 galaxies from the LOFAR subprogram of eBOSS across a uniform range of redshifts, and then selecting the most linear portion of the data when plotted on a radial velocity vs. distance plot. \n",
    "\n",
    "For the purpose of this tutorial, we will only focus on querying by observation ID. The list of observation IDs of the 311 galaxies is located in the .txt file `all_galaxies.txt`. The galaxies from *Abell 2199* are located in `abell_2199.txt`. "
   ]
  },
  {
   "cell_type": "code",
   "execution_count": null,
   "metadata": {},
   "outputs": [],
   "source": [
    "# importing the galaxy IDs\n",
    "obs_id = np.loadtxt(\"all_galaxies.txt\", dtype=str)\n",
    "\n",
    "# looping through the .txt file to collect query results\n",
    "# (this might take a few minutes)\n",
    "results_tables = []\n",
    "for i in obs_id:\n",
    "    query_result = Observations.query_criteria(\n",
    "        obs_collection=\"SDSS\", provenance_name=\"eBOSS\", obs_id=i\n",
    "    )\n",
    "    results_tables.append(query_result)\n",
    "\n",
    "# combine query results using vstack\n",
    "combined_results = vstack(results_tables)"
   ]
  },
  {
   "cell_type": "code",
   "execution_count": null,
   "metadata": {},
   "outputs": [],
   "source": [
    "# show the first 10 results\n",
    "combined_results[:10]"
   ]
  },
  {
   "cell_type": "markdown",
   "metadata": {},
   "source": [
    "### Downloading Products from eBOSS\n",
    "\n",
    "For each object, there are three available files: The preview .png image, the \"full spectrum\" file, and the \"lite spectrum\" file. The full spectrum is listed as `Minimum Recommended Products` for the `productGroupDescription` parameter. \n",
    "\n",
    "For more information about eBOSS data products, you can visit the [MAST Archive Manual](https://outerspace.stsci.edu/display/SDSS/eBOSS+Data+Products) as well as in the search results table. \n",
    "\n",
    "This will take a few minutes to load."
   ]
  },
  {
   "cell_type": "code",
   "execution_count": null,
   "metadata": {},
   "outputs": [],
   "source": [
    "# Obtaining the product list of all galaxies\n",
    "products = Observations.get_product_list(combined_results)\n",
    "\n",
    "# Display the available products\n",
    "products"
   ]
  },
  {
   "cell_type": "markdown",
   "metadata": {},
   "source": [
    "To utilize the data, we must download the FITS files. Any data products dowloaded from MAST will appear in a folder called `mastDownload`. \n",
    "\n",
    "We'll be focusing on using the full spectrum datafile only, which is labeled \"Minimum Recommended Products\" as the product Group Description. To ensure we're only downloading this file for each target, we'll use the parameter `mrp_only = True`. \n",
    "\n",
    "This download should take around 45 seconds or so. "
   ]
  },
  {
   "cell_type": "code",
   "execution_count": null,
   "metadata": {},
   "outputs": [],
   "source": [
    "# Downloading the full spectra products\n",
    "manifest = Observations.download_products(\n",
    "    products, mrp_only=True, verbose=False\n",
    ")"
   ]
  },
  {
   "cell_type": "markdown",
   "metadata": {},
   "source": [
    "We'll send these FITS files to an array so that we can access the redshift and flux values."
   ]
  },
  {
   "cell_type": "code",
   "execution_count": null,
   "metadata": {},
   "outputs": [],
   "source": [
    "# Sending the FITS files to an array\n",
    "galaxy_array = []\n",
    "\n",
    "for path in manifest[\"Local Path\"]:\n",
    "    galaxy_array.append(fits.open(path))"
   ]
  },
  {
   "cell_type": "code",
   "execution_count": null,
   "metadata": {},
   "outputs": [],
   "source": [
    "# View available file extensions\n",
    "galaxy_array[0].info()"
   ]
  },
  {
   "cell_type": "markdown",
   "metadata": {},
   "source": [
    "For this tutorial, we will focus on using the spectroscopic flux in the r-band provided by spALL. These are accessed through the second file extension. \n",
    "\n",
    "The various file extensions are broken down on the [SDSS website](https://data.sdss.org/datamodel/files/BOSS_SPECTRO_REDUX/RUN2D/spectra/PLATE4/spec.html):\n",
    "- HDU 0: The primary header information. \n",
    "- HDU 1: The coadded observed spectrum.\n",
    "- HDU 2: Metadata from spALL. \n",
    "- HDU 3: Emission line fitting metadata from spZline.\n",
    "- HDU 4+: Individual red and blue spectra that make up the coadded spectrum. \n",
    "\n",
    "The second file extension is broken down even further, available also on the [SDSS website](https://data.sdss.org/datamodel/files/BOSS_SPECTRO_REDUX/RUN2D/PLATE4/RUN1D/spZbest.html). We'll be focusing on using `SPECTROFLUX`. Since this provides us a five-element array for each band (u, g, r, i , z), we'll use the third element for the r-band flux. \n"
   ]
  },
  {
   "cell_type": "markdown",
   "metadata": {},
   "source": [
    "### Making the Hubble-Lemaître Diagram"
   ]
  },
  {
   "cell_type": "code",
   "execution_count": null,
   "metadata": {},
   "outputs": [],
   "source": [
    "# Setting up arrays to send all z-values, z-error, and flux to arrays\n",
    "z_val = []\n",
    "z_err = []\n",
    "r_flux = []\n",
    "\n",
    "# Looping through all the data and adding z-values, z-error, and flux to arrays\n",
    "for galaxy in galaxy_array:\n",
    "    galaxy_z = galaxy[2].data[\"Z\"]\n",
    "    zerr = galaxy[2].data[\"Z_ERR\"]\n",
    "    spectroflux = galaxy[2].data[\"SPECTROFLUX\"][:, 2]\n",
    "    z_val.append(galaxy_z)\n",
    "    z_err.append(zerr)\n",
    "    r_flux.append(spectroflux)\n",
    "\n",
    "# Converting lists to arrays\n",
    "z_val = np.array(z_val)\n",
    "z_err = np.array(z_err)\n",
    "r_flux = np.array(r_flux)"
   ]
  },
  {
   "cell_type": "markdown",
   "metadata": {},
   "source": [
    "In order to determine the relative distance to each galaxy, we can use the inverse square law as we know flux is proportional to $\\frac{1}{d^2}$. Thus, distance is proportional to $\\frac{1}{\\sqrt{flux}}$ [[4]](https://skyserver.sdss.org/dr12/en/proj/advanced/hubble/distances.aspx). "
   ]
  },
  {
   "cell_type": "code",
   "execution_count": null,
   "metadata": {},
   "outputs": [],
   "source": [
    "# Finding the relative distance by taking 1/sqrt of the radiant flux\n",
    "relative_distance = 1 / np.sqrt(r_flux)\n",
    "\n",
    "# Converting the relative distance to kiloparsecs\n",
    "new_relative_distance = relative_distance / 1e3  # kpc\n",
    "\n",
    "# Stacking arrays to remove points with nan\n",
    "plot_array = np.column_stack((z_val, new_relative_distance, z_err))"
   ]
  },
  {
   "cell_type": "markdown",
   "metadata": {},
   "source": [
    "Due to the behavior of $\\frac{1}{\\sqrt{flux}}$, we will create a mask to remove any 'nan' values."
   ]
  },
  {
   "cell_type": "code",
   "execution_count": null,
   "metadata": {},
   "outputs": [],
   "source": [
    "# Selecting all distances that are not 'nan'\n",
    "mask = ~np.isnan(plot_array[:, 1])\n",
    "\n",
    "# Applying mask\n",
    "new_plot_array = plot_array[mask]"
   ]
  },
  {
   "cell_type": "markdown",
   "metadata": {},
   "source": [
    "Since Hubble's constant is in units km/s/Mpc, we want to convert redshift to velocity. To do this, we can use the relativistic radial velocity equation [[5]](https://ned.ipac.caltech.edu/level5/Hogg/Hogg3.html): <br>\n",
    "\n",
    "$$\n",
    "v = c \\frac{(1+z)^2-1}{(1+z)^2+1}\n",
    "$$\n",
    "\n",
    "Using error propagation, the error in redshift becomes: <br>\n",
    "\n",
    "$$\n",
    "v_{err} = z_{err}|\\frac{4c(1+z)}{((1+z)^2+1)^2}|\n",
    "$$\n"
   ]
  },
  {
   "cell_type": "code",
   "execution_count": null,
   "metadata": {},
   "outputs": [],
   "source": [
    "# Define speed of light constant (c) in km/s\n",
    "c = 2.998e5  # km/s\n",
    "\n",
    "# Calculating velocity from redshift\n",
    "velocity = []\n",
    "velocity_err = []\n",
    "for i, j in zip(new_plot_array[:, 0], new_plot_array[:, 2]):\n",
    "    v = c * (((1 + i) ** 2 - 1) / ((1 + i) ** 2 + 1))\n",
    "    v_err = np.abs(((4 * c * (1 + i)) / ((1 + i) ** 2 + 1) ** 2)) * j\n",
    "    velocity.append(v)\n",
    "    velocity_err.append(v_err)\n",
    "\n",
    "# Creating new array of distance, velocity, and error in velocity\n",
    "distance_velocity_array = np.column_stack(\n",
    "    (new_plot_array[:, 1], velocity, velocity_err)\n",
    ")"
   ]
  },
  {
   "cell_type": "markdown",
   "metadata": {},
   "source": [
    "### Plotting eBOSS Data"
   ]
  },
  {
   "cell_type": "markdown",
   "metadata": {},
   "source": [
    "We can examine the data by creating a scatter plot of the velocity versus the relative distance."
   ]
  },
  {
   "cell_type": "code",
   "execution_count": null,
   "metadata": {},
   "outputs": [],
   "source": [
    "# Plotting eBOSS data\n",
    "plt.figure(figsize=(8, 5))\n",
    "plt.scatter(\n",
    "    distance_velocity_array[:, 0],\n",
    "    distance_velocity_array[:, 1],\n",
    "    s=1.5,\n",
    "    color=\"blue\",\n",
    ")\n",
    "plt.title(\"Velocity vs. Relative Distance of eBOSS Data\")\n",
    "plt.xlabel(\"Relative Distance\")\n",
    "plt.ylabel(\"Radial Velocity (km/s)\")\n",
    "plt.grid(True)\n",
    "plt.show()"
   ]
  },
  {
   "cell_type": "markdown",
   "metadata": {},
   "source": [
    "#### Importing Abell 2199 Data\n",
    "In order to obtain the actualized distances for the sample, we can use the relative distance of the first galaxy from Abell 2199 and set it equal to 1. We'll follow the same procedures as before by importing the `abell_2199.txt` file and querying eBOSS for those 32 select galaxies."
   ]
  },
  {
   "cell_type": "code",
   "execution_count": null,
   "metadata": {},
   "outputs": [],
   "source": [
    "# Loading the Abell 2199 dataset\n",
    "obs_id2 = np.loadtxt(\"abell_2199.txt\", dtype=str)\n",
    "\n",
    "# Querying eBOSS for the 32 Abell 2199 galaxies, sending the data to an array\n",
    "results_tables2 = []\n",
    "for i in obs_id2:\n",
    "    query_result2 = Observations.query_criteria(\n",
    "        provenance_name=\"eBOSS\", obs_id=i\n",
    "    )\n",
    "    results_tables2.append(query_result2)\n",
    "\n",
    "# Stacking the data into one table\n",
    "combined_results2 = vstack(results_tables2)\n",
    "\n",
    "# Ensuring the length of the stacked table is 32\n",
    "print(f\"Length of Abell 2199 dataset = {len(combined_results2)}\")"
   ]
  },
  {
   "cell_type": "markdown",
   "metadata": {},
   "source": [
    "We'll gather and download the products again, and then send the FITS data to an array."
   ]
  },
  {
   "cell_type": "code",
   "execution_count": null,
   "metadata": {},
   "outputs": [],
   "source": [
    "# Gathering and downloading full spectra files\n",
    "products2 = Observations.get_product_list(combined_results2)\n",
    "manifest2 = Observations.download_products(\n",
    "    products2, mrp_only=True, verbose=False\n",
    ")\n",
    "\n",
    "# Writing data to an array\n",
    "abell_array = []\n",
    "for path in manifest2[\"Local Path\"]:\n",
    "    abell_array.append(fits.open(path))\n",
    "\n",
    "# Checking the length of the array matches the dataset\n",
    "print(f\"Length of Abell 2199 array = {len(abell_array)}\")"
   ]
  },
  {
   "cell_type": "markdown",
   "metadata": {},
   "source": [
    "Now we can extract the redshift, error in redshift, and r-band flux values. Following the same processes as before, we can use the flux to find the relative distances."
   ]
  },
  {
   "cell_type": "code",
   "execution_count": null,
   "metadata": {},
   "outputs": [],
   "source": [
    "# Sending redshift, error in redshift, and r-band magnitudes to arrays\n",
    "z_val_abell = []\n",
    "z_err_abell = []\n",
    "r_flux_abell = []\n",
    "\n",
    "for galaxy in abell_array:\n",
    "    galaxy_z = galaxy[2].data[\"Z\"]\n",
    "    zerr = galaxy[2].data[\"Z_ERR\"]\n",
    "    spectroflux = galaxy[2].data[\"SPECTROFLUX\"][:, 2]\n",
    "    z_val_abell.append(galaxy_z)\n",
    "    z_err_abell.append(zerr)\n",
    "    r_flux_abell.append(spectroflux)\n",
    "\n",
    "# Converting lists into arrays\n",
    "z_val_abell = np.array(z_val_abell)\n",
    "z_err_abell = np.array(z_err_abell)\n",
    "r_flux_abell = np.array(r_flux_abell)\n",
    "\n",
    "# Calculate relative distance\n",
    "relative_distance_abell = 1 / np.sqrt(r_flux_abell)\n",
    "new_relative_distance_abell = relative_distance_abell / 1e3  # kpc\n",
    "\n",
    "# Filter out zeros\n",
    "plot_array_abell = np.column_stack(\n",
    "    (z_val_abell, new_relative_distance_abell, z_err_abell)\n",
    ")\n",
    "mask2 = ~np.isnan(plot_array_abell[:, 1])\n",
    "new_array_abell = plot_array_abell[mask2]\n",
    "\n",
    "# Calculate velocity\n",
    "velocity_abell = []\n",
    "velocity_err_abell = []\n",
    "for i, j in zip(new_array_abell[:, 0], new_array_abell[:, 2]):\n",
    "    v = c * (((1 + i) ** 2 - 1) / ((1 + i) ** 2 + 1))\n",
    "    v_err = np.abs(((4 * c * (1 + i)) / ((1 + i) ** 2 + 1) ** 2)) * j\n",
    "    velocity_abell.append(v)\n",
    "    velocity_err_abell.append(v_err)\n",
    "\n",
    "# Creating new array of distance, velocity, and error in velocity\n",
    "distance_velocity_array_abell = np.column_stack(\n",
    "    (new_array_abell[:, 1], velocity_abell, velocity_err_abell)\n",
    ")"
   ]
  },
  {
   "cell_type": "markdown",
   "metadata": {},
   "source": [
    "Now that we have filtered out both datasets, we can normalize the relative distances. To do this, we'll set up a ratio such that the closest galaxy in the Abell 2199 cluster equals 1:\n",
    "\n",
    "$$\n",
    "\\frac{d_{1}}{d_{relative}} = \\frac{1}{d_{norm}}\n",
    "$$\n",
    "\n",
    "where $d_{1}$ is the relative distance of the closest Abell 2199 galaxy, $d_{relative}$ is the array of relative distances of the eBOSS galaxies, and $d_{norm}$ is the array of normalized distances. To solve for the array of $d_{norm}$, we'll divide the array of relative distances by $d_{1}$. [[4]](https://skyserver.sdss.org/dr12/en/proj/advanced/hubble/distances.aspx)\n",
    "\n",
    "Since we know the distance to Abell 2199 is 128 Mpc, we'll multiply the normalized distances by 128 Mpc to obtain the actualized distances. [[6]](http://ned.ipac.caltech.edu/cgi-bin/nph-objsearch?objname=Abell+2199&extend=no&hconst=73&omegam=0.27&omegav=0.73&corr_z=1&out_csys=Equatorial&out_equinox=J2000.0&obj_sort=RA+or+Longitude&of=pre_text&zv_breaker=30000.0&list_limit=5&img_stamp=YES).\n"
   ]
  },
  {
   "cell_type": "code",
   "execution_count": null,
   "metadata": {},
   "outputs": [],
   "source": [
    "# Sorting the Abell 2199 data to find closest galaxy\n",
    "sorted_abell = np.argsort(distance_velocity_array_abell[:, 0])\n",
    "sorted_abell_array = distance_velocity_array_abell[sorted_abell]\n",
    "\n",
    "# Taking the first Abell 2199 galaxy and find the average, setting that to 1\n",
    "d1_abell = sorted_abell_array[0][0]\n",
    "\n",
    "# Normalize distances to d1_abell\n",
    "norm_dist = distance_velocity_array[:, 0] / d1_abell\n",
    "norm_dist_abell = distance_velocity_array_abell[:, 0] / d1_abell\n",
    "\n",
    "# Distance to Abell 2199\n",
    "distance = 128  # Mpc"
   ]
  },
  {
   "cell_type": "markdown",
   "metadata": {},
   "source": [
    "Now we have normalized distances! We can multiply these by the distance to Abell 2199 and generate a plot with distances and radial velocities. We can use `scipy.optimize.curve_fit` to perform a linear fit, and in return, we can obtain the value of the slope, i.e., Hubble's constant!"
   ]
  },
  {
   "cell_type": "code",
   "execution_count": null,
   "metadata": {},
   "outputs": [],
   "source": [
    "# Defining linear fit function\n",
    "def fit_func(x, m, b):\n",
    "    return m * x + b"
   ]
  },
  {
   "cell_type": "code",
   "execution_count": null,
   "metadata": {},
   "outputs": [],
   "source": [
    "# Doing linear fit using scipy.optimize.curve_fit\n",
    "popt, covariance = curve_fit(\n",
    "    fit_func,\n",
    "    norm_dist * distance,\n",
    "    distance_velocity_array[:, 1],\n",
    "    sigma=distance_velocity_array[:, 2],\n",
    "    absolute_sigma=True,\n",
    ")\n",
    "m = popt[0]  # slope (Hubble's constant!)\n",
    "b = popt[1]  # intercept\n",
    "\n",
    "# Setting up an array of x-values to plot the line of best fit\n",
    "x_array = np.linspace(0, 2000, 200000)\n",
    "\n",
    "# Plotting the data as well as the line of best fit\n",
    "plt.errorbar(\n",
    "    norm_dist * distance,\n",
    "    distance_velocity_array[:, 1],\n",
    "    yerr=distance_velocity_array[:, 2],\n",
    "    ms=1.5,\n",
    "    fmt=\"o\",\n",
    "    label=\"eBOSS data\",\n",
    "    zorder=1,\n",
    ")\n",
    "plt.scatter(\n",
    "    norm_dist_abell * distance,\n",
    "    distance_velocity_array_abell[:, 1],\n",
    "    s=5,\n",
    "    label=\"Abell 2199\",\n",
    "    color=\"purple\",\n",
    "    zorder=2,\n",
    ")\n",
    "plt.plot(\n",
    "    x_array,\n",
    "    fit_func(x_array, m, b),\n",
    "    label=\"linear fit\",\n",
    "    color=\"orange\",\n",
    "    zorder=3,\n",
    ")\n",
    "plt.ylabel(\"Radial Velocity (km/s)\")\n",
    "plt.xlabel(\"Actualized Distance (Mpc)\")\n",
    "plt.title(\n",
    "    f\"Radial Velocity vs. Actualized Distance of eBOSS Galaxy Sample \\n eBOSS - LOFAR \\n $H_{0}$ = {m:.3f} km/s/Mpc \\n r - band magnitude\"\n",
    ")\n",
    "plt.legend(loc=\"lower right\")\n",
    "plt.grid()\n",
    "plt.tight_layout()\n",
    "plt.show()"
   ]
  },
  {
   "cell_type": "markdown",
   "metadata": {},
   "source": [
    "### Comparing Calculated H<sub>0</sub> to Other Models \n",
    "\n",
    "Using data from eBOSS, we were able to calculate an H<sub>0</sub> value of $\\approx$ 73.66 km/s/Mpc! \n",
    "\n",
    "The European Space Agency calculated an H<sub>0</sub> value of 67.40 ± 1.40 km/s/Mpc using Planck data. A recent calculation using Cepheid variables and SNe Ia from the SH0ES collaboration provided an H<sub>0</sub> value of 73.04 ± 1.04 km/s/Mpc [[3]](https://doi.org/10.3390/universe9020094). Astronomers continue to use both local distance indicators (e.g., Tip of the Red Giant Branch stars) and early-Universe probes like the CMB to constrain H<sub>0</sub>, but the Hubble Tension remains unresolved [[7]](https://www.scientificamerican.com/article/the-hubble-tension-is-becoming-a-hubble-crisis/).\n",
    "\n",
    "Due to relativistic effects, H<sub>0</sub> values calculated from CMB observations (which probe the early Universe) tend to be lower than those calculated from nearby objects like Cepheid variables or Type Ia supernovae. Since our H<sub>0</sub> value is based on galaxy observations from eBOSS, it's reasonable that it falls on the higher end of the range, though this could also be influenced by uncertainties introduced by several assumptions:\n",
    "- We assume galaxies are point sources, using a single static distance for each. \n",
    "- We calculate distances using the inverse square law, but intrinsic galaxy brightness can vary significantly. "
   ]
  },
  {
   "cell_type": "markdown",
   "metadata": {},
   "source": [
    "***\n",
    "## Utilizing HST Data from MAST\n",
    "\n",
    "The Hubble Space Telescope (HST) is a 2.4 meter serviceable telescope launched in 1990. It's equipped with three cameras (ACS, WFC3/UVIS, and WFC3/IR). Using observations from HST, we can construct an image of Abell 2199!\n",
    "\n",
    "While we won't be covering this in the tutorial, we could use the constructed image from HST to determine the relative distance to Abell 2199 rather than using the one from NED. For example, we could use the apparent brightness of the cluster’s brightest galaxy, or analyze the relative physical sizes of its member galaxies [[4]](https://skyserver.sdss.org/dr12/en/proj/advanced/hubble/distances.aspx).\n",
    "\n",
    "For more information about HST, check out this [overview from MAST](https://archive.stsci.edu/missions-and-data/hst)!"
   ]
  },
  {
   "cell_type": "markdown",
   "metadata": {
    "tags": []
   },
   "source": [
    "### Creating an Image of Abell 2199 Using HST \n",
    "\n",
    "To create an image of Abell 2199 using HST, we'll query MAST using `objectname = 'Abell 2199'` and specify HST using `obs_collection = 'HST'`. "
   ]
  },
  {
   "cell_type": "code",
   "execution_count": null,
   "metadata": {},
   "outputs": [],
   "source": [
    "# Query HST using objectname\n",
    "obs_hst = Observations.query_criteria(\n",
    "    objectname=\"Abell 2199\",\n",
    "    # specifying Hubble data\n",
    "    obs_collection=\"HST\",\n",
    "    # We want science observations and not calibration files\n",
    "    intentType=\"science\",\n",
    "    # Calibrated reduced observations to display final image\n",
    "    provenance_name=\"CAL*\",\n",
    ")\n",
    "# Display results\n",
    "obs_hst"
   ]
  },
  {
   "cell_type": "markdown",
   "metadata": {},
   "source": [
    "Similar to eBOSS, we'll retrieve and download the products for Abell 2199, specifically the fully calibrated combined images using `productGroupDescription = 'Minimum Recommended Products'` and `productSubGroupDescription = 'DRZ'`. "
   ]
  },
  {
   "cell_type": "code",
   "execution_count": null,
   "metadata": {},
   "outputs": [],
   "source": [
    "# Get products from query\n",
    "products_hst = Observations.get_product_list(obs_hst)\n",
    "\n",
    "# Select specific products\n",
    "products_hst = Observations.filter_products(\n",
    "    products_hst,\n",
    "    # Specify science files\n",
    "    productType=\"SCIENCE\",\n",
    "    # Recommended products,\n",
    "    productGroupDescription=\"Minimum Recommended Products\",\n",
    "    # DRZ files -> calibrated combined images\n",
    "    productSubGroupDescription=\"DRZ\",\n",
    ")\n",
    "# Display product list\n",
    "products_hst"
   ]
  },
  {
   "cell_type": "code",
   "execution_count": null,
   "metadata": {},
   "outputs": [],
   "source": [
    "# Download products into same directory\n",
    "Observations.download_products(products_hst, flat=True)"
   ]
  },
  {
   "cell_type": "markdown",
   "metadata": {},
   "source": [
    "Each FITS file has a corresponding filter in the table above under the `filter` column. To create a color image, we'll choose three images that overlap coordinates and have different filters. \n",
    "\n",
    "The following images were picked based on if they overlapped in the AstroView of the [MAST Portal](https://mast.stsci.edu/portal/Mashup/Clients/Mast/Portal.html)."
   ]
  },
  {
   "cell_type": "code",
   "execution_count": null,
   "metadata": {},
   "outputs": [],
   "source": [
    "# Opening three different filters\n",
    "img1 = fits.open(\"j6jt05011_drz.fits\")\n",
    "img1_wcs = WCS(img1[1].header)\n",
    "\n",
    "img2 = fits.open(\"j6jt05021_drz.fits\")\n",
    "img2_wcs = WCS(img2[1].header)\n",
    "\n",
    "img3 = fits.open(\"iey929020_drz.fits\")\n",
    "img3_wcs = WCS(img3[1].header)"
   ]
  },
  {
   "cell_type": "markdown",
   "metadata": {},
   "source": [
    "#### Plotting the HST Images \n",
    "\n",
    "We'll now set up a subplot of the three images we chose. The first two images were taken as a pair of images (hence the small whitespace in the center). You can see the overlap in all three images where there's a fairly consistent cluster of five galaxy sources. While the shapes of these galaxies aren't very clear in these images, they'll become more distinct when we create the color image!"
   ]
  },
  {
   "cell_type": "code",
   "execution_count": null,
   "metadata": {},
   "outputs": [],
   "source": [
    "# Set up figure\n",
    "fig = plt.figure(figsize=(15, 8))\n",
    "\n",
    "# First image\n",
    "ax1 = fig.add_subplot(1, 3, 1, projection=img1_wcs)\n",
    "ax1.imshow(img1[1].data, cmap=\"Greys_r\", vmin=0, vmax=2.5, origin=\"lower\")\n",
    "ax1.set_title(f\"{img1[0].header['INSTRUME']}/{img1[0].header['FILTER1']}\")\n",
    "ax1.set_ylabel(\"Declination\")\n",
    "ax1.set_xlabel(\"Right Ascension\")\n",
    "\n",
    "# Second image\n",
    "ax2 = fig.add_subplot(1, 3, 2, projection=img2_wcs)\n",
    "ax2.imshow(img2[1].data, cmap=\"Greys_r\", vmin=0, vmax=2.5, origin=\"lower\")\n",
    "ax2.set_title(f\"{img2[0].header['INSTRUME']}/{img2[0].header['FILTER1']}\")\n",
    "ax2.set_ylabel(\"Declination\")\n",
    "ax2.set_xlabel(\"Right Ascension\")\n",
    "\n",
    "# Third image\n",
    "ax3 = fig.add_subplot(1, 3, 3, projection=img3_wcs)\n",
    "ax3.imshow(img3[1].data, cmap=\"Greys_r\", vmin=0, vmax=2.5, origin=\"lower\")\n",
    "ax3.set_title(f\"{img3[0].header['INSTRUME']}/{img3[0].header['FILTER']}\")\n",
    "ax3.set_ylabel(\"Declination\")\n",
    "ax3.set_xlabel(\"Right Ascension\")\n",
    "\n",
    "plt.tight_layout()\n",
    "plt.show()"
   ]
  },
  {
   "cell_type": "markdown",
   "metadata": {},
   "source": [
    "#### Colorizing the HST Image of Abell 2199 "
   ]
  },
  {
   "cell_type": "markdown",
   "metadata": {},
   "source": [
    "In order to create a color image of Abell 2199, we can assign red, green, and blue to each image, then combine the three images. We must choose the image with the largest pixel dimensions, and then project the other images onto it.  "
   ]
  },
  {
   "cell_type": "code",
   "execution_count": null,
   "metadata": {},
   "outputs": [],
   "source": [
    "# Checking the shape of each image to determine which ones will be mapped onto the other\n",
    "print(f\"Shape of image 1: {img1[1].data.shape}\")\n",
    "print(f\"Shape of image 2: {img2[1].data.shape}\")\n",
    "print(f\"Shape of image 3: {img3[1].data.shape}\")"
   ]
  },
  {
   "cell_type": "markdown",
   "metadata": {},
   "source": [
    "The third image appears to have the largest dimensions, so we'll project the first and second images onto the third using `reproject`. We'll assign the first image to red, the second to blue, and the third to green. "
   ]
  },
  {
   "cell_type": "code",
   "execution_count": null,
   "metadata": {},
   "outputs": [],
   "source": [
    "# image 1 -> red\n",
    "r, _ = reproject.reproject_interp(img1[1], img3[1].header)\n",
    "\n",
    "# image 2 -> green\n",
    "g, _ = reproject.reproject_interp(img2[1], img3[1].header)\n",
    "\n",
    "# image 3 -> blue\n",
    "b, _ = reproject.reproject_interp(img3[1], img3[1].header)"
   ]
  },
  {
   "cell_type": "markdown",
   "metadata": {},
   "source": [
    "Using a ratio of red, blue, and green, we can now make a colorized image using `make_lupton_rgb`!"
   ]
  },
  {
   "cell_type": "code",
   "execution_count": null,
   "metadata": {},
   "outputs": [],
   "source": [
    "image_hst = make_lupton_rgb(r * 3.8, g * 0.2, b * 0.65, Q=4, stretch=0.75)"
   ]
  },
  {
   "cell_type": "code",
   "execution_count": null,
   "metadata": {},
   "outputs": [],
   "source": [
    "# Plotting the colorized image\n",
    "plt.figure(figsize=(5, 5))\n",
    "\n",
    "# Ensuring the coordinates are set to the WCS of the third image\n",
    "ax = plt.subplot(projection=img3_wcs)\n",
    "ax.imshow(image_hst)\n",
    "\n",
    "# Zoom in\n",
    "ax.set_xlim(1400, 2100)\n",
    "ax.set_ylim(2200, 2900)\n",
    "\n",
    "ax.set_xlabel(\"Right Ascension\")\n",
    "ax.set_ylabel(\"Declination\")\n",
    "ax.set_title(\"Colorized Image of Abell 2199\")\n",
    "ax.legend()\n",
    "plt.tight_layout()\n",
    "plt.show()"
   ]
  },
  {
   "cell_type": "markdown",
   "metadata": {},
   "source": [
    "***\n",
    "## End of Tutorial \n",
    "Congratulations, you've reached the end of this notebook! You've learned how to use `astroquery.MAST` to calculate Hubble's constant from eBOSS data and make a colorized image from HST data! "
   ]
  },
  {
   "cell_type": "markdown",
   "metadata": {},
   "source": [
    "## Additional Resources \n",
    "\n",
    "Additional resources are linked below:\n",
    "\n",
    "- [SDSS Legacy Archive at MAST](https://archive.stsci.edu/missions-and-data/sdss)\n",
    "- [SDSS Legacy Archive at MAST User Manual](https://outerspace.stsci.edu/display/SDSS/The+SDSS+Legacy+Archive+at+MAST)\n",
    "- [Original SDSS Hubble Diagram Tutorial!](https://skyserver.sdss.org/dr1/en/proj/advanced/hubble/)\n",
    "- [eBOSS User Manual](https://outerspace.stsci.edu/display/SDSS/eBOSS)\n",
    "- [astroquery.mast User Manual](https://astroquery.readthedocs.io/en/latest/mast/mast.html)\n",
    "- [MAST API](https://mast.stsci.edu/api/v0/index.html)"
   ]
  },
  {
   "cell_type": "markdown",
   "metadata": {},
   "source": [
    "## Citations \n",
    "\n",
    "If you use data from MAST for published research, please see the following links for information on which citations to include in your paper:\n",
    "\n",
    "* [Citing SDSS](https://sdss.org/collaboration/citing-sdss/)\n",
    "* [Citing MAST](https://archive.stsci.edu/publishing/mission-acknowledgements)\n",
    "* [Citing astropy](https://www.astropy.org/acknowledging.html)"
   ]
  },
  {
   "cell_type": "markdown",
   "metadata": {
    "slideshow": {
     "slide_type": "slide"
    }
   },
   "source": [
    "## About this Notebook\n",
    "\n",
    "**Author(s):** Natalie Haugen (nhaugen@terpmail.umd.edu) and Julie Imig (jimig@stsci.edu)<br>\n",
    "**Keyword(s):** Tutorial, eBOSS, HST, SDSS, galaxies <br>\n",
    "**First published:** July 2025 <br>\n",
    "**Last updated:** July 2025 <br>\n",
    "\n",
    "***\n",
    "[Top of Page](#top)\n",
    "<img style=\"float: right;\" src=\"https://raw.githubusercontent.com/spacetelescope/style-guides/master/guides/images/stsci-logo.png\" alt=\"Space Telescope Logo\" width=\"200px\"/> "
   ]
  }
 ],
 "metadata": {
  "kernelspec": {
   "display_name": "base",
   "language": "python",
   "name": "python3"
  },
  "language_info": {
   "codemirror_mode": {
    "name": "ipython",
    "version": 3
   },
   "file_extension": ".py",
   "mimetype": "text/x-python",
   "name": "python",
   "nbconvert_exporter": "python",
   "pygments_lexer": "ipython3",
   "version": "3.13.2"
  }
 },
 "nbformat": 4,
 "nbformat_minor": 4
}
