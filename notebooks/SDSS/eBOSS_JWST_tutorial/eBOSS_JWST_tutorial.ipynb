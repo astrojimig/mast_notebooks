{
 "cells": [
  {
   "cell_type": "markdown",
   "metadata": {},
   "source": [
    "<a id=\"top\"></a>\n",
    "\n",
    "# Exploring High-Redshift Quasars with eBOSS and JWST\n",
    "***\n",
    "\n",
    "## Learning Goals\n",
    "\n",
    "By the end of this tutorial, you will:\n",
    "\n",
    "- Understand how to search the MAST Archive and download SDSS eBOSS data using `astroquery.mast`\n",
    "- Learn how to identify emisison lines in quasar spectra at different redshifts\n",
    "- Download and plot quasar spectra from both eBOSS and JWST\n",
    "\n"
   ]
  },
  {
   "cell_type": "markdown",
   "metadata": {
    "slideshow": {
     "slide_type": "slide"
    }
   },
   "source": [
    "## Table of Contents\n",
    "* [Introduction](#introduction)\n",
    "* [Imports](#imports)\n",
    "* [Accessing eBOSS data at MAST](#accessing-eboss-data-at-mast)\n",
    "    * [Querying all eBOSS data](#querying-all-eboss-data)\n",
    "    * [Searching for a specific target](#searching-for-a-specific-target)\n",
    "* [Plotting an eBOSS Spectrum](#plotting-an-eboss-spectrum)\n",
    "    * [Identifying Emission Lines in a QSO Spectrum](#identifying-emission-lines-in-a-qso-spectrum)\n",
    "    * [Exploring QSO spectra at different redshift](#exploring-qso-spectra-at-different-redshift)\n",
    "* [Searching for High-Redshift JWST spectra](#searching-for-high-redshift-jwst-spectra)\n",
    "    * [Combining eBOSS and JWST Data](#combining-eboss-and-jwst-data)\n",
    "* [Additional Resources](#additional-resources)\n",
    "    * [How to Cite](#citations)\n",
    "    * [About This Notebook](#about-this-notebook)\n"
   ]
  },
  {
   "cell_type": "markdown",
   "metadata": {},
   "source": [
    "## Introduction\n",
    "The [Extended Baryonic Oscillaton Spectroscopic Survey (eBOSS)](https://www.sdss4.org/surveys/eboss/) survey provides optical-wavelength 1-D spectra for almost 4,000,000 targets in the northern hemisphere, including stars, galaxies, and quasars. eBOSS collected data between 2008 - 2020 as part of the [Sloan Digital Sky Survey (SDSS-IV) project](https://www.sdss4.org). eBOSS data is now available at the [Mikulski Archive for Space Telescopes (MAST)](https://archive.stsci.edu) through the [SDSS Legacy Archive at MAST](https://archive.stsci.edu/missions-and-data/sdss). \n",
    "\n",
    "In this notebook tutorial, we will demonstrate how to access eBOSS data at MAST using Python. One eBOSS target, a quasar named \"eBOSS 5733-56575-0260\", will be used to demonstrate the basics of how to download and plot eBOSS data. We will then combine this eBOSS spectrum with infrared spectra from JWST, also accessible from MAST, to study quasars at different redshifts."
   ]
  },
  {
   "cell_type": "markdown",
   "metadata": {
    "slideshow": {
     "slide_type": "slide"
    }
   },
   "source": [
    "## Imports\n",
    "\n",
    "The main packages we're using for this notebook and their use-cases are:\n",
    "- *astroquery.mast.Observations* for searching the MAST archive\n",
    "- *astropy.io fits* for accessing FITS files\n",
    "- *matplotlib* for plotting and displaying data\n",
    "- *numpy* to handle array functions and basic math"
   ]
  },
  {
   "cell_type": "code",
   "execution_count": null,
   "metadata": {
    "slideshow": {
     "slide_type": "fragment"
    }
   },
   "outputs": [],
   "source": [
    "%matplotlib inline\n",
    "\n",
    "from astroquery.mast import Observations\n",
    "import astropy.io.fits as fits\n",
    "\n",
    "import matplotlib.pyplot as plt\n",
    "from matplotlib.colors import LogNorm\n",
    "import matplotlib.patheffects as path_effects\n",
    "from matplotlib.patches import ConnectionPatch\n",
    "\n",
    "import numpy as np"
   ]
  },
  {
   "cell_type": "markdown",
   "metadata": {},
   "source": [
    "This cell updates some of the settings in `matplotlib` to use larger font sizes in the figures:"
   ]
  },
  {
   "cell_type": "code",
   "execution_count": null,
   "metadata": {},
   "outputs": [],
   "source": [
    "#Update Plotting Parameters\n",
    "params = {'axes.labelsize': 12, 'xtick.labelsize': 12, 'ytick.labelsize': 12, \n",
    "          'text.usetex': False, 'lines.linewidth': 1,\n",
    "          'axes.titlesize': 18, 'font.family': 'serif', 'font.size': 12}\n",
    "plt.rcParams.update(params)"
   ]
  },
  {
   "cell_type": "markdown",
   "metadata": {},
   "source": [
    "***\n",
    "# Accessing eBOSS data at MAST\n",
    "\n",
    "The [SDSS Legacy Archive at MAST](https://archive.stsci.edu/missions-and-data/sdss) hosts all of the science-ready data products from the [SDSS-IV eBOSS Survey](https://www.sdss4.org/surveys/eboss/), which includes optical-wavelength spectra for almost 4,000,000 targets in northern hemisphere, including stars, galaxies and quasi-stellar objects (QSOs). This notebook will demonstrate how to search and download eBOSS data using MAST!\n",
    "\n",
    "\n",
    "## Querying all eBOSS data\n",
    "\n",
    "Searching for eBOSS data is straightforward with `astroquery.mast`. In this example, we use `Observations.query_criteria` and search for `provenance_name = 'eBOSS'` (this is not case sensitive; `eboss` or `EBOSS` will also work). This will return a table describing all of the eBOSS data hosted by the MAST archive.\n",
    "\n",
    "Other useful search parameters for eBOSS data might include:\n",
    "* `obs_collection = 'SDSS'`: searches for all SDSS data\n",
    "* Use `target_name` to search for stars using their eBOSS identifiers, usually in the form `eBOSS {PLATE}-{MJD}-{FIBER}`, for example `eBOSS 12547-58928-1`. \n",
    "* The `target_classification` provides basic information on what this target was indentified as (\"QSO\", \"STAR\", or \"GALAXY\") in the eBOSS pipeline.\n",
    "* `obs_id` can help search for specific targets or fields. Note that wild cards (`*`) are allowed in the search fields, for example, `obs_id='sdss_eboss_12547-*'` will search for everything observed on the plate numbered 12547\n",
    "\n",
    "Here we also use the `pagesize=10` and `page=1` parameters to limit the number of results - otherwise, there are nearly 4,000,000 eBOSS observations in MAST! This query might take a few minutes to run."
   ]
  },
  {
   "cell_type": "code",
   "execution_count": null,
   "metadata": {
    "tags": []
   },
   "outputs": [],
   "source": [
    "# Search for eBOSS data\n",
    "eboss_obs_list = Observations.query_criteria(provenance_name='eBOSS', page=1, pagesize=10)\n",
    "\n",
    "# Display First Ten Entries in Table\n",
    "eboss_obs_list"
   ]
  },
  {
   "cell_type": "markdown",
   "metadata": {},
   "source": [
    "## Searching for a specific target\n",
    "\n",
    "Let's narrow down the search to look at one particular target: a high-redshift quasar (QSO) named \"eBOSS 5733-56575-0260\". Quasars are a type of active galactic nuclei: supermassive black holes which are actively accreting material, producing bright spectra characterized by strong emission lines. Because quasars are so bright, they can be observed at large distances, which make them useful for studying the large-scale structure of the Universe and the most distant galaxies.\n",
    "\n",
    "We can search for this quasar in particular using the `obs_id` keyword:"
   ]
  },
  {
   "cell_type": "code",
   "execution_count": null,
   "metadata": {},
   "outputs": [],
   "source": [
    "# Search for all QSOs\n",
    "eboss_obs_list = Observations.query_criteria(provenance_name='eBOSS', # Query eBOSS data\n",
    "                                             target_classification='QSO', # Search for quasars\n",
    "                                             obs_id='sdss_eboss_5733-56575-0260' # Search for a specific target using obs_id\n",
    "                                             )\n",
    "\n",
    "# Display results\n",
    "eboss_obs_list"
   ]
  },
  {
   "cell_type": "markdown",
   "metadata": {},
   "source": [
    "From this results table, we can see some basic metadata related to this observation:\n",
    "* It's coordinates are in the `s_ra` and `s_dec` columns\n",
    "* This spectrum was observed using the BOSS instrument (`instrument_name`)\n",
    "* This target is classified as a QSO (`target_classification`)\n",
    "* From the `t_min` column, we can see that this star was first observed on the date of MJD 56572 (Correpsonding to 2013-10-07) and last observed on MJD 56575 (2013-10-10)\n",
    "* eBOSS provides optical-wavelength (`wavelength_region`) spectra (`dataproduct_type`) with wavelength range of 360.0 - 1040.0 nanometers (`em_min`, `em_max`)"
   ]
  },
  {
   "cell_type": "markdown",
   "metadata": {},
   "source": [
    "## Downloading eBOSS data products\n",
    "\n",
    "List all of the data products availble for this observation using `Observations.get_product_list()`.\n",
    "\n",
    "There are 3 total files available for this quasar, which includes the \"full spectrum\" file, the \"lite spectrum\" file, and a preview image. Only the full spectrum is tagged as \"Minimum Recommended Products\". More information on the eBOSS data products available at MAST can be found on the [eBOSS Data Products](https://outerspace.stsci.edu/display/SDSS/eBOSS+Data+Products) in the Archive Manual, and more information on all of these products can be seen in the search results table:"
   ]
  },
  {
   "cell_type": "code",
   "execution_count": null,
   "metadata": {},
   "outputs": [],
   "source": [
    "# List all products available for this observation\n",
    "products = Observations.get_product_list(eboss_obs_list)\n",
    "\n",
    "# Show table\n",
    "products"
   ]
  },
  {
   "cell_type": "markdown",
   "metadata": {},
   "source": [
    "Now we will download the spectrum for this quasar using `Observations.download_products()`. The download will print a status message when completed."
   ]
  },
  {
   "cell_type": "code",
   "execution_count": null,
   "metadata": {},
   "outputs": [],
   "source": [
    "manifest = Observations.download_products(products, mrp_only=True)"
   ]
  },
  {
   "cell_type": "markdown",
   "metadata": {},
   "source": [
    "***\n",
    "# Plotting an eBOSS Spectrum\n",
    "\n",
    "Now let's take a look at the file and plot the spectrum.\n",
    "\n",
    "Based on the descriptions in the [eBOSS Spectrum Data Model](https://data.sdss.org/datamodel/files/BOSS_SPECTRO_REDUX/RUN2D/spectra/PLATE4/spec.html), this file has several extensions, corresponding to the metadata, the co-added spectrum, some catalog information, and the individual visit exposures:\n",
    "\n",
    "* HDU0: \"PRIMARY\": The Primary Header and file metadata\n",
    "* HDU1: \"COADD\": The array containing the coadded observed spectrum\n",
    "* HDU2: \"SPALL\": Summary metadata about this target, including targeting information, spectroscopic classifications, and redshifts for this target\n",
    "* HDU3: \"SPZLINE\": Line fitting metadata about the target: contains measurements of emission lines and redshift output from the SDSS Spectro-1D analysis pipeline.\n",
    "* HDU4+ : The rest of the file extensions contain the individual frames from each exposure that went into the coadded spectrum: \"B\" for the blue chip and \"R\" for the red chip of each exposure."
   ]
  },
  {
   "cell_type": "code",
   "execution_count": null,
   "metadata": {},
   "outputs": [],
   "source": [
    "# Open file\n",
    "eboss_spectrum = fits.open(manifest['Local Path'][0])\n",
    "\n",
    "# Display file information\n",
    "eboss_spectrum.info()"
   ]
  },
  {
   "cell_type": "markdown",
   "metadata": {},
   "source": [
    "We can plot the spectrum using this information! The wavelength and flux data are all found in the first extension (HDU1: \"COADD\")."
   ]
  },
  {
   "cell_type": "code",
   "execution_count": null,
   "metadata": {},
   "outputs": [],
   "source": [
    "fig, ax = plt.subplots(figsize=(15, 5))\n",
    "\n",
    "# Define wavelengths\n",
    "# eBOSS wavelengths are in log space - convert to linear\n",
    "wls = 10**eboss_spectrum[1].data['loglam']\n",
    "\n",
    "# Get the observed and model flux from extension 1\n",
    "observed_flux = eboss_spectrum[1].data['flux']\n",
    "model_flux = eboss_spectrum[1].data['model']\n",
    "\n",
    "# Plot the observed spectrum\n",
    "plt.plot(wls, observed_flux, c='gray', label='Observed Spectrum')\n",
    "# Plot the model spectrum\n",
    "plt.plot(wls, model_flux, c='k', label='Model Spectrum')\n",
    "\n",
    "# Set title and labels\n",
    "plt.title(f\"{eboss_obs_list['target_name'][0]}\")\n",
    "redshift = eboss_spectrum[2].data['Z'][0] # redshift from SPALL table\n",
    "plt.text(0.02, 0.95, f\"z = {str(round(redshift, 2))}\", \n",
    "         fontsize=24, ha='left', va='top', transform=ax.transAxes)\n",
    "plt.xlabel(r'Wavelength [$\\AA$]')\n",
    "plt.grid() # Add grid lines\n",
    "plt.legend(loc='upper right') # Add plot legend\n",
    "plt.show() # Display plot"
   ]
  },
  {
   "cell_type": "markdown",
   "metadata": {},
   "source": [
    "The eBOSS spectrum for this QSO looks great! The large spikes around 5200, 6700, and 8200 angstroms are strong emission lines from the accretion disk around the supermassive black hole in the center of this QSO. We can identify which emission lines they are by using the quasar's redshift, which we will do next.\n"
   ]
  },
  {
   "cell_type": "markdown",
   "metadata": {},
   "source": [
    "## Identifying Emission Lines in a QSO Spectrum\n",
    "\n",
    "Let's spruce up this plot by adding labels on the emission lines, and plotting a second panel which shows the brightness (flux) as color instead of a line.\n",
    "\n",
    "To help with identifying the emision lines, let's write a helper function to define and plot the emission lines we want to label, called `plot_emission_lines()`. Becasue this quasar is so far away, the emission lines will be redshifted, meaning the observed wavelength might be far away from the rest wavelength!\n",
    "\n",
    "The equation for calculating the observed wavelength of an emission line at redshift $z$ is:\n",
    "\n",
    "\\begin{equation}\n",
    "1+z = \\frac{\\lambda_{observed}}{\\lambda_{emitted}}\n",
    "\\end{equation}\n",
    "\n",
    "where $\\lambda_{emitted}$ is the rest-frame wavelength of the emission line, and  $z$ is the redshift. We will use this equation to convert between rest wavelength and observed wavelength in our helper function."
   ]
  },
  {
   "cell_type": "code",
   "execution_count": null,
   "metadata": {},
   "outputs": [],
   "source": [
    "# Create a dictionary of emission lines we want to label\n",
    "# These line definitions are from the eBOSS pipeline: https://data.sdss.org/datamodel/files/SPECTRO_REDUX/RUN2D/PLATE4/spZline.html\n",
    "emission_line_list = [\n",
    "    {\n",
    "        'emline': r'Lyman-$\\alpha$',\n",
    "        'rest_wavelength': 1215.67,\n",
    "        'label_color': 'purple',\n",
    "        'label_index': 16,\n",
    "        'label_angle': 35,\n",
    "    },\n",
    "    {\n",
    "        'emline': 'C IV',\n",
    "        'rest_wavelength': 1549.487,\n",
    "        'label_color': 'mediumblue',\n",
    "        'label_index': 14,\n",
    "        'label_angle': 35,\n",
    "    },\n",
    "    {\n",
    "        'emline': '[C III]',\n",
    "        'rest_wavelength': 1908.734,\n",
    "        'label_color': 'deepskyblue',\n",
    "        'label_index': 12,\n",
    "        'label_angle': 25,\n",
    "    },\n",
    "    {\n",
    "        'emline': 'Mg II',\n",
    "        'rest_wavelength': 2800.31518862,\n",
    "        'label_color': 'green',\n",
    "        'label_index': 8,\n",
    "        'label_angle': 20,\n",
    "    },\n",
    "    {\n",
    "        'emline': '[O III]',\n",
    "        'rest_wavelength': 5008.23966962,\n",
    "        'label_color': 'darkorange',\n",
    "        'label_index': 2,\n",
    "        'label_angle': 10,\n",
    "    },\n",
    "    {\n",
    "        'emline': r'H-$\\alpha$',\n",
    "        'rest_wavelength': 6564.61397371,\n",
    "        'label_color': 'red',\n",
    "        'label_index': 1,\n",
    "        'label_angle': 10,\n",
    "        }\n",
    "    ]\n",
    "\n",
    "\n",
    "def plot_emission_lines(ax: plt.axes, redshift: float) -> None:\n",
    "    \"\"\"\n",
    "    Helper function to plot emission line references on a figure.\n",
    "\n",
    "    Parameters:\n",
    "    ============\n",
    "    ax: \n",
    "        The axes object to draw on\n",
    "    redshift:\n",
    "        the redshift (z) of the QSO which determines how much to shift the lines\n",
    "        from the rest wavelength to the observed wavelength.\n",
    "    \"\"\"    \n",
    "    # Plot and Label the emission lines\n",
    "    for emline in emission_line_list:\n",
    "        # Calculate observed wavelength from quasar redshift\n",
    "        observed_wavelength = (1+redshift)*emline['rest_wavelength']\n",
    "        # If the observed wavelength is within the limits of the plot, plot it!\n",
    "        if (observed_wavelength >= np.min(wls)) & (observed_wavelength <= np.max(wls)):\n",
    "            ax.axvline(observed_wavelength, c=emline['label_color'], linestyle='--', lw=2)\n",
    "            ax.axvline(observed_wavelength, c=emline['label_color'], linestyle='--', lw=2)\n",
    "            ax.text(observed_wavelength, 0.98, emline['emline'],\n",
    "                    color=emline['label_color'], rotation=90, ha='right', va='top', fontsize=16,\n",
    "                    transform=ax.get_xaxis_transform())"
   ]
  },
  {
   "cell_type": "markdown",
   "metadata": {},
   "source": [
    "In the next cell, we plot the spectrum again adding these new features."
   ]
  },
  {
   "cell_type": "code",
   "execution_count": null,
   "metadata": {},
   "outputs": [],
   "source": [
    "# Set up spectrum plot\n",
    "fig = plt.figure(figsize=(15, 5))\n",
    "ax1 = plt.subplot2grid((5, 1), (0, 0), colspan=1, rowspan=4)\n",
    "ax2 = plt.subplot2grid((5, 1), (4, 0), colspan=1, rowspan=1)\n",
    "\n",
    "# Open spectrum file\n",
    "eboss_spectrum = fits.open(manifest['Local Path'][0])\n",
    "# Define QSO name\n",
    "eboss_id = f\"{eboss_spectrum[0].header['PLATEID']}-{eboss_spectrum[0].header['MJD']}-{eboss_spectrum[0].header['FIBERID']}\"\n",
    "# Retrieve redshift from SPALL table\n",
    "redshift = eboss_spectrum[2].data['Z'][0] \n",
    "\n",
    "# Define wavelengths\n",
    "wls = 10**eboss_spectrum[1].data['loglam']\n",
    "# Get the observed and model flux from extension 1\n",
    "observed_flux = eboss_spectrum[1].data['flux']\n",
    "model_flux = eboss_spectrum[1].data['model']\n",
    "\n",
    "\n",
    "# Plot the observed spectrum\n",
    "ax1.plot(wls, observed_flux, c='gray', label='Observed Spectrum')\n",
    "# Plot the model spectrum\n",
    "ax1.plot(wls, model_flux, c='k', label='Model Spectrum')\n",
    "# Normalize the flux for the colobar\n",
    "normalized_flux = (model_flux/np.max(model_flux))\n",
    "ax2.pcolormesh(wls, [0, 1], [normalized_flux, normalized_flux],\n",
    "               norm=LogNorm(), cmap='magma')\n",
    "\n",
    "# Plot emission lines\n",
    "plot_emission_lines(ax1, redshift)\n",
    "\n",
    "# Set title and labels\n",
    "ax1.set_title(f\"eBOSS spectrum - {eboss_id}\")\n",
    "# Add redshift to plot\n",
    "ax1.text(0.02, 0.95, f\"z = {str(round(redshift, 2))}\", \n",
    "         fontsize=24, ha='left', va='top', transform=ax1.transAxes)\n",
    "ax2.set_xlabel(r'Wavelength [$\\AA$]')\n",
    "ax2.set_yticks([])\n",
    "ax1.set_ylabel('Flux')\n",
    "ax1.grid() # Add grid lines\n",
    "ax1.legend(loc='upper right') # Add plot legend\n",
    "# Set axes limits\n",
    "ax1.set_xlim(np.min(wls), np.max(wls))\n",
    "ax2.set_xlim(np.min(wls), np.max(wls))\n",
    "ax1.set_ylim(0, np.max(observed_flux))\n",
    "plt.subplots_adjust(hspace=0) # remove space between plots\n",
    "\n",
    "plt.show() # Display Plot"
   ]
  },
  {
   "cell_type": "markdown",
   "metadata": {},
   "source": [
    "The top panel of our figure shows the spectrum as a line plot, where the bottom panel shows it as a color plot. The higher the flux is in the top panel, the brighter yellow color it is in the bottom panel: two different ways of looking at the same spectrum. With this plot, we can see that the three brightest emission lines in this QSO are Lyman-$\\alpha$, C IV and [C III]! "
   ]
  },
  {
   "cell_type": "markdown",
   "metadata": {},
   "source": [
    "## Exploring QSO spectra at different redshift\n",
    "\n",
    "Now that we've demonstrated how to search, download, and plot a quasar spectrum from eBOSS, let's repeat this process and look at several QSOs across cosmic time. Our goal is to explore how different characteristics of quasar spectra evolve over time, from the closest to us (low redshift) to farthest away (high redshift).\n",
    "\n",
    "Here is a list of eBOSS QSOs from a sampling of different redshifts curated for this exercise:"
   ]
  },
  {
   "cell_type": "code",
   "execution_count": null,
   "metadata": {},
   "outputs": [],
   "source": [
    "eboss_qso_list = [\n",
    "    'sdss_eboss_12547-58928-0063', # redshift z = 0.25\n",
    "    'sdss_eboss_12547-58928-0268', # redshift z = 0.49\n",
    "    'sdss_eboss_3846-55327-0212', # z = 0.71\n",
    "    'sdss_eboss_12547-58928-0707', # z = 1.0\n",
    "    'sdss_eboss_12547-58928-0771', # z = 1.23\n",
    "    'sdss_eboss_12547-58928-0178', # z = 1.49\n",
    "    'sdss_eboss_12547-58928-0349', # z =  1.75\n",
    "    'sdss_eboss_12547-58928-0029', # z = 2.04\n",
    "    'sdss_eboss_3586-55181-0080', # z = 2.25\n",
    "    'sdss_eboss_3586-55181-0162', # z = 2.48\n",
    "    'sdss_eboss_3586-55181-0516', # z = 2.75\n",
    "    'sdss_eboss_12547-58928-0478', # z = 2.97\n",
    "    'sdss_eboss_3788-55246-0056', # z = 3.26\n",
    "    'sdss_eboss_3846-55327-0080', # z =  3.49\n",
    "    'sdss_eboss_12547-58928-0484', # z = 3.73\n",
    "    'sdss_eboss_10737-58254-0984', # z = 3.99\n",
    "    'sdss_eboss_7238-56660-0542', # z = 4.27\n",
    "    'sdss_eboss_8789-57358-0092', # z = 4.5 \n",
    "    'sdss_eboss_3588-55184-0548', # z = 4.71\n",
    "    'sdss_eboss_8528-57896-0104', # z = 5.00\n",
    "    'sdss_eboss_10256-58193-0330', # z = 5.26\n",
    "    'sdss_eboss_6782-56602-0526', # z = 5.48\n",
    "    'sdss_eboss_11315-58402-0842', # z = 5.76\n",
    "    'sdss_eboss_6667-56412-0676', # z = 6\n",
    "]"
   ]
  },
  {
   "cell_type": "markdown",
   "metadata": {},
   "source": [
    "For each of these quasars, we will download the spectra using `astroquery.mast` and plot them as a color plot like we did before. Only this time, we are going to plot them all on the same figure to see how quasar spectra change over redshift!"
   ]
  },
  {
   "cell_type": "code",
   "execution_count": null,
   "metadata": {},
   "outputs": [],
   "source": [
    "def get_eboss_qso_spectrum(eboss_obs_id: str):\n",
    "    \"\"\"\n",
    "    Given an eBOSS observation ID, query MAST and download the spectrum using astroquery.mast\n",
    "\n",
    "    Parameters:\n",
    "    =============\n",
    "    eboss_obs_id: str\n",
    "        Name of the target / observation ID to search on.\n",
    "\n",
    "    Returns:\n",
    "    =============\n",
    "    dictionary of...    \n",
    "    \"\"\"\n",
    "    # Query MAST for eBOSS observation\n",
    "    obs_list = Observations.query_criteria(provenance_name='eBOSS', # Query eBOSS data\n",
    "                                           obs_id=eboss_obs_id) # Search for a specific target\n",
    "    \n",
    "    # Retrieve products\n",
    "    products = Observations.get_product_list(obs_list)\n",
    "    # Download spectrum file\n",
    "    manifest = Observations.download_products(products, mrp_only=True)\n",
    "\n",
    "    eboss_spectrum = fits.open(manifest['Local Path'][0])\n",
    "    z = eboss_spectrum[2].data['Z'][0] # redshift from SPALL table\n",
    "    wls = 10**eboss_spectrum[1].data['loglam']\n",
    "    model_flux = eboss_spectrum[1].data['model']\n",
    "    normalized_flux = model_flux/np.max(model_flux)\n",
    "    \n",
    "    # Define a dictionary with the spectrum and other information we want to save\n",
    "    qso_spec = {\n",
    "        \"name\":  f\"eBOSS {eboss_obs_id.split('_')[-1]}\",\n",
    "        \"spectrum_filename\": manifest['Local Path'],\n",
    "        \"redshift\": z,\n",
    "        \"wls\": wls,\n",
    "        \"flux\": normalized_flux,\n",
    "        }\n",
    "\n",
    "    return qso_spec    \n",
    "\n",
    "\n",
    "all_qsos = [get_eboss_qso_spectrum(obs_id) for obs_id in eboss_qso_list]"
   ]
  },
  {
   "cell_type": "code",
   "execution_count": null,
   "metadata": {},
   "outputs": [],
   "source": [
    "fig = plt.figure(figsize=(10, 7))\n",
    "ax = plt.subplot2grid((1, 1), (0, 0))\n",
    "\n",
    "for qso in all_qsos:\n",
    "    # Round to nearest 0.25 in redshift just to align things on a grid\n",
    "    nearest_redshift = round(qso['redshift']*4)/4\n",
    "    plt.pcolormesh(qso['wls'], [nearest_redshift-0.065, nearest_redshift+0.065],\n",
    "                   [qso['flux'], qso['flux']], cmap='magma')\n",
    "\n",
    "# Label emission lines\n",
    "for i, emline in enumerate(emission_line_list):\n",
    "    # Outline the emission lines\n",
    "    all_redshifts = np.array([qso['redshift'] for qso in all_qsos])\n",
    "    wavelength_obs = (1+all_redshifts)*emline['rest_wavelength']\n",
    "    points = plt.scatter(wavelength_obs, all_redshifts,\n",
    "                         lw=2, edgecolor=emline['label_color'],\n",
    "                         marker='h', s=300, facecolor='None', zorder=10)\n",
    "    points.set_path_effects([path_effects.withStroke(linewidth=3, foreground='w')])\n",
    "    \n",
    "    # Add connecting lines\n",
    "    for i in range(len(wavelength_obs)-1):\n",
    "        if (wavelength_obs[i] <= 9800) & ((wavelength_obs[i] >= 3590)):\n",
    "            cp = ConnectionPatch((wavelength_obs[i], all_redshifts[i]), (wavelength_obs[i+1], all_redshifts[i+1]), \n",
    "                                 coordsA='data', coordsB='data', axesA=ax, axesB=ax,\n",
    "                                 color=emline['label_color'],\n",
    "                                 shrinkA=np.sqrt(300)/2, shrinkB=np.sqrt(300)/2,\n",
    "                                 linewidth=2, zorder=1)\n",
    "            cp.set_path_effects([path_effects.withStroke(linewidth=3, foreground='w')])\n",
    "            ax.add_patch(cp)\n",
    "\n",
    "    # Add text for line labels\n",
    "    text = plt.text(wavelength_obs[emline['label_index']], all_redshifts[emline['label_index']]+0.3, emline['emline'],\n",
    "                    c=emline['label_color'], ha='center', va='center', fontsize=16, rotation=emline['label_angle'])\n",
    "    # Add white border for readability\n",
    "    text.set_path_effects([path_effects.withStroke(linewidth=2, foreground='w')])\n",
    "\n",
    "\n",
    "plt.xlim(3596, 10310)\n",
    "plt.ylabel('Redshift (z)')\n",
    "plt.xlabel(r'Wavelength ($\\AA$)')\n",
    "plt.title('eBOSS spectra of QSOs')\n",
    "\n",
    "plt.show()"
   ]
  },
  {
   "cell_type": "markdown",
   "metadata": {},
   "source": [
    "This plot shows 24 different eBOSS spectra in one figure, going from low-reshift (z=0.25) to high-redshift (z=6)! The emission lines are visible in every spectrum, and this figure shows how distance shifts the emissions lines into longer and longer wavelengths! Studying quasars has a broad range of use in astronomical research: because quasars are so luminous, they can be observed at very high redshift and can give scientists insight into distant reaches of the Universe."
   ]
  },
  {
   "cell_type": "markdown",
   "metadata": {},
   "source": [
    "***\n",
    "# Searching for High-Redshift JWST spectra\n",
    "\n",
    "The quasar plot we made with eBOSS spectra is great, but let's push our quasar sample into even higher redshift quasars by using JWST. JWST is an infrared telescope which observes in longer wavelengths than eBOSS (although there is some overlap between them), making it perfect for observing extremely high redshift galaxies.\n",
    "\n",
    "Here is a list of three high-redshift QSOs that have been observed with the NIRSPEC instrument, as part of [JWST Program GO 1222](https://www.stsci.edu/jwst-program-info/program/?program=1222):\n",
    "- VDES J0020–3653 (z = 6.860)\n",
    "- DELS J0411–0907 (z = 6.825)\n",
    "- UHS J0439+1634 (z = 6.519)\n",
    "\n",
    "Let's add these galaxies to our eBOSS plot, to extend our sample to even higher redshift!"
   ]
  },
  {
   "cell_type": "code",
   "execution_count": null,
   "metadata": {},
   "outputs": [],
   "source": [
    "# Search for JWST data\n",
    "jwst_obs_list = Observations.query_criteria(obs_collection='JWST', # Search for JWST data\n",
    "                                            proposal_id='1222', # Search based on program ID\n",
    "                                            dataproduct_type='spectrum', # Limit search to spectra\n",
    "                                            )\n",
    "\n",
    "# Print lenght of results\n",
    "print(f\"Found {len(jwst_obs_list)} results!\")\n",
    "\n",
    "# Display first 5 results\n",
    "jwst_obs_list[:5]"
   ]
  },
  {
   "cell_type": "markdown",
   "metadata": {},
   "source": [
    "There are a lot of results (over 200!), so for convenience here, let's just use two files per galaxy, curated in this list below:"
   ]
  },
  {
   "cell_type": "code",
   "execution_count": null,
   "metadata": {},
   "outputs": [],
   "source": [
    "# Define a list of JWST spectra to add to our plot\n",
    "jwst_spectra = [\n",
    "    {\"name\": \"VDES J0020-3653\",\n",
    "     \"proposal_id\": 1222,\n",
    "     \"redshift\": 6.860,\n",
    "     \"obs1\": \"jw01222-o012_s000000001_nirspec_f170lp-g235h-s200a2-s200a1\",\n",
    "     \"obs2\": \"jw01222-o012_s000000001_nirspec_f070lp-g140h-s200a1-s200a2\"},\n",
    "\n",
    "    {\"name\": \"DELS J0411-0907\",\n",
    "     \"proposal_id\": 1222,\n",
    "     \"redshift\": 6.825,\n",
    "     \"obs1\": \"jw01222-o002_s000000001_nirspec_f170lp-g235h-s200a2-s200a1\",\n",
    "     \"obs2\": \"jw01222-o002_s000000001_nirspec_f070lp-g140h-s200a1-s200a2\",\n",
    "     },\n",
    "\n",
    "    {\"name\": \"UHS J0439+1634\",\n",
    "     \"proposal_id\": 1222,\n",
    "     \"redshift\": 6.519,\n",
    "     \"obs1\": \"jw01222-o011_s000000001_nirspec_f170lp-g235h-s200a1\",\n",
    "     \"obs2\": \"jw01222-o011_s000000001_nirspec_f070lp-g140h-s200a1\",\n",
    "     },\n",
    "]"
   ]
  },
  {
   "cell_type": "markdown",
   "metadata": {},
   "source": [
    "For each of these three galaxies, we will download the JWST spectra and store them in a small dictonary, just like we did for eBOSS."
   ]
  },
  {
   "cell_type": "code",
   "execution_count": null,
   "metadata": {},
   "outputs": [],
   "source": [
    "def get_jwst_qso_spectrum(jwst_spec_dict):\n",
    "    \"\"\"\n",
    "    Given an JWST observation ID, query MAST and download the spectrum using astroquery.mast\n",
    "\n",
    "    Parameters:\n",
    "    =============\n",
    "    jwst_spec_data: dict\n",
    "        Dictionary of object name and observation ids for retreieving the JWST spectra\n",
    "\n",
    "    Returns:\n",
    "    =============\n",
    "    dictionary of...\n",
    "    \"\"\"\n",
    "\n",
    "    z = jwst_spec_dict['redshift']\n",
    "\n",
    "    # Query MAST for JWST observation\n",
    "    obs_list = Observations.query_criteria(obs_collection='JWST', # Search for JWST data\n",
    "                                           obs_id=jwst_spec_dict['obs1'], # Search on obs_id\n",
    "                                           )\n",
    "    # Retrieve products\n",
    "    products_list = Observations.get_product_list(obs_list)\n",
    "    # Filter products to just extracted 1D spectra\n",
    "    products_list = Observations.filter_products(products_list, productType='SCIENCE',\n",
    "                                                 productSubGroupDescription='ANNNN_X1D',\n",
    "                                                 mrp_only=True)\n",
    "    # Download spectrum file\n",
    "    jwst_manifest = Observations.download_products(products_list)\n",
    "    # Open file\n",
    "    jwst_spec = fits.open(jwst_manifest['Local Path'][0])\n",
    "    # Retrieve wavelength and flux from the file\n",
    "    wls = jwst_spec['EXTRACT1D'].data['WAVELENGTH']*10000 # convert microns to Angstroms\n",
    "    observed_flux = jwst_spec['EXTRACT1D'].data['FLUX']\n",
    "    # Normalize the Flux values based on some percentile values\n",
    "    min_flux = np.nanpercentile(observed_flux, 5) # 5th percentile\n",
    "    max_flux = np.nanpercentile(observed_flux, 99.5) # 99th percentile\n",
    "    normalized_flux = (observed_flux-min_flux)/(max_flux-min_flux)\n",
    "\n",
    "    # Do it again for the second obs\n",
    "    obs_list = Observations.query_criteria(obs_collection='JWST', # Search for JWST data\n",
    "                                           obs_id=jwst_spec_dict['obs2']) # Search on obs_id\n",
    "    # Retrieve products\n",
    "    products_list = Observations.get_product_list(obs_list)\n",
    "    # Filter products to just extracted 1D spectra\n",
    "    products_list = Observations.filter_products(products_list, productType='SCIENCE',\n",
    "                                                 productSubGroupDescription='ANNNN_X1D',\n",
    "                                                 mrp_only=True)\n",
    "    # Download spectrum file\n",
    "    jwst_manifest = Observations.download_products(products_list)\n",
    "    # Open file\n",
    "    jwst_spec = fits.open(jwst_manifest['Local Path'][0])\n",
    "    # Retrieve wavelength and flux from the file\n",
    "    wls = np.append(wls, jwst_spec['EXTRACT1D'].data['WAVELENGTH']*10000) # convert microns to Angstroms\n",
    "    observed_flux = jwst_spec['EXTRACT1D'].data['FLUX']\n",
    "    # Normalize the Flux values based on some percentile values\n",
    "    min_flux = np.nanpercentile(observed_flux, 30) # 30th percentile\n",
    "    max_flux = np.nanpercentile(observed_flux, 99.5) # 99th percentile\n",
    "    normalized_flux = np.append(normalized_flux, (observed_flux-min_flux)/(max_flux-min_flux))\n",
    "\n",
    "    # Define a dictionary with the spectrum and other information we want to save\n",
    "    qso_spec = {\n",
    "        \"name\": jwst_spec_dict['name'],\n",
    "        \"redshift\": z,\n",
    "        \"wls\": wls[np.argsort(wls)],\n",
    "        \"flux\": normalized_flux[np.argsort(wls)],\n",
    "        }\n",
    "\n",
    "    return qso_spec   \n",
    "\n",
    "\n",
    "jwst_qsos = [get_jwst_qso_spectrum(j) for j in jwst_spectra]"
   ]
  },
  {
   "cell_type": "markdown",
   "metadata": {},
   "source": [
    "Let's plot one of these, like we did before, to see what it looks like:"
   ]
  },
  {
   "cell_type": "code",
   "execution_count": null,
   "metadata": {},
   "outputs": [],
   "source": [
    "# Set up spectrum plot\n",
    "fig = plt.figure(figsize=(15, 5))\n",
    "ax1 = plt.subplot2grid((5, 1), (0, 0), colspan=1, rowspan=4)\n",
    "ax2 = plt.subplot2grid((5, 1), (4, 0), colspan=1, rowspan=1)\n",
    "\n",
    "qso = jwst_qsos[0]\n",
    "\n",
    "redshift = qso['redshift']\n",
    "# Plot the observed spectrum\n",
    "wls = qso['wls']\n",
    "flux = qso['flux']\n",
    "ax1.plot(wls, flux, c='gray', label='Observed Spectrum')\n",
    "\n",
    "ax2.pcolormesh(wls, [0, 1], [flux, flux],\n",
    "               cmap='magma', vmin=0, vmax=1)\n",
    "\n",
    "# Plot emission lines\n",
    "plot_emission_lines(ax1, redshift)\n",
    "\n",
    "# Set title and labels\n",
    "ax1.set_title(f\"JWST Spectrum - {qso['name']}\")\n",
    "# Add redshift to plot\n",
    "ax1.text(0.02, 0.95, f\"z = {str(round(redshift, 2))}\", \n",
    "         fontsize=24, ha='left', va='top', transform=ax1.transAxes)\n",
    "ax2.set_xlabel(r'Wavelength [$\\AA$]')\n",
    "ax2.set_yticks([])\n",
    "ax1.set_ylabel('Flux')\n",
    "ax1.grid() # Add grid lines\n",
    "ax1.legend(loc='upper right') # Add plot legend\n",
    "# Set axes limits\n",
    "ax1.set_xlim(np.min(qso['wls']), np.max(qso['wls']))\n",
    "ax2.set_xlim(np.min(qso['wls']), np.max(qso['wls']))\n",
    "ax1.set_ylim(0, 1.1)\n",
    "plt.subplots_adjust(hspace=0) # remove space between plots\n",
    "\n",
    "plt.show() # Display Plot"
   ]
  },
  {
   "cell_type": "markdown",
   "metadata": {},
   "source": [
    "Notice how this NIRSPEC spectrum covers a much different wavelength range than eBOSS. eBOSS spectra fall between 3,000 and 10,000 angstroms in visible light. JWST observed between 7,000 and 30,000 Angstroms! The JWST spectrum still has the same strong emission lines (Lyman-$\\alpha$, C-IV and Mg II) that we saw before in the lower-redshift eBOSS quasars, only in infrared wavelengths because this quasar is so far away."
   ]
  },
  {
   "cell_type": "markdown",
   "metadata": {},
   "source": [
    "## Combining eBOSS and JWST Data\n",
    "\n",
    "Now we can recreate our plot from before, adding these JWST spectra as very-high-redshift examples!"
   ]
  },
  {
   "cell_type": "code",
   "execution_count": null,
   "metadata": {},
   "outputs": [],
   "source": [
    "fig = plt.figure(figsize=(10, 7))\n",
    "ax = plt.subplot2grid((1, 1), (0, 0))\n",
    "\n",
    "for qso in jwst_qsos:\n",
    "    # Round to nearest 0.25 in redshift just to align things on a grid\n",
    "    nearest_redshift = round(qso['redshift']*4+0.1)/4\n",
    "    plt.pcolormesh(qso['wls'], [nearest_redshift-0.07, nearest_redshift+0.07],\n",
    "                   [qso['flux'], qso['flux']], cmap='magma', vmin=0, vmax=1)\n",
    "    plt.text(np.min(qso['wls']-100), nearest_redshift, f\"JWST {qso['name']}\", va='center', ha='right', fontsize=8)\n",
    "\n",
    "\n",
    "for qso in all_qsos:\n",
    "    # Round to nearest 0.25 in redshift just to align things on a grid\n",
    "    nearest_redshift = round(qso['redshift']*4)/4\n",
    "    plt.pcolormesh(qso['wls'], [nearest_redshift-0.07, nearest_redshift+0.07],\n",
    "                   [qso['flux'], qso['flux']], cmap='magma', vmin=0, vmax=1)\n",
    "    plt.text(10400, nearest_redshift, qso[\"name\"], va='center', ha='left', fontsize=8)\n",
    "\n",
    "all_redshifts = np.array([qso['redshift'] for qso in all_qsos+jwst_qsos])\n",
    "wl_limits = np.array([np.max(qso['wls']) for qso in all_qsos+jwst_qsos])\n",
    "wl_limits[wl_limits > 12500] = 12500\n",
    "\n",
    "# Label and annotate emission lines\n",
    "for i, emline in enumerate(emission_line_list):\n",
    "    # Calculate observed wavelength for redshift\n",
    "    wavelength_obs = (1+all_redshifts)*emline['rest_wavelength']\n",
    "    # Limit the points to those within the wavelength range of each spectrum\n",
    "    point_mask = (wavelength_obs <= wl_limits) & (wavelength_obs >= 3500)\n",
    "    # Plot the points\n",
    "    points = plt.scatter(wavelength_obs[point_mask], [round(z*4+0.1)/4 for z in all_redshifts[point_mask]],\n",
    "                         lw=1, edgecolor=emline['label_color'],\n",
    "                         marker='h', s=300, facecolor='None', zorder=2)\n",
    "    points.set_path_effects([path_effects.withStroke(linewidth=2, foreground='w')])\n",
    "    # Add connecting lines between the points\n",
    "    for i in range(len(wavelength_obs[point_mask])-1):\n",
    "        cp = ConnectionPatch((wavelength_obs[point_mask][i], all_redshifts[point_mask][i]),\n",
    "                             (wavelength_obs[point_mask][i+1], all_redshifts[point_mask][i+1]), \n",
    "                             coordsA='data', coordsB='data', axesA=ax, axesB=ax,\n",
    "                             color=emline['label_color'], shrinkA=10, shrinkB=10,\n",
    "                             linewidth=1, zorder=1)\n",
    "        cp.set_path_effects([path_effects.withStroke(linewidth=2, foreground='w')])\n",
    "        ax.add_patch(cp)\n",
    "\n",
    "    # Add text for line labels\n",
    "    text_coord_x = wavelength_obs[emline['label_index']]-550\n",
    "    text_coord_y = all_redshifts[emline['label_index']]+0.075\n",
    "    text = plt.text(text_coord_x, text_coord_y, emline['emline'],\n",
    "                    c=emline['label_color'], ha='center', va='center',\n",
    "                    fontsize=16, rotation=emline['label_angle'])\n",
    "    # Add white border for readability\n",
    "    text.set_path_effects([path_effects.withStroke(linewidth=2, foreground='w')])\n",
    "\n",
    "#plt.xlim(3596, 24000)\n",
    "plt.xlim(3596, 12500)\n",
    "plt.ylabel('Redshift (z)')\n",
    "plt.xlabel(r'Wavelength ($\\AA$)')\n",
    "plt.title('Quasar Emission Lines Across Redshift - JWST and eBOSS')\n",
    "\n",
    "plt.show()"
   ]
  },
  {
   "cell_type": "markdown",
   "metadata": {},
   "source": [
    "***\n",
    "Congratulations! You have reached the end of this tutorial notebook. You have learned how to access and download eBOSS data from MAST, and combine it with NIRSPEC observations to characterize quasar spectra across cosmic time."
   ]
  },
  {
   "cell_type": "markdown",
   "metadata": {},
   "source": [
    "# Additional Resources\n",
    "\n",
    "Additional resources are linked below:\n",
    "\n",
    "- [SDSS Legacy Archive at MAST](https://archive.stsci.edu/missions-and-data/sdss)\n",
    "- [SDSS Legacy Archive at MAST User Manual](https://outerspace.stsci.edu/display/SDSS/The+SDSS+Legacy+Archive+at+MAST)\n",
    "- [SDSS-IV eBOSS Survey](https://www.sdss4.org/surveys/eboss/)\n",
    "- [astroquery.mast User Manual](https://astroquery.readthedocs.io/en/latest/mast/mast.html)\n",
    "- [MAST API](https://mast.stsci.edu/api/v0/index.html)\n"
   ]
  },
  {
   "cell_type": "markdown",
   "metadata": {},
   "source": [
    "## Citations\n",
    "\n",
    "If you use eBOSS data for published research, see the following links for information on which citations to include in your paper:\n",
    "\n",
    "* [Citing SDSS](https://sdss.org/collaboration/citing-sdss/)\n",
    "* [Citing MAST](https://archive.stsci.edu/publishing/mission-acknowledgements)\n",
    "* [Citing astropy](https://www.astropy.org/acknowledging.html)\n"
   ]
  },
  {
   "cell_type": "markdown",
   "metadata": {
    "slideshow": {
     "slide_type": "slide"
    }
   },
   "source": [
    "## About this Notebook\n",
    "\n",
    "**Author(s):** Julie Imig (jimig@stsci.edu) <br>\n",
    "**Keyword(s):** Tutorial, SDSS, eBOSS, JWST, QSO, quasar <br>\n",
    "**First published:** March 2025 <br>\n",
    "**Last updated:** March 2025 <br>\n",
    "\n",
    "***\n",
    "[Top of Page](#top)\n",
    "<img style=\"float: right;\" src=\"https://raw.githubusercontent.com/spacetelescope/style-guides/master/guides/images/stsci-logo.png\" alt=\"Space Telescope Logo\" width=\"200px\"/> "
   ]
  }
 ],
 "metadata": {
  "kernelspec": {
   "display_name": "sdss",
   "language": "python",
   "name": "python3"
  },
  "language_info": {
   "codemirror_mode": {
    "name": "ipython",
    "version": 3
   },
   "file_extension": ".py",
   "mimetype": "text/x-python",
   "name": "python",
   "nbconvert_exporter": "python",
   "pygments_lexer": "ipython3",
   "version": "3.11.10"
  }
 },
 "nbformat": 4,
 "nbformat_minor": 4
}
